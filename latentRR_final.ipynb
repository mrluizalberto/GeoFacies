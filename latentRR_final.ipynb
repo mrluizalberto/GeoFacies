{
 "metadata": {
  "name": "",
  "signature": "sha256:59c35da5ae1c4b3131f45b6f3aae70623b0bdbfa351b5ebe3aafde90b19271bc"
 },
 "nbformat": 3,
 "nbformat_minor": 0,
 "worksheets": [
  {
   "cells": [
    {
     "cell_type": "code",
     "collapsed": false,
     "input": [
      "%run 'volume.ipynb'"
     ],
     "language": "python",
     "metadata": {},
     "outputs": [
      {
       "output_type": "stream",
       "stream": "stdout",
       "text": [
        "Using matplotlib backend: Qt4Agg\n"
       ]
      }
     ],
     "prompt_number": 237
    },
    {
     "cell_type": "code",
     "collapsed": false,
     "input": [
      "import os\n",
      "import sys\n",
      "import scipy as sp\n",
      "import numpy as np\n",
      "import math\n",
      "import struct\n",
      "import random\n",
      "import copy\n",
      "import matplotlib.pyplot as plt\n",
      "import pylab as pl\n",
      "import filecmp\n",
      "import cvxopt as co\n",
      "import sklearn.cluster as cl\n",
      "from numpy import unravel_index\n",
      "from sklearn.svm import SVR\n",
      "from sklearn import preprocessing\n",
      "from sklearn.metrics import mean_squared_error, r2_score, mean_absolute_error\n",
      "from latent_svr import LatentSvr\n",
      "from latent_ridge import LatentRidgeRegression\n",
      "from latent_multiclass_regression_map import LatentMulticlassRegressionMap\n",
      "from kmeans_rr import KmeansRidgeRegression\n",
      "from sklearn import metrics"
     ],
     "language": "python",
     "metadata": {},
     "outputs": [],
     "prompt_number": 238
    },
    {
     "cell_type": "code",
     "collapsed": false,
     "input": [
      "%matplotlib inline"
     ],
     "language": "python",
     "metadata": {},
     "outputs": [],
     "prompt_number": 239
    },
    {
     "cell_type": "code",
     "collapsed": false,
     "input": [
      "# Define score function (RMS)\n",
      "def score_rms(y_true, y_pred):\n",
      "    return math.sqrt(mean_squared_error(y_true,y_pred))"
     ],
     "language": "python",
     "metadata": {},
     "outputs": [],
     "prompt_number": 240
    },
    {
     "cell_type": "code",
     "collapsed": false,
     "input": [
      "# Define score function (R^2) and evaluate for any y than a threshold value\n",
      "def score_R2(y_true, y_pred, thrsd):\n",
      "    y_t = y_true[y_true >= thrsd]\n",
      "    y_p = y_pred[y_true >= thrsd]\n",
      "    u = ((y_t - y_p) ** 2).sum()\n",
      "    v = ((y_t - y_true.mean()) ** 2).sum()\n",
      "    return (1 - u/v)"
     ],
     "language": "python",
     "metadata": {},
     "outputs": [],
     "prompt_number": 241
    },
    {
     "cell_type": "code",
     "collapsed": false,
     "input": [
      "def calc_error(truth, preds):\n",
      "    # return root_mean_squared_error(truth, preds)\n",
      "    return mean_absolute_error(truth, preds)\n",
      "    # return r2_score(truth, preds)"
     ],
     "language": "python",
     "metadata": {},
     "outputs": [],
     "prompt_number": 242
    },
    {
     "cell_type": "code",
     "collapsed": false,
     "input": [
      "# Get the n minimum values and respective indexes of a numpy array\n",
      "def n_min(arr, n):\n",
      "    indices = arr.ravel().argsort()[:n]\n",
      "    indices = (np.unravel_index(i, arr.shape) for i in indices)\n",
      "    return [(arr[i], i) for i in indices]"
     ],
     "language": "python",
     "metadata": {},
     "outputs": [],
     "prompt_number": 243
    },
    {
     "cell_type": "code",
     "collapsed": false,
     "input": [
      "# Plot an image\n",
      "def plot_image(mat):\n",
      "\n",
      "    # Define a color table\n",
      "    colorTable = ((0,0,0,0),\n",
      "              (0,0,255,255), (0,85,255,255), (0,85,255,255),\n",
      "              (0,127,255,255), (0,127,255,255), (0,170,255,255), (0,170,255,255), (0,212,255,255),\n",
      "              (0,233,255,255), (0,255,255,255), (0,255,200,255), (0,255,145,255), (0,255,63,255),\n",
      "              (0,255,49,255), (0,255,36,255), (0,255,0,255), (72,255,0,255), (99,255,0,255),\n",
      "              (109,255,0,255), (145,255,0,255), (182,255,0,255), (218,255,0,255), (255,255,0,255),\n",
      "              (255,233,0,255), (255,212,0,255), (255,191,0,255), (255,180,0,255), (255,170,0,255),\n",
      "              (255,148,0,255), (255,137,0,255), (255,106,0,255), (255,53,0,255), (255,0,0,255),\n",
      "              (255,0,109,255), (255,11,218,255), (255,255,0,255))\n",
      "    \n",
      "    # Get image dimensions\n",
      "    (x,y) = mat.shape\n",
      "    \n",
      "    # Get the maximum and minimum values\n",
      "    minValue = np.amin(mat)\n",
      "    maxValue = np.amax(mat)\n",
      "\n",
      "    # Define min and max color indexes\n",
      "    minIndex = 1\n",
      "    maxIndex = 36\n",
      "    \n",
      "    # Generate the color index volume\n",
      "    img_color = np.zeros((x,y), dtype=int)\n",
      "    img_color = np.round((mat-minValue)/(maxValue-minValue)*(maxIndex-minIndex)+minIndex).astype(int)\n",
      "        \n",
      "    # Create and display image\n",
      "    img = Image.new( 'RGBA', (x,y), \"white\") # create a new white image\n",
      "    pixels = img.load() # create the pixel map\n",
      "\n",
      "    for i in range(img.size[0]):  # for every pixel\n",
      "        for j in range(img.size[1]):\n",
      "            pixels[i,j] = (colorTable[img_color[i,j]][0], \n",
      "                           colorTable[img_color[i,j]][1], \n",
      "                           colorTable[img_color[i,j]][2], \n",
      "                           colorTable[img_color[i,j]][3])\n",
      "    imshow(np.array(img), origin='lower')"
     ],
     "language": "python",
     "metadata": {},
     "outputs": [],
     "prompt_number": 244
    },
    {
     "cell_type": "code",
     "collapsed": false,
     "input": [
      "# Set the default path\n",
      "os.chdir(\"/home/lual/Doutorado/GeoFacies\")"
     ],
     "language": "python",
     "metadata": {},
     "outputs": [],
     "prompt_number": 245
    },
    {
     "cell_type": "code",
     "collapsed": false,
     "input": [
      "# Load ip and porosity volumes\n",
      "ip = Vol()\n",
      "phi = Vol()\n",
      "facies = Vol()\n",
      "phi.read(\"phi_8_100x130x1.vol\")\n",
      "ip.read(\"ip_8_100x130x1.vol\")\n",
      "facies.read(\"facies_8_100x130x1.vol\")"
     ],
     "language": "python",
     "metadata": {},
     "outputs": [],
     "prompt_number": 246
    },
    {
     "cell_type": "code",
     "collapsed": false,
     "input": [
      "# Create porosity, facies and latent image matrices\n",
      "lats_mat = np.zeros((facies.sizeX,facies.sizeY))\n",
      "facies_mat = facies.data.reshape(facies.sizeY,facies.sizeX).T\n",
      "ip_mat = ip.data.reshape(ip.sizeY,ip.sizeX).T"
     ],
     "language": "python",
     "metadata": {},
     "outputs": [],
     "prompt_number": 247
    },
    {
     "cell_type": "code",
     "collapsed": false,
     "input": [
      "# Set the training and testing well sets\n",
      "locXY_labeled = []\n",
      "locXY_unlabeled = []\n",
      "for i in range(ip.sizeX): \n",
      "    for j in range(ip.sizeY):\n",
      "        locXY_unlabeled.append((i,j))"
     ],
     "language": "python",
     "metadata": {},
     "outputs": [],
     "prompt_number": 248
    },
    {
     "cell_type": "code",
     "collapsed": false,
     "input": [
      "# Get top and base Z locations of the reservoir\n",
      "#resTop = ip.getResTop()\n",
      "#resBase = ip.getResBase()"
     ],
     "language": "python",
     "metadata": {},
     "outputs": [],
     "prompt_number": 249
    },
    {
     "cell_type": "code",
     "collapsed": false,
     "input": [
      "# Set the training and testing well sets\n",
      "locXY_labeled = []\n",
      "locXY_unlabeled = []\n",
      "X_train = np.ones(())\n",
      "y_train_list = []\n",
      "for i in range(ip.sizeX): \n",
      "    for j in range(ip.sizeY):\n",
      "        locXY_unlabeled.append((i,j))\n",
      "\n",
      "# Make sure that the sample data is part of the training set\n",
      "f_name = \"sample_data_ip.dat\"\n",
      "with open(f_name) as f:\n",
      "    lines = f.readlines()[6:]\n",
      "    n_lines = len(lines)\n",
      "for i in range(n_lines):\n",
      "    x, y, foo, foo = lines[i].split()\n",
      "    x = int(x)\n",
      "    y = int(y)\n",
      "    if (x,y) in locXY_unlabeled:\n",
      "        locXY_labeled.append((x,y))\n",
      "        locXY_unlabeled.remove((x,y))\n",
      "\n",
      "# Now randomly choose the other training samples\n",
      "n = int(len(locXY_unlabeled)*0.15)\n",
      "\n",
      "for i in range(n):\n",
      "    n_elm = len(locXY_unlabeled)\n",
      "    elm = random.randint(0,n_elm-1)\n",
      "    x = locXY_unlabeled[elm][0]\n",
      "    y = locXY_unlabeled[elm][1]\n",
      "    locXY_labeled.append((x,y))\n",
      "    locXY_unlabeled.remove((x,y))"
     ],
     "language": "python",
     "metadata": {},
     "outputs": [],
     "prompt_number": 250
    },
    {
     "cell_type": "code",
     "collapsed": false,
     "input": [
      "# Build the training set\n",
      "X_train_list = []\n",
      "y_train_list = []\n",
      "facies_train_list = []\n",
      "\n",
      "n = len(locXY_labeled)\n",
      "for k in range(n):\n",
      "    x = locXY_labeled[k][0]\n",
      "    y = locXY_labeled[k][1]\n",
      "    for i in range(ip.sizeZ):\n",
      "        if i >= resTop[x,y] and i <= resBase[x,y]:\n",
      "            X = []\n",
      "            Y = []\n",
      "            X.append(ip.data[i,y,x])\n",
      "            Y.append(phi.data[i,y,x])                  \n",
      "            X_train_list.append(X)\n",
      "            y_train_list.append(Y)\n",
      "            facies_train_list.append(int(facies.data[i,y,x]))\n",
      "            lats_mat[x,y] = facies.data[i,y,x]\n",
      "        \n",
      "X_train = np.array(X_train_list)\n",
      "scalerX = preprocessing.StandardScaler().fit(X_train)\n",
      "X_train = scalerX.transform(X_train)\n",
      "y_train = np.concatenate(np.array(y_train_list))\n",
      "scalerY = preprocessing.StandardScaler().fit(y_train)\n",
      "y_train = scalerY.transform(y_train)\n",
      "facies_train = np.array(facies_train_list)\n",
      "\n",
      "# Add column filled with \"1\"s (for the intercept)\n",
      "X_train = X_train.reshape(-1,1)\n",
      "y_train = y_train.reshape(-1,1)\n",
      "aux = np.ones((X_train.shape[0],1))\n",
      "X_train = np.hstack((X_train,aux))\n",
      "print X_train.shape"
     ],
     "language": "python",
     "metadata": {},
     "outputs": [
      {
       "output_type": "stream",
       "stream": "stdout",
       "text": [
        "(2084, 2)\n"
       ]
      }
     ],
     "prompt_number": 251
    },
    {
     "cell_type": "code",
     "collapsed": false,
     "input": [
      "# Build the testing set\n",
      "X_test_list = []\n",
      "y_test_list = []\n",
      "facies_test_list = []\n",
      "n = len(locXY_unlabeled)\n",
      "for k in range(n):\n",
      "    x = locXY_unlabeled[k][0]\n",
      "    y = locXY_unlabeled[k][1]\n",
      "    for i in range(ip.sizeZ):\n",
      "        if i >= resTop[x,y] and i <= resBase[x,y]:\n",
      "            X = []\n",
      "            Y = []\n",
      "            X.append(ip.data[i,y,x])\n",
      "            Y.append(phi.data[i,y,x])                 \n",
      "            X_test_list.append(X)\n",
      "            y_test_list.append(Y)\n",
      "            facies_test_list.append(int(facies.data[i,y,x]))\n",
      "    \n",
      "X_test = np.array(X_test_list)\n",
      "X_test = scalerX.transform(X_test)\n",
      "y_test = np.concatenate(np.array(y_test_list))\n",
      "y_test = scalerY.transform(y_test)\n",
      "facies_test = np.array(facies_test_list)\n",
      "\n",
      "# Add column filled with \"1\"s (for the intercept)\n",
      "X_test = X_test.reshape(-1,1)\n",
      "y_test = y_test.reshape(-1,1)\n",
      "aux = np.ones((X_test.shape[0], 1))\n",
      "X_test = np.hstack((X_test,aux))\n",
      "print X_test.shape"
     ],
     "language": "python",
     "metadata": {},
     "outputs": [
      {
       "output_type": "stream",
       "stream": "stdout",
       "text": [
        "(10916, 2)\n"
       ]
      }
     ],
     "prompt_number": 252
    },
    {
     "cell_type": "code",
     "collapsed": false,
     "input": [
      "# Define some variables\n",
      "feats = X_train.shape[1]\n",
      "states = 2"
     ],
     "language": "python",
     "metadata": {},
     "outputs": [],
     "prompt_number": 253
    },
    {
     "cell_type": "code",
     "collapsed": false,
     "input": [
      "# Train ordinary ridge regression\n",
      "E = np.zeros((feats, feats))\n",
      "np.fill_diagonal(E, 0.00001)\n",
      "XXt = X_train.T.dot(X_train) + E\n",
      "XtY = (X_train.T.dot(y_train))\n",
      "w = np.linalg.inv(XXt).dot(XtY)\n",
      "y_pred_rr = w.T.dot(X_test.T).T\n",
      "rr_mse = calc_error(y_test, y_pred_rr)"
     ],
     "language": "python",
     "metadata": {},
     "outputs": [],
     "prompt_number": 254
    },
    {
     "cell_type": "code",
     "collapsed": false,
     "input": [
      "# Train ordinary support vector regression\n",
      "clf = SVR(C=1.0, epsilon=0.1, kernel='linear', shrinking=False)\n",
      "clf.fit(X_train, y_train.reshape(-1,))\n",
      "y_pred_svr = clf.predict(X_test)\n",
      "svr_mse = calc_error(y_test, y_pred_svr)"
     ],
     "language": "python",
     "metadata": {},
     "outputs": [],
     "prompt_number": 255
    },
    {
     "cell_type": "code",
     "collapsed": false,
     "input": [
      "# Set train and test data format for latent ridge and svr estimations\n",
      "train_mc = LatentMulticlassRegressionMap(co.matrix(X_train.T), classes=states, y=co.matrix(y_train))\n",
      "test_mc = LatentMulticlassRegressionMap(co.matrix(X_test.T), classes=states)"
     ],
     "language": "python",
     "metadata": {},
     "outputs": [
      {
       "output_type": "stream",
       "stream": "stdout",
       "text": [
        "Creating structured object with #2084 examples and #2 features.\n",
        "Creating structured object with #10916 examples and #2 features.\n"
       ]
      }
     ],
     "prompt_number": 256
    },
    {
     "cell_type": "code",
     "collapsed": false,
     "input": [
      "# train latent support vector regression\n",
      "lsvr = LatentRidgeRegression(train_mc, l=0.00001, gamma=0.1)\n",
      "(_, train_lats) = lsvr.train_dc(max_iter=200)\n",
      "(y_pred_lrr, lats) = lsvr.apply(test_mc)\n",
      "y_pred_lrr = np.array(y_pred_lrr)[:, 0]\n",
      "lats = np.array(lats)\n",
      "lrr_mse = calc_error(y_test, y_pred_lrr)\n",
      "print 'LatentRR  mse: ', lrr_mse"
     ],
     "language": "python",
     "metadata": {},
     "outputs": [
      {
       "output_type": "stream",
       "stream": "stdout",
       "text": [
        "Generate a random solution vector for hot start.\n",
        "Generate a random solution vector for hot start.\n",
        "Iter=0 combined objective=745.87 rel=1340718.2909"
       ]
      },
      {
       "output_type": "stream",
       "stream": "stdout",
       "text": [
        "\n",
        "[0 1]\n",
        "Iter=1 combined objective=1007.91 rel=0.2600"
       ]
      },
      {
       "output_type": "stream",
       "stream": "stdout",
       "text": [
        "\n",
        "[0 1]\n",
        "Iter=2 combined objective=1743.31 rel=0.4218"
       ]
      },
      {
       "output_type": "stream",
       "stream": "stdout",
       "text": [
        "\n",
        "[0 1]\n",
        "Iter=3 combined objective=1848.67 rel=0.0570"
       ]
      },
      {
       "output_type": "stream",
       "stream": "stdout",
       "text": [
        "\n",
        "[0 1]\n",
        "Iter=4 combined objective=1866.99 rel=0.0098"
       ]
      },
      {
       "output_type": "stream",
       "stream": "stdout",
       "text": [
        "\n",
        "[0 1]\n",
        "Iter=5 combined objective=1866.99 rel=0.0000"
       ]
      },
      {
       "output_type": "stream",
       "stream": "stdout",
       "text": [
        "\n",
        "[0 1]\n",
        "Generate a random solution vector for hot start.\n",
        "Generate a random solution vector for hot start.\n",
        "Iter=0 combined objective=1026.89 rel=973809.9488"
       ]
      },
      {
       "output_type": "stream",
       "stream": "stdout",
       "text": [
        "\n",
        "[0 1]\n",
        "Iter=1 combined objective=1232.39 rel=0.1667"
       ]
      },
      {
       "output_type": "stream",
       "stream": "stdout",
       "text": [
        "\n",
        "[0 1]\n",
        "Iter=2 combined objective=1832.04 rel=0.3273"
       ]
      },
      {
       "output_type": "stream",
       "stream": "stdout",
       "text": [
        "\n",
        "[0 1]\n",
        "Iter=3 combined objective=2035.78 rel=0.1001"
       ]
      },
      {
       "output_type": "stream",
       "stream": "stdout",
       "text": [
        "\n",
        "[0 1]\n",
        "Iter=4 combined objective=2053.65 rel=0.0087"
       ]
      },
      {
       "output_type": "stream",
       "stream": "stdout",
       "text": [
        "\n",
        "[0 1]\n",
        "Iter=5 combined objective=2055.01 rel=0.0007"
       ]
      },
      {
       "output_type": "stream",
       "stream": "stdout",
       "text": [
        "\n",
        "[0 1]\n",
        "Iter=6 combined objective=2055.01 rel=0.0000"
       ]
      },
      {
       "output_type": "stream",
       "stream": "stdout",
       "text": [
        "\n",
        "[0 1]\n",
        "Generate a random solution vector for hot start.\n",
        "Generate a random solution vector for hot start.\n",
        "Iter=0 combined objective=1467.05 rel=681636.7208"
       ]
      },
      {
       "output_type": "stream",
       "stream": "stdout",
       "text": [
        "\n",
        "[0 1]\n",
        "Iter=1 combined objective=1652.24 rel=0.1121"
       ]
      },
      {
       "output_type": "stream",
       "stream": "stdout",
       "text": [
        "\n",
        "[0 1]\n",
        "Iter=2 combined objective=1772.38 rel=0.0678"
       ]
      },
      {
       "output_type": "stream",
       "stream": "stdout",
       "text": [
        "\n",
        "[0 1]\n",
        "Iter=3 combined objective=1931.83 rel=0.0825"
       ]
      },
      {
       "output_type": "stream",
       "stream": "stdout",
       "text": [
        "\n",
        "[0 1]\n",
        "Iter=4 combined objective=2065.41 rel=0.0647"
       ]
      },
      {
       "output_type": "stream",
       "stream": "stdout",
       "text": [
        "\n",
        "[0 1]\n",
        "Iter=5 combined objective=2055.01 rel=0.0051"
       ]
      },
      {
       "output_type": "stream",
       "stream": "stdout",
       "text": [
        "\n",
        "[0 1]\n",
        "Iter=6 combined objective=2055.01 rel=0.0000"
       ]
      },
      {
       "output_type": "stream",
       "stream": "stdout",
       "text": [
        "\n",
        "[0 1]\n",
        "Generate a random solution vector for hot start.\n",
        "Generate a random solution vector for hot start.\n",
        "Iter=0 combined objective=1841.03 rel=543174.2022"
       ]
      },
      {
       "output_type": "stream",
       "stream": "stdout",
       "text": [
        "\n",
        "[0 1]\n",
        "Iter=1 combined objective=1964.43 rel=0.0628"
       ]
      },
      {
       "output_type": "stream",
       "stream": "stdout",
       "text": [
        "\n",
        "[0 1]\n",
        "Iter=2 combined objective=1973.35 rel=0.0045"
       ]
      },
      {
       "output_type": "stream",
       "stream": "stdout",
       "text": [
        "\n",
        "[0 1]\n",
        "Iter=3 combined objective=1973.35 rel=0.0000"
       ]
      },
      {
       "output_type": "stream",
       "stream": "stdout",
       "text": [
        "\n",
        "[0 1]\n",
        "Iter=4 combined objective=1973.35 rel=0.0000"
       ]
      },
      {
       "output_type": "stream",
       "stream": "stdout",
       "text": [
        "\n",
        "[0 1]\n",
        "Generate a random solution vector for hot start.\n",
        "Generate a random solution vector for hot start.\n",
        "Iter=0 combined objective=958.87 rel=1042897.7171"
       ]
      },
      {
       "output_type": "stream",
       "stream": "stdout",
       "text": [
        "\n",
        "[0 1]\n",
        "Iter=1 combined objective=1046.78 rel=0.0840"
       ]
      },
      {
       "output_type": "stream",
       "stream": "stdout",
       "text": [
        "\n",
        "[0 1]\n",
        "Iter=2 combined objective=1372.45 rel=0.2373"
       ]
      },
      {
       "output_type": "stream",
       "stream": "stdout",
       "text": [
        "\n",
        "[0 1]\n",
        "Iter=3 combined objective=1838.35 rel=0.2534"
       ]
      },
      {
       "output_type": "stream",
       "stream": "stdout",
       "text": [
        "\n",
        "[0 1]\n",
        "Iter=4 combined objective=1876.86 rel=0.0205"
       ]
      },
      {
       "output_type": "stream",
       "stream": "stdout",
       "text": [
        "\n",
        "[0 1]\n",
        "Iter=5 combined objective=1876.86 rel=0.0000"
       ]
      },
      {
       "output_type": "stream",
       "stream": "stdout",
       "text": [
        "\n",
        "[0 1]\n",
        "Generate a random solution vector for hot start.\n",
        "Generate a random solution vector for hot start.\n",
        "Iter=0 combined objective=1625.66 rel=615134.3492"
       ]
      },
      {
       "output_type": "stream",
       "stream": "stdout",
       "text": [
        "\n",
        "[0 1]\n",
        "Iter=1 combined objective=1815.93 rel=0.1048"
       ]
      },
      {
       "output_type": "stream",
       "stream": "stdout",
       "text": [
        "\n",
        "[0 1]\n",
        "Iter=2 combined objective=1971.59 rel=0.0790"
       ]
      },
      {
       "output_type": "stream",
       "stream": "stdout",
       "text": [
        "\n",
        "[0 1]\n",
        "Iter=3 combined objective=1973.35 rel=0.0009"
       ]
      },
      {
       "output_type": "stream",
       "stream": "stdout",
       "text": [
        "\n",
        "[0 1]\n",
        "Iter=4 combined objective=1973.35 rel=0.0000"
       ]
      },
      {
       "output_type": "stream",
       "stream": "stdout",
       "text": [
        "\n",
        "[0 1]\n",
        "Generate a random solution vector for hot start.\n",
        "Generate a random solution vector for hot start.\n",
        "Iter=0 combined objective=1495.09 rel=668854.5361"
       ]
      },
      {
       "output_type": "stream",
       "stream": "stdout",
       "text": [
        "\n",
        "[0 1]\n",
        "Iter=1 combined objective=1776.06 rel=0.1582"
       ]
      },
      {
       "output_type": "stream",
       "stream": "stdout",
       "text": [
        "\n",
        "[0 1]\n",
        "Iter=2 combined objective=1913.85 rel=0.0720"
       ]
      },
      {
       "output_type": "stream",
       "stream": "stdout",
       "text": [
        "\n",
        "[0 1]\n",
        "Iter=3 combined objective=2013.46 rel=0.0495"
       ]
      },
      {
       "output_type": "stream",
       "stream": "stdout",
       "text": [
        "\n",
        "[0 1]\n",
        "Iter=4 combined objective=2065.78 rel=0.0253"
       ]
      },
      {
       "output_type": "stream",
       "stream": "stdout",
       "text": [
        "\n",
        "[0 1]\n",
        "Iter=5 combined objective=2074.62 rel=0.0043"
       ]
      },
      {
       "output_type": "stream",
       "stream": "stdout",
       "text": [
        "\n",
        "[0 1]\n",
        "Iter=6 combined objective=2065.80 rel=0.0043"
       ]
      },
      {
       "output_type": "stream",
       "stream": "stdout",
       "text": [
        "\n",
        "[0 1]\n",
        "Iter=7 combined objective=2065.80 rel=0.0000"
       ]
      },
      {
       "output_type": "stream",
       "stream": "stdout",
       "text": [
        "\n",
        "[0 1]\n",
        "Generate a random solution vector for hot start.\n",
        "Generate a random solution vector for hot start.\n",
        "Iter=0 combined objective=1360.88 rel=734820.2477"
       ]
      },
      {
       "output_type": "stream",
       "stream": "stdout",
       "text": [
        "\n",
        "[0 1]\n",
        "Iter=1 combined objective=1760.80 rel=0.2271"
       ]
      },
      {
       "output_type": "stream",
       "stream": "stdout",
       "text": [
        "\n",
        "[0 1]\n",
        "Iter=2 combined objective=1866.93 rel=0.0568"
       ]
      },
      {
       "output_type": "stream",
       "stream": "stdout",
       "text": [
        "\n",
        "[0 1]\n",
        "Iter=3 combined objective=1850.75 rel=0.0087"
       ]
      },
      {
       "output_type": "stream",
       "stream": "stdout",
       "text": [
        "\n",
        "[0 1]\n",
        "Iter=4 combined objective=1845.56 rel=0.0028"
       ]
      },
      {
       "output_type": "stream",
       "stream": "stdout",
       "text": [
        "\n",
        "[0 1]\n",
        "Iter=5 combined objective=1868.83 rel=0.0125"
       ]
      },
      {
       "output_type": "stream",
       "stream": "stdout",
       "text": [
        "\n",
        "[0 1]\n",
        "Iter=6 combined objective=1866.99 rel=0.0010"
       ]
      },
      {
       "output_type": "stream",
       "stream": "stdout",
       "text": [
        "\n",
        "[0 1]\n",
        "Iter=7 combined objective=1866.99 rel=0.0000"
       ]
      },
      {
       "output_type": "stream",
       "stream": "stdout",
       "text": [
        "\n",
        "[0 1]\n",
        "Generate a random solution vector for hot start.\n",
        "Generate a random solution vector for hot start.\n",
        "Iter=0 combined objective=952.20 rel=1050198.9648"
       ]
      },
      {
       "output_type": "stream",
       "stream": "stdout",
       "text": [
        "\n",
        "[0 1]\n",
        "Iter=1 combined objective=1137.34 rel=0.1628"
       ]
      },
      {
       "output_type": "stream",
       "stream": "stdout",
       "text": [
        "\n",
        "[0 1]\n",
        "Iter=2 combined objective=1726.05 rel=0.3411"
       ]
      },
      {
       "output_type": "stream",
       "stream": "stdout",
       "text": [
        "\n",
        "[0 1]\n",
        "Iter=3 combined objective=1857.68 rel=0.0709"
       ]
      },
      {
       "output_type": "stream",
       "stream": "stdout",
       "text": [
        "\n",
        "[0 1]\n",
        "Iter=4 combined objective=1866.99 rel=0.0050"
       ]
      },
      {
       "output_type": "stream",
       "stream": "stdout",
       "text": [
        "\n",
        "[0 1]\n",
        "Iter=5 combined objective=1866.99 rel=0.0000"
       ]
      },
      {
       "output_type": "stream",
       "stream": "stdout",
       "text": [
        "\n",
        "[0 1]\n",
        "Generate a random solution vector for hot start.\n",
        "Generate a random solution vector for hot start.\n",
        "Iter=0 combined objective=1426.44 rel=701047.4001"
       ]
      },
      {
       "output_type": "stream",
       "stream": "stdout",
       "text": [
        "\n",
        "[0 1]\n",
        "Iter=1 combined objective=1790.51 rel=0.2033"
       ]
      },
      {
       "output_type": "stream",
       "stream": "stdout",
       "text": [
        "\n",
        "[0 1]\n",
        "Iter=2 combined objective=1973.35 rel=0.0927"
       ]
      },
      {
       "output_type": "stream",
       "stream": "stdout",
       "text": [
        "\n",
        "[0 1]\n",
        "Iter=3 combined objective=1973.35 rel=0.0000"
       ]
      },
      {
       "output_type": "stream",
       "stream": "stdout",
       "text": [
        "\n",
        "[0 1]\n",
        "Iter=4 combined objective=1973.35 rel=0.0000"
       ]
      },
      {
       "output_type": "stream",
       "stream": "stdout",
       "text": [
        "\n",
        "[0 1]\n",
        "[0 1]"
       ]
      },
      {
       "output_type": "stream",
       "stream": "stdout",
       "text": [
        "\n",
        "LatentRR  mse:  0.830547967391\n"
       ]
      }
     ],
     "prompt_number": 257
    },
    {
     "cell_type": "code",
     "collapsed": false,
     "input": [
      "# Kmeans + Ridge Regression\n",
      "kmeans = cl.KMeans(n_clusters=states, init='random', n_init=10, max_iter=100, tol=0.0001)\n",
      "kmeans.fit(X_train)\n",
      "sol = np.zeros((states, feats))\n",
      "for i in range(states):\n",
      "    inds = np.where(kmeans.labels_ == i)[0]\n",
      "    ny = y_train[inds].reshape(len(inds), 1)\n",
      "    nX = X_train[inds].reshape(len(inds), feats)\n",
      "    foo = lsvr.train_model(nX, ny)\n",
      "    sol[i, :] = np.array(foo).reshape(1, feats)\n",
      "\n",
      "lbls = kmeans.predict(X_test)\n",
      "print lbls.shape\n",
      "print X_test.shape\n",
      "print sol[lbls, :].shape\n",
      "y_pred_krr = np.sum(sol[lbls, :] * X_test, axis=1)\n",
      "krr_mse = calc_error(y_test, y_pred_krr)"
     ],
     "language": "python",
     "metadata": {},
     "outputs": [
      {
       "output_type": "stream",
       "stream": "stdout",
       "text": [
        "(10916,)\n",
        "(10916, 2)\n",
        "(10916, 2)\n"
       ]
      }
     ],
     "prompt_number": 258
    },
    {
     "cell_type": "code",
     "collapsed": false,
     "input": [
      "print('------------------------------------------')\n",
      "print 'RR mse:        ', rr_mse\n",
      "print 'SVR mse:       ', svr_mse\n",
      "print 'KMeans mse:    ', krr_mse\n",
      "print 'LatentRR  mse: ', lrr_mse\n",
      "print('------------------------------------------')"
     ],
     "language": "python",
     "metadata": {},
     "outputs": [
      {
       "output_type": "stream",
       "stream": "stdout",
       "text": [
        "------------------------------------------\n",
        "RR mse:         0.738729828809\n",
        "SVR mse:        0.728379372146\n",
        "KMeans mse:     0.72610666592\n",
        "LatentRR  mse:  0.830547967391\n",
        "------------------------------------------\n"
       ]
      }
     ],
     "prompt_number": 259
    },
    {
     "cell_type": "code",
     "collapsed": false,
     "input": [
      "# LatentRR overall accuracy\n",
      "np.sum(lats == facies_test)/float(len(facies_test))"
     ],
     "language": "python",
     "metadata": {},
     "outputs": [
      {
       "metadata": {},
       "output_type": "pyout",
       "prompt_number": 260,
       "text": [
        "0.42772077684133381"
       ]
      }
     ],
     "prompt_number": 260
    },
    {
     "cell_type": "code",
     "collapsed": false,
     "input": [
      "# K-means overall accuracy\n",
      "np.sum(lbls == facies_test)/float(len(facies_test))"
     ],
     "language": "python",
     "metadata": {},
     "outputs": [
      {
       "metadata": {},
       "output_type": "pyout",
       "prompt_number": 261,
       "text": [
        "0.44347746427262735"
       ]
      }
     ],
     "prompt_number": 261
    },
    {
     "cell_type": "code",
     "collapsed": false,
     "input": [
      "lbls_mat = np.zeros((facies.sizeX,facies.sizeY))\n",
      "n = len(locXY_unlabeled)\n",
      "for k in range(n):\n",
      "    x = locXY_unlabeled[k][0]\n",
      "    y = locXY_unlabeled[k][1]\n",
      "    lats_mat[x,y] = lats[k]\n",
      "    lbls_mat[x,y] = lbls[k]"
     ],
     "language": "python",
     "metadata": {},
     "outputs": [],
     "prompt_number": 262
    },
    {
     "cell_type": "code",
     "collapsed": false,
     "input": [
      "f = pl.figure()\n",
      "ax = f.add_subplot(1, 4, 1)\n",
      "plot_image(ip_mat)\n",
      "ax.set_title('Input data')\n",
      "ax = f.add_subplot(1, 4, 2)\n",
      "plot_image(facies_mat)\n",
      "ax.set_title('Ground truth')\n",
      "ax = f.add_subplot(1, 4, 3)\n",
      "plot_image(lats_mat)\n",
      "ax.set_title('Latent RR')\n",
      "ax = f.add_subplot(1, 4, 4)\n",
      "plot_image(lbls_mat)\n",
      "ax.set_title('KMeans')\n",
      "pl.show()"
     ],
     "language": "python",
     "metadata": {},
     "outputs": [
      {
       "metadata": {},
       "output_type": "display_data",
       "png": "[encoded data removed]",
       "text": [
        "<matplotlib.figure.Figure at 0x7f97e518aa90>"
       ]
      }
     ],
     "prompt_number": 268
    },
    {
     "cell_type": "code",
     "collapsed": false,
     "input": [],
     "language": "python",
     "metadata": {},
     "outputs": [],
     "prompt_number": 263
    }
   ],
   "metadata": {}
  }
 ]
}