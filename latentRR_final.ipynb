{
 "worksheets": [
  {
   "cells": [
    {
     "cell_type": "code",
     "metadata": {},
     "outputs": [
      {
       "output_type": "stream",
       "stream": "stdout",
       "text": [
        "Using matplotlib backend: TkAgg\n"
       ]
      }
     ],
     "input": [
      "%run 'volume.ipynb'"
     ],
     "language": "python",
     "prompt_number": 4
    },
    {
     "cell_type": "code",
     "metadata": {},
     "outputs": [],
     "input": [
      "import os\n",
      "import sys\n",
      "import scipy as sp\n",
      "import numpy as np\n",
      "import math\n",
      "import struct\n",
      "import random\n",
      "import copy\n",
      "import matplotlib.pyplot as plt\n",
      "import pylab as pl\n",
      "import filecmp\n",
      "import cvxopt as co\n",
      "import sklearn.cluster as cl\n",
      "from numpy import unravel_index\n",
      "from sklearn.svm import SVR\n",
      "from sklearn import preprocessing\n",
      "from sklearn.metrics import mean_squared_error, r2_score, mean_absolute_error\n",
      "from latent_svr import LatentSvr\n",
      "from latent_ridge import LatentRidgeRegression\n",
      "from latent_multiclass_regression_map import LatentMulticlassRegressionMap\n",
      "from sklearn import metrics"
     ],
     "language": "python",
     "prompt_number": 32
    },
    {
     "cell_type": "code",
     "metadata": {},
     "outputs": [],
     "input": [
      "%matplotlib inline"
     ],
     "language": "python",
     "prompt_number": 33
    },
    {
     "cell_type": "code",
     "metadata": {},
     "outputs": [],
     "input": [
      "PATH = '../GeoFacies-Data/'"
     ],
     "language": "python",
     "prompt_number": 2
    },
    {
     "cell_type": "code",
     "metadata": {},
     "outputs": [],
     "input": [
      "# Define score function (RMS)\n",
      "def score_rms(y_true, y_pred):\n",
      "    return math.sqrt(mean_squared_error(y_true,y_pred))"
     ],
     "language": "python",
     "prompt_number": 34
    },
    {
     "cell_type": "code",
     "metadata": {},
     "outputs": [],
     "input": [
      "# Define score function (R^2) and evaluate for any y than a threshold value\n",
      "def score_R2(y_true, y_pred, thrsd):\n",
      "    y_t = y_true[y_true >= thrsd]\n",
      "    y_p = y_pred[y_true >= thrsd]\n",
      "    u = ((y_t - y_p) ** 2).sum()\n",
      "    v = ((y_t - y_true.mean()) ** 2).sum()\n",
      "    return (1 - u/v)"
     ],
     "language": "python",
     "prompt_number": 35
    },
    {
     "cell_type": "code",
     "metadata": {},
     "outputs": [],
     "input": [
      "def calc_error(truth, preds):\n",
      "    # return root_mean_squared_error(truth, preds)\n",
      "    return mean_absolute_error(truth, preds)\n",
      "    # return r2_score(truth, preds)"
     ],
     "language": "python",
     "prompt_number": 36
    },
    {
     "cell_type": "code",
     "metadata": {},
     "outputs": [],
     "input": [
      "# Get the n minimum values and respective indexes of a numpy array\n",
      "def n_min(arr, n):\n",
      "    indices = arr.ravel().argsort()[:n]\n",
      "    indices = (np.unravel_index(i, arr.shape) for i in indices)\n",
      "    return [(arr[i], i) for i in indices]"
     ],
     "language": "python",
     "prompt_number": 37
    },
    {
     "cell_type": "code",
     "metadata": {},
     "outputs": [],
     "input": [
      "# Plot an image\n",
      "def plot_image(mat):\n",
      "\n",
      "    # Define a color table\n",
      "    colorTable = ((0,0,0,0),\n",
      "              (0,0,255,255), (0,85,255,255), (0,85,255,255),\n",
      "              (0,127,255,255), (0,127,255,255), (0,170,255,255), (0,170,255,255), (0,212,255,255),\n",
      "              (0,233,255,255), (0,255,255,255), (0,255,200,255), (0,255,145,255), (0,255,63,255),\n",
      "              (0,255,49,255), (0,255,36,255), (0,255,0,255), (72,255,0,255), (99,255,0,255),\n",
      "              (109,255,0,255), (145,255,0,255), (182,255,0,255), (218,255,0,255), (255,255,0,255),\n",
      "              (255,233,0,255), (255,212,0,255), (255,191,0,255), (255,180,0,255), (255,170,0,255),\n",
      "              (255,148,0,255), (255,137,0,255), (255,106,0,255), (255,53,0,255), (255,0,0,255),\n",
      "              (255,0,109,255), (255,11,218,255), (255,82,255,255))\n",
      "    \n",
      "    # Get image dimensions\n",
      "    (x,y) = mat.shape\n",
      "    \n",
      "    # Get the maximum and minimum values\n",
      "    minValue = np.amin(mat)\n",
      "    maxValue = np.amax(mat)\n",
      "\n",
      "    # Define min and max color indexes\n",
      "    minIndex = 1\n",
      "    maxIndex = 36\n",
      "    \n",
      "    # Generate the color index volume\n",
      "    img_color = np.zeros((x,y), dtype=int)\n",
      "    img_color = np.round((mat-minValue)/(maxValue-minValue)*(maxIndex-minIndex)+minIndex).astype(int)\n",
      "        \n",
      "    # Create and display image\n",
      "    img = Image.new( 'RGBA', (x,y), \"white\") # create a new white image\n",
      "    pixels = img.load() # create the pixel map\n",
      "\n",
      "    for i in range(img.size[0]):  # for every pixel\n",
      "        for j in range(img.size[1]):\n",
      "            pixels[i,j] = (colorTable[img_color[i,j]][0], \n",
      "                           colorTable[img_color[i,j]][1], \n",
      "                           colorTable[img_color[i,j]][2], \n",
      "                           colorTable[img_color[i,j]][3])\n",
      "    imshow(np.array(img), origin='lower')"
     ],
     "language": "python",
     "prompt_number": 38
    },
    {
     "cell_type": "code",
     "metadata": {},
     "outputs": [],
     "input": [
      "# Load ip and porosity volumes\n",
      "ip = Vol()\n",
      "phi = Vol()\n",
      "facies = Vol()\n",
      "phi.read(PATH + \"phi_8_100x130x1.vol\")\n",
      "ip.read(PATH + \"ip_8_100x130x1.vol\")\n",
      "facies.read(PATH + \"facies_8_100x130x1.vol\")"
     ],
     "language": "python",
     "prompt_number": 3
    },
    {
     "cell_type": "code",
     "metadata": {},
     "outputs": [],
     "input": [
      "# Create porosity, facies and latent image matrices\n",
      "lats_mat = np.zeros((facies.sizeX,facies.sizeY))\n",
      "facies_mat = facies.data.reshape(facies.sizeY,facies.sizeX).T\n",
      "ip_mat = ip.data.reshape(ip.sizeY,ip.sizeX).T"
     ],
     "language": "python",
     "prompt_number": 41
    },
    {
     "cell_type": "code",
     "metadata": {},
     "outputs": [],
     "input": [
      "# Set the training and testing well sets\n",
      "locXY_labeled = []\n",
      "locXY_unlabeled = []\n",
      "for i in range(ip.sizeX): \n",
      "    for j in range(ip.sizeY):\n",
      "        locXY_unlabeled.append((i,j))"
     ],
     "language": "python",
     "prompt_number": 42
    },
    {
     "cell_type": "code",
     "metadata": {},
     "outputs": [],
     "input": [
      "# Get top and base Z locations of the reservoir\n",
      "#resTop = ip.getResTop()\n",
      "#resBase = ip.getResBase()"
     ],
     "language": "python",
     "prompt_number": 43
    },
    {
     "cell_type": "code",
     "metadata": {},
     "outputs": [
      {
       "ename": "IOError",
       "evalue": "[Errno 2] No such file or directory: '../GeoFacies-Data/sample_data_ip.dat'",
       "output_type": "pyerr",
       "traceback": [
        "\u001b[1;31m---------------------------------------------------------------------------\u001b[0m\n\u001b[1;31mIOError\u001b[0m                                   Traceback (most recent call last)",
        "\u001b[1;32m<ipython-input-5-e8f9463eab7b>\u001b[0m in \u001b[0;36m<module>\u001b[1;34m()\u001b[0m\n\u001b[0;32m     10\u001b[0m \u001b[1;31m# Make sure that the well values are part of the training set\u001b[0m\u001b[1;33m\u001b[0m\u001b[1;33m\u001b[0m\u001b[0m\n\u001b[0;32m     11\u001b[0m \u001b[0mf_name\u001b[0m \u001b[1;33m=\u001b[0m \u001b[0mPATH\u001b[0m \u001b[1;33m+\u001b[0m \u001b[1;34m\"sample_data_ip.dat\"\u001b[0m\u001b[1;33m\u001b[0m\u001b[0m\n\u001b[1;32m---> 12\u001b[1;33m \u001b[1;32mwith\u001b[0m \u001b[0mopen\u001b[0m\u001b[1;33m(\u001b[0m\u001b[0mf_name\u001b[0m\u001b[1;33m)\u001b[0m \u001b[1;32mas\u001b[0m \u001b[0mf\u001b[0m\u001b[1;33m:\u001b[0m\u001b[1;33m\u001b[0m\u001b[0m\n\u001b[0m\u001b[0;32m     13\u001b[0m     \u001b[0mlines\u001b[0m \u001b[1;33m=\u001b[0m \u001b[0mf\u001b[0m\u001b[1;33m.\u001b[0m\u001b[0mreadlines\u001b[0m\u001b[1;33m(\u001b[0m\u001b[1;33m)\u001b[0m\u001b[1;33m[\u001b[0m\u001b[1;36m6\u001b[0m\u001b[1;33m:\u001b[0m\u001b[1;33m]\u001b[0m\u001b[1;33m\u001b[0m\u001b[0m\n\u001b[0;32m     14\u001b[0m     \u001b[0mn_lines\u001b[0m \u001b[1;33m=\u001b[0m \u001b[0mlen\u001b[0m\u001b[1;33m(\u001b[0m\u001b[0mlines\u001b[0m\u001b[1;33m)\u001b[0m\u001b[1;33m\u001b[0m\u001b[0m\n",
        "\u001b[1;31mIOError\u001b[0m: [Errno 2] No such file or directory: '../GeoFacies-Data/sample_data_ip.dat'"
       ]
      }
     ],
     "input": [
      "# Set the training and testing well sets\n",
      "locXY_labeled = []\n",
      "locXY_unlabeled = []\n",
      "X_train = np.ones(())\n",
      "y_train_list = []\n",
      "for i in range(ip.sizeX): \n",
      "    for j in range(ip.sizeY):\n",
      "        locXY_unlabeled.append((i,j))\n",
      "\n",
      "# Make sure that the well values are part of the training set\n",
      "f_name = PATH + \"sample_data_ip.dat\"\n",
      "with open(f_name) as f:\n",
      "    lines = f.readlines()[6:]\n",
      "    n_lines = len(lines)\n",
      "for i in range(n_lines):\n",
      "    x, y, foo, foo = lines[i].split()\n",
      "    x = int(x)\n",
      "    y = int(y)\n",
      "    if (x,y) in locXY_unlabeled:\n",
      "        locXY_labeled.append((x,y))\n",
      "        locXY_unlabeled.remove((x,y))\n",
      "\n",
      "# Now randomly choose the other training samples\n",
      "n = int(len(locXY_unlabeled)*0.15)\n",
      "\n",
      "for i in range(n):\n",
      "    n_elm = len(locXY_unlabeled)\n",
      "    elm = random.randint(0,n_elm-1)\n",
      "    x = locXY_unlabeled[elm][0]\n",
      "    y = locXY_unlabeled[elm][1]\n",
      "    locXY_labeled.append((x,y))\n",
      "    locXY_unlabeled.remove((x,y))"
     ],
     "language": "python",
     "prompt_number": 5
    },
    {
     "cell_type": "code",
     "metadata": {},
     "outputs": [],
     "input": [
      "# Build the training set\n",
      "X_train_list = []\n",
      "y_train_list = []\n",
      "facies_train_list = []\n",
      "\n",
      "n = len(locXY_labeled)\n",
      "for k in range(n):\n",
      "    x = locXY_labeled[k][0]\n",
      "    y = locXY_labeled[k][1]\n",
      "    for i in range(ip.sizeZ):\n",
      "        if i >= resTop[x,y] and i <= resBase[x,y]:\n",
      "            X = []\n",
      "            Y = []\n",
      "            X.append(ip.data[i,y,x])\n",
      "            Y.append(phi.data[i,y,x])                  \n",
      "            X_train_list.append(X)\n",
      "            y_train_list.append(Y)\n",
      "            facies_train_list.append(int(facies.data[i,y,x]))\n",
      "            lats_mat[x,y] = facies.data[i,y,x]\n",
      "        \n",
      "X_train = np.array(X_train_list)\n",
      "scalerX = preprocessing.StandardScaler().fit(X_train)\n",
      "X_train = scalerX.transform(X_train)\n",
      "y_train = np.concatenate(np.array(y_train_list))\n",
      "scalerY = preprocessing.StandardScaler().fit(y_train)\n",
      "y_train = scalerY.transform(y_train)\n",
      "facies_train = np.array(facies_train_list)\n",
      "\n",
      "# Add column filled with \"1\"s (for the intercept)\n",
      "X_train = X_train.reshape(-1,1)\n",
      "y_train = y_train.reshape(-1,1)\n",
      "aux = np.ones((X_train.shape[0],1))\n",
      "X_train = np.hstack((X_train,aux))\n",
      "print X_train.shape"
     ],
     "language": "python"
    },
    {
     "cell_type": "code",
     "metadata": {},
     "outputs": [],
     "input": [
      "# Build the testing set\n",
      "X_test_list = []\n",
      "y_test_list = []\n",
      "facies_test_list = []\n",
      "n = len(locXY_unlabeled)\n",
      "for k in range(n):\n",
      "    x = locXY_unlabeled[k][0]\n",
      "    y = locXY_unlabeled[k][1]\n",
      "    for i in range(ip.sizeZ):\n",
      "        if i >= resTop[x,y] and i <= resBase[x,y]:\n",
      "            X = []\n",
      "            Y = []\n",
      "            X.append(ip.data[i,y,x])\n",
      "            Y.append(phi.data[i,y,x])                 \n",
      "            X_test_list.append(X)\n",
      "            y_test_list.append(Y)\n",
      "            facies_test_list.append(int(facies.data[i,y,x]))\n",
      "    \n",
      "X_test = np.array(X_test_list)\n",
      "X_test = scalerX.transform(X_test)\n",
      "y_test = np.concatenate(np.array(y_test_list))\n",
      "y_test = scalerY.transform(y_test)\n",
      "facies_test = np.array(facies_test_list)\n",
      "\n",
      "# Add column filled with \"1\"s (for the intercept)\n",
      "X_test = X_test.reshape(-1,1)\n",
      "y_test = y_test.reshape(-1,1)\n",
      "aux = np.ones((X_test.shape[0], 1))\n",
      "X_test = np.hstack((X_test,aux))\n",
      "print X_test.shape"
     ],
     "language": "python"
    },
    {
     "cell_type": "code",
     "metadata": {},
     "outputs": [],
     "input": [
      "# Define some variables\n",
      "feats = X_train.shape[1]\n",
      "states = 2"
     ],
     "language": "python"
    },
    {
     "cell_type": "code",
     "metadata": {},
     "outputs": [],
     "input": [
      "# Train ordinary ridge regression\n",
      "E = np.zeros((feats, feats))\n",
      "np.fill_diagonal(E, 0.00001)\n",
      "XXt = X_train.T.dot(X_train) + E\n",
      "XtY = (X_train.T.dot(y_train))\n",
      "w = np.linalg.inv(XXt).dot(XtY)\n",
      "y_pred_rr = w.T.dot(X_test.T).T\n",
      "rr_mse = calc_error(y_test, y_pred_rr)"
     ],
     "language": "python"
    },
    {
     "cell_type": "code",
     "metadata": {},
     "outputs": [],
     "input": [
      "# Train ordinary support vector regression\n",
      "clf = SVR(C=1.0, epsilon=0.1, kernel='linear', shrinking=False)\n",
      "clf.fit(X_train, y_train.reshape(-1,))\n",
      "y_pred_svr = clf.predict(X_test)\n",
      "svr_mse = calc_error(y_test, y_pred_svr)"
     ],
     "language": "python"
    },
    {
     "cell_type": "code",
     "metadata": {},
     "outputs": [],
     "input": [
      "# Set train and test data format for latent ridge and svr estimations\n",
      "train_mc = LatentMulticlassRegressionMap(co.matrix(X_train.T), classes=states, y=co.matrix(y_train))\n",
      "test_mc = LatentMulticlassRegressionMap(co.matrix(X_test.T), classes=states)"
     ],
     "language": "python"
    },
    {
     "cell_type": "code",
     "metadata": {},
     "outputs": [],
     "input": [
      "# train latent support vector regression\n",
      "lsvr = LatentRidgeRegression(train_mc, l=0.00001, gamma=0.1)\n",
      "(_, train_lats) = lsvr.train_dc(max_iter=200)\n",
      "(y_pred_lrr, lats) = lsvr.apply(test_mc)\n",
      "y_pred_lrr = np.array(y_pred_lrr)[:, 0]\n",
      "lats = np.array(lats)\n",
      "lrr_mse = calc_error(y_test, y_pred_lrr)\n",
      "print 'LatentRR  mse: ', lrr_mse"
     ],
     "language": "python"
    },
    {
     "cell_type": "code",
     "metadata": {},
     "outputs": [],
     "input": [
      "# Kmeans + Ridge Regression\n",
      "kmeans = cl.KMeans(n_clusters=states, init='random', n_init=10, max_iter=100, tol=0.0001)\n",
      "kmeans.fit(X_train)\n",
      "sol = np.zeros((states, feats))\n",
      "for i in range(states):\n",
      "    inds = np.where(kmeans.labels_ == i)[0]\n",
      "    ny = y_train[inds].reshape(len(inds), 1)\n",
      "    nX = X_train[inds].reshape(len(inds), feats)\n",
      "    foo = lsvr.train_model(nX, ny)\n",
      "    sol[i, :] = np.array(foo).reshape(1, feats)\n",
      "\n",
      "lbls = kmeans.predict(X_test)\n",
      "print lbls.shape\n",
      "print X_test.shape\n",
      "print sol[lbls, :].shape\n",
      "y_pred_krr = np.sum(sol[lbls, :] * X_test, axis=1)\n",
      "krr_mse = calc_error(y_test, y_pred_krr)"
     ],
     "language": "python"
    },
    {
     "cell_type": "code",
     "metadata": {},
     "outputs": [],
     "input": [
      "print('------------------------------------------')\n",
      "print 'RR mse:        ', rr_mse\n",
      "print 'SVR mse:       ', svr_mse\n",
      "print 'KMeans mse:    ', krr_mse\n",
      "print 'LatentRR  mse: ', lrr_mse\n",
      "print('------------------------------------------')"
     ],
     "language": "python"
    },
    {
     "cell_type": "code",
     "metadata": {},
     "outputs": [],
     "input": [
      "# LatentRR overall accuracy\n",
      "np.sum(lats == facies_test)/float(len(facies_test))"
     ],
     "language": "python"
    },
    {
     "cell_type": "code",
     "metadata": {},
     "outputs": [],
     "input": [
      "# K-means overall accuracy\n",
      "np.sum(lbls == facies_test)/float(len(facies_test))"
     ],
     "language": "python"
    },
    {
     "cell_type": "code",
     "metadata": {},
     "outputs": [],
     "input": [
      "lbls_mat = np.zeros((facies.sizeX,facies.sizeY))\n",
      "n = len(locXY_unlabeled)\n",
      "for k in range(n):\n",
      "    x = locXY_unlabeled[k][0]\n",
      "    y = locXY_unlabeled[k][1]\n",
      "    lats_mat[x,y] = lats[k]\n",
      "    lbls_mat[x,y] = lbls[k]"
     ],
     "language": "python"
    },
    {
     "cell_type": "code",
     "metadata": {},
     "outputs": [],
     "input": [
      "f = pl.figure()\n",
      "f.add_subplot(1, 4, 1)\n",
      "plot_image(ip_mat)\n",
      "#f.set_title('Input data')\n",
      "f.add_subplot(1, 4, 2)\n",
      "plot_image(facies_mat)\n",
      "#f.set_title('Ground truth')\n",
      "f.add_subplot(1, 4, 3)\n",
      "plot_image(lats_mat)\n",
      "#f.set_title('Latent RR')\n",
      "f.add_subplot(1, 4, 4)\n",
      "plot_image(lbls_mat)\n",
      "#f.set_title('KMeans')\n",
      "pl.show()"
     ],
     "language": "python"
    },
    {
     "cell_type": "code",
     "metadata": {},
     "outputs": [],
     "input": [
      ""
     ],
     "language": "python"
    }
   ]
  }
 ],
 "cells": [],
 "metadata": {
  "name": "",
  "signature": "sha256:1c9c5cb364b2e7b05510288d75b01f56137af16308f40d626b5116b54f474834"
 },
 "nbformat": 3,
 "nbformat_minor": 0
}