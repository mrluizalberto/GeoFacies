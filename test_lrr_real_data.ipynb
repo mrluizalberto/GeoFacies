{
 "cells": [
  {
   "cell_type": "code",
   "execution_count": 1,
   "metadata": {
    "collapsed": false
   },
   "outputs": [
    {
     "name": "stderr",
     "output_type": "stream",
     "text": [
      "/Users/lual/anaconda/lib/python2.7/site-packages/matplotlib/__init__.py:1318: UserWarning:  This call to matplotlib.use() has no effect\n",
      "because the backend has already been chosen;\n",
      "matplotlib.use() must be called *before* pylab, matplotlib.pyplot,\n",
      "or matplotlib.backends is imported for the first time.\n",
      "\n",
      "  warnings.warn(_use_error_msg)\n"
     ]
    }
   ],
   "source": [
    "import os\n",
    "import sys\n",
    "import scipy as sp\n",
    "import numpy as np\n",
    "import pandas as pd\n",
    "import math\n",
    "import random\n",
    "import sys\n",
    "\n",
    "import matplotlib.pyplot as plt\n",
    "import pylab as pl\n",
    "import networkx as nx\n",
    "import cvxopt as co\n",
    "import sklearn.cluster as cl\n",
    "from scipy import sparse\n",
    "from scipy import ndimage\n",
    "from numpy import unravel_index\n",
    "from PIL import Image\n",
    "from sklearn.metrics.pairwise import euclidean_distances\n",
    "from sklearn import linear_model\n",
    "from sklearn.svm import SVR\n",
    "from sklearn import preprocessing\n",
    "from sklearn.metrics import (median_absolute_error, mean_squared_error, r2_score, mean_absolute_error, \n",
    "                             adjusted_rand_score)\n",
    "\n",
    "from tcrfr_indep_model import TCrfRIndepModel\n",
    "from tcrfr_pair_model import TCrfRPairwisePotentialModel\n",
    "from volume import Vol\n",
    "\n",
    "from regression_methods import (method_ridge_regression, method_transductive_regression, method_svr, method_krr, \n",
    "                                method_tkrr, method_lrr, method_tlrr, method_flexmix, method_tcrfr_v2,\n",
    "                                method_tcrfr_indep, method_tcrfr, evaluate)"
   ]
  },
  {
   "cell_type": "code",
   "execution_count": 2,
   "metadata": {
    "collapsed": true
   },
   "outputs": [],
   "source": [
    "%matplotlib inline"
   ]
  },
  {
   "cell_type": "code",
   "execution_count": 3,
   "metadata": {
    "collapsed": true
   },
   "outputs": [],
   "source": [
    "# Define a color table\n",
    "colorTable = ((0,0,143,255), (0,0,159,255), (0,0,175,255), (0,0,191,255), (0,0,207,255),\n",
    "              (0,0,223,255), (0,0,239,255), (0,0,255,255), (0,16,255,255), (0,32,255,255),\n",
    "              (0,48,255,255), (0,64,255,255), (0,80,255,255), (0,96,255,255), (0,112,255,255),\n",
    "              (0,128,255,255), (0,143,255,255), (0,159,255,255), (0,175,255,255), (0,191,255,255),\n",
    "              (0,207,255,255), (0,223,255,255), (0,239,255,255), (0,255,255,255), (16,255,255,255),\n",
    "              (32,255,239,255), (48,255,223,255), (64,255,207,255), (80,255,191,255), (96,255,175,255),\n",
    "              (112,255,159,255), (128,255,143,255), (143,255,128,255), (159,255,112,255), (175,255,96,255),\n",
    "              (191,255,80,255), (207,255,64,255), (223,255,48,255), (239,255,32,255), (255,255,16,255),\n",
    "              (255,255,0,255), (255,239,0,255), (255,223,0,255), (255,207,0,255), (255,191,0,255),\n",
    "              (255,175,0,255), (255,159,0,255), (255,143,0,255), (255,128,0,255), (255,112,0,255),\n",
    "              (255,96,0,255), (255,80,0,255), (255,64,0,255), (255,48,0,255), (255,32,0,255),\n",
    "              (255,16,0,255), (255,0,0,255), (239,0,0,255), (223,0,0,255), (207,0,0,255),\n",
    "              (191,0,0,255), (175,0,0,255), (159,0,0,255), (143,0,0,255))\n",
    "    \n",
    "# Plot an image\n",
    "def plot_image(mat, colorTable=colorTable):\n",
    "    \n",
    "    # Get image dimensions\n",
    "    (x,y) = mat.shape\n",
    "    \n",
    "    # Get the maximum and minimum values\n",
    "    minValue = np.amin(mat)\n",
    "    maxValue = np.amax(mat)\n",
    "\n",
    "    # Define min and max color indexes\n",
    "    minIndex = 0\n",
    "    maxIndex = len(colorTable)-1\n",
    "    \n",
    "    # Generate the color index volume\n",
    "    img_color = np.zeros((x,y), dtype=int)\n",
    "    img_color = np.round((mat-minValue)/(maxValue-minValue)*(maxIndex-minIndex)+minIndex).astype(int)\n",
    "        \n",
    "    # Create and display image\n",
    "    img = Image.new( 'RGBA', (x,y), \"white\") # create a new white image\n",
    "    pixels = img.load() # create the pixel map\n",
    "\n",
    "    for i in range(img.size[0]):  # for every pixel\n",
    "        for j in range(img.size[1]):\n",
    "            pixels[i,j] = (colorTable[img_color[i,j]][0], \n",
    "                           colorTable[img_color[i,j]][1], \n",
    "                           colorTable[img_color[i,j]][2], \n",
    "                           colorTable[img_color[i,j]][3])\n",
    "    plt.imshow(np.array(img), origin='lower')"
   ]
  },
  {
   "cell_type": "code",
   "execution_count": 10,
   "metadata": {
    "collapsed": false
   },
   "outputs": [
    {
     "name": "stdout",
     "output_type": "stream",
     "text": [
      "\n"
     ]
    }
   ],
   "source": [
    "# Load ip, porosity, and facies images\n",
    "ip = Vol()\n",
    "phi = Vol()\n",
    "ip.read(\"../GeoFacies-Data/Real_data/acoustic_impedance_real_data.vol\")\n",
    "phi.read(\"../GeoFacies-Data/Real_data/porosity_real_data.vol\")"
   ]
  },
  {
   "cell_type": "code",
   "execution_count": 6,
   "metadata": {
    "collapsed": false
   },
   "outputs": [
    {
     "data": {
      "text/plain": [
       "'\\n# Add some noise to the input data\\nmu = 0.\\nsigma = 100.0\\nnoise = np.random.normal(mu, sigma, ip.data.shape)\\nip.data +=(noise)\\n#noise = np.random.normal(mu, sigma, si.data.shape)\\nsi.data +=(noise)\\n#noise = np.random.normal(mu, sigma, pr.data.shape)\\npr.data +=(noise)\\n'"
      ]
     },
     "execution_count": 6,
     "metadata": {},
     "output_type": "execute_result"
    }
   ],
   "source": [
    "'''\n",
    "# Add some noise to the input data\n",
    "mu = 0.\n",
    "sigma = 100.0\n",
    "noise = np.random.normal(mu, sigma, ip.data.shape)\n",
    "ip.data +=(noise)\n",
    "#noise = np.random.normal(mu, sigma, si.data.shape)\n",
    "si.data +=(noise)\n",
    "#noise = np.random.normal(mu, sigma, pr.data.shape)\n",
    "pr.data +=(noise)\n",
    "'''"
   ]
  },
  {
   "cell_type": "code",
   "execution_count": 8,
   "metadata": {
    "collapsed": false
   },
   "outputs": [
    {
     "name": "stdout",
     "output_type": "stream",
     "text": [
      " creating the graph... done!\n"
     ]
    }
   ],
   "source": [
    "# Run the experiment\n",
    "sizeX = phi.sizeX\n",
    "sizeY = phi.sizeY\n",
    "#sizeZ = phi.sizeZ\n",
    "sizeZ = 1\n",
    "null_value = -1e+30\n",
    "train_frac = 0.02\n",
    "slice_number = 35\n",
    "n_train_wells = int(sizeX*sizeY*train_frac) # number of training wells\n",
    "RL = 10 # max radius distance from labeled node to neighbors\n",
    "RL_x = RL; RL_y = RL; RL_z = 1 # radius distance from labeled node in x,y and z directions\n",
    "RU = 1 # max radius distance from unlabeled node to neighbors\n",
    "RU_x = RU; RU_y = RU; RU_z = 1 # radius distance from unlabeled node in x,y and z directions\n",
    "rel_fac = 0.5 # similarity factor to check if two neighbor samples should be connected by an edge\n",
    "sim_fac = 0.95 # similarity factor to check if two neighbor samples should have the same latent state\n",
    "states = 3 # number of facies\n",
    "REPS = 5 # number of repetitions\n",
    "\n",
    "# Create the ground truth images\n",
    "z = slice_number\n",
    "ip_mat = np.zeros((sizeX,sizeY))\n",
    "phi_mat = np.zeros((sizeX,sizeY))\n",
    "facies_mat = np.zeros((sizeX,sizeY),dtype=int)\n",
    "for x in range(sizeX):\n",
    "    for y in range(sizeY):\n",
    "        ip_mat[x,y] = ip.data[z,y,x]\n",
    "        phi_mat[x,y] = phi.data[z,y,x]\n",
    "        \n",
    "# Create arrays to store estimated errors and images\n",
    "errs = np.zeros((REPS,6,6))\n",
    "flx_facies_mat = np.zeros((REPS, sizeX,sizeY))\n",
    "flx_phi_mat = np.zeros((REPS, sizeX,sizeY))\n",
    "svr_phi_mat = np.zeros((REPS, sizeX,sizeY))\n",
    "rr_phi_mat = np.zeros((REPS, sizeX,sizeY))\n",
    "tr_phi_mat = np.zeros((REPS, sizeX,sizeY))\n",
    "tcrfr_facies_mat = np.zeros((REPS, sizeX,sizeY))\n",
    "tcrfr_phi_mat = np.zeros((REPS, sizeX,sizeY))\n",
    "shale_coef = np.zeros(REPS)\n",
    "\n",
    "# Build the graph for the adjacency matrix\n",
    "print 'creating the unlabeled grid...',\n",
    "sys.stdout.flush()\n",
    "G = nx.Graph()\n",
    "node_list = []\n",
    "cz = slice_number\n",
    "var = np.var(si.data)\n",
    "for cx in range(sizeX):\n",
    "    for cy in range(sizeY):\n",
    "        G.add_node((cx,cy,cz))\n",
    "        node_list.append((cx,cy,cz))\n",
    "        u = [cx,cy,cz]\n",
    "        for i in range(cx,cx+RU_x+1):\n",
    "            for j in range(cy-RU_y,cy+RU_y+1):\n",
    "                k = cz\n",
    "                if (i >= 0 and i < sizeX) and (j >= 0 and j < sizeY):\n",
    "                    v = [i,j,k]\n",
    "                    dist = 1.\n",
    "                    rel = math.exp(-(si.data[cz,cy,cx]-si.data[k,j,i])**2/(2*var))/dist\n",
    "                    if rel >= rel_fac:\n",
    "                        d = euclidean_distances(u,v)\n",
    "                        if d > 0. and d <= RU:\n",
    "                            G.add_edge((cx,cy,cz),(i,j,k),weight=2)\n",
    "print 'done!'\n",
    "sys.stdout.flush()"
   ]
  },
  {
   "cell_type": "code",
   "execution_count": 12,
   "metadata": {
    "collapsed": false
   },
   "outputs": [
    {
     "name": "stdout",
     "output_type": "stream",
     "text": [
      "Iteration 0\n",
      "creating the train and test sets... done!\n",
      "building the sparse matrix... done!\n"
     ]
    },
    {
     "data": {
      "image/png": "[encoded data removed]",
      "text/plain": [
       "<matplotlib.figure.Figure at 0x10fe58e10>"
      ]
     },
     "metadata": {},
     "output_type": "display_data"
    },
    {
     "name": "stdout",
     "output_type": "stream",
     "text": [
      "running flexmix..."
     ]
    },
    {
     "name": "stderr",
     "output_type": "stream",
     "text": [
      "/Users/lual/anaconda/lib/python2.7/site-packages/rpy2/robjects/functions.py:106: UserWarning: Loading required package: lattice\n",
      "\n",
      "  res = super(Function, self).__call__(*new_args, **new_kwargs)\n",
      "/Users/lual/anaconda/lib/python2.7/site-packages/rpy2/robjects/functions.py:106: UserWarning: Error in NextMethod(.Generic) : Interrupted\n",
      "\n",
      "  res = super(Function, self).__call__(*new_args, **new_kwargs)\n"
     ]
    },
    {
     "ename": "KeyboardInterrupt",
     "evalue": "",
     "output_type": "error",
     "traceback": [
      "\u001b[0;31m---------------------------------------------------------------------------\u001b[0m",
      "\u001b[0;31mKeyboardInterrupt\u001b[0m                         Traceback (most recent call last)",
      "\u001b[0;32m<ipython-input-12-00cbf6acd3f0>\u001b[0m in \u001b[0;36m<module>\u001b[0;34m()\u001b[0m\n\u001b[1;32m    108\u001b[0m     (name, pred_flx, lats_flx, lats_flx_all) = method_flexmix(np.array(X, copy=True), np.array(y, copy=True), \n\u001b[1;32m    109\u001b[0m                                                                        \u001b[0mtrain\u001b[0m\u001b[0;34m,\u001b[0m \u001b[0mtest\u001b[0m\u001b[0;34m,\u001b[0m \u001b[0mstates\u001b[0m\u001b[0;34m=\u001b[0m\u001b[0mstates\u001b[0m\u001b[0;34m,\u001b[0m\u001b[0;34m\u001b[0m\u001b[0m\n\u001b[0;32m--> 110\u001b[0;31m                                                                        params=[400, 0.001])\n\u001b[0m\u001b[1;32m    111\u001b[0m     \u001b[0;32mprint\u001b[0m \u001b[0;34m'done!'\u001b[0m\u001b[0;34m\u001b[0m\u001b[0m\n\u001b[1;32m    112\u001b[0m     \u001b[0msys\u001b[0m\u001b[0;34m.\u001b[0m\u001b[0mstdout\u001b[0m\u001b[0;34m.\u001b[0m\u001b[0mflush\u001b[0m\u001b[0;34m(\u001b[0m\u001b[0;34m)\u001b[0m\u001b[0;34m\u001b[0m\u001b[0m\n",
      "\u001b[0;32m/Users/lual/Documents/Phd/GeoFacies/regression_methods.pyc\u001b[0m in \u001b[0;36mmethod_flexmix\u001b[0;34m(vecX, vecy, train, test, states, params, plot)\u001b[0m\n\u001b[1;32m    174\u001b[0m \u001b[0;34m\u001b[0m\u001b[0m\n\u001b[1;32m    175\u001b[0m     \u001b[0;31m# Predict\u001b[0m\u001b[0;34m\u001b[0m\u001b[0;34m\u001b[0m\u001b[0m\n\u001b[0;32m--> 176\u001b[0;31m     \u001b[0mpr\u001b[0m \u001b[0;34m=\u001b[0m \u001b[0mr\u001b[0m\u001b[0;34m.\u001b[0m\u001b[0mpredict\u001b[0m\u001b[0;34m(\u001b[0m\u001b[0mmodel\u001b[0m\u001b[0;34m,\u001b[0m \u001b[0mnewdata\u001b[0m\u001b[0;34m=\u001b[0m\u001b[0mdf_test\u001b[0m\u001b[0;34m,\u001b[0m \u001b[0maggregate\u001b[0m\u001b[0;34m=\u001b[0m\u001b[0mTrue\u001b[0m\u001b[0;34m)\u001b[0m\u001b[0;34m\u001b[0m\u001b[0m\n\u001b[0m\u001b[1;32m    177\u001b[0m     \u001b[0my_pred\u001b[0m \u001b[0;34m=\u001b[0m \u001b[0mr\u001b[0m\u001b[0;34m.\u001b[0m\u001b[0munlist\u001b[0m\u001b[0;34m(\u001b[0m\u001b[0mpr\u001b[0m\u001b[0;34m)\u001b[0m\u001b[0;34m\u001b[0m\u001b[0m\n\u001b[1;32m    178\u001b[0m     \u001b[0my_pred_flx\u001b[0m \u001b[0;34m=\u001b[0m \u001b[0mnp\u001b[0m\u001b[0;34m.\u001b[0m\u001b[0marray\u001b[0m\u001b[0;34m(\u001b[0m\u001b[0my_pred\u001b[0m\u001b[0;34m)\u001b[0m\u001b[0;34m.\u001b[0m\u001b[0mreshape\u001b[0m\u001b[0;34m(\u001b[0m\u001b[0;34m-\u001b[0m\u001b[0;36m1\u001b[0m\u001b[0;34m,\u001b[0m\u001b[0;36m1\u001b[0m\u001b[0;34m)\u001b[0m\u001b[0;34m\u001b[0m\u001b[0m\n",
      "\u001b[0;32m/Users/lual/anaconda/lib/python2.7/site-packages/rpy2/robjects/functions.pyc\u001b[0m in \u001b[0;36m__call__\u001b[0;34m(self, *args, **kwargs)\u001b[0m\n\u001b[1;32m    176\u001b[0m                 \u001b[0mv\u001b[0m \u001b[0;34m=\u001b[0m \u001b[0mkwargs\u001b[0m\u001b[0;34m.\u001b[0m\u001b[0mpop\u001b[0m\u001b[0;34m(\u001b[0m\u001b[0mk\u001b[0m\u001b[0;34m)\u001b[0m\u001b[0;34m\u001b[0m\u001b[0m\n\u001b[1;32m    177\u001b[0m                 \u001b[0mkwargs\u001b[0m\u001b[0;34m[\u001b[0m\u001b[0mr_k\u001b[0m\u001b[0;34m]\u001b[0m \u001b[0;34m=\u001b[0m \u001b[0mv\u001b[0m\u001b[0;34m\u001b[0m\u001b[0m\n\u001b[0;32m--> 178\u001b[0;31m         \u001b[0;32mreturn\u001b[0m \u001b[0msuper\u001b[0m\u001b[0;34m(\u001b[0m\u001b[0mSignatureTranslatedFunction\u001b[0m\u001b[0;34m,\u001b[0m \u001b[0mself\u001b[0m\u001b[0;34m)\u001b[0m\u001b[0;34m.\u001b[0m\u001b[0m__call__\u001b[0m\u001b[0;34m(\u001b[0m\u001b[0;34m*\u001b[0m\u001b[0margs\u001b[0m\u001b[0;34m,\u001b[0m \u001b[0;34m**\u001b[0m\u001b[0mkwargs\u001b[0m\u001b[0;34m)\u001b[0m\u001b[0;34m\u001b[0m\u001b[0m\n\u001b[0m\u001b[1;32m    179\u001b[0m \u001b[0;34m\u001b[0m\u001b[0m\n\u001b[1;32m    180\u001b[0m \u001b[0mpattern_link\u001b[0m \u001b[0;34m=\u001b[0m \u001b[0mre\u001b[0m\u001b[0;34m.\u001b[0m\u001b[0mcompile\u001b[0m\u001b[0;34m(\u001b[0m\u001b[0;34mr'\\\\link\\{(.+?)\\}'\u001b[0m\u001b[0;34m)\u001b[0m\u001b[0;34m\u001b[0m\u001b[0m\n",
      "\u001b[0;32m/Users/lual/anaconda/lib/python2.7/site-packages/rpy2/robjects/functions.pyc\u001b[0m in \u001b[0;36m__call__\u001b[0;34m(self, *args, **kwargs)\u001b[0m\n\u001b[1;32m    104\u001b[0m         \u001b[0;32mfor\u001b[0m \u001b[0mk\u001b[0m\u001b[0;34m,\u001b[0m \u001b[0mv\u001b[0m \u001b[0;32min\u001b[0m \u001b[0mkwargs\u001b[0m\u001b[0;34m.\u001b[0m\u001b[0mitems\u001b[0m\u001b[0;34m(\u001b[0m\u001b[0;34m)\u001b[0m\u001b[0;34m:\u001b[0m\u001b[0;34m\u001b[0m\u001b[0m\n\u001b[1;32m    105\u001b[0m             \u001b[0mnew_kwargs\u001b[0m\u001b[0;34m[\u001b[0m\u001b[0mk\u001b[0m\u001b[0;34m]\u001b[0m \u001b[0;34m=\u001b[0m \u001b[0mconversion\u001b[0m\u001b[0;34m.\u001b[0m\u001b[0mpy2ri\u001b[0m\u001b[0;34m(\u001b[0m\u001b[0mv\u001b[0m\u001b[0;34m)\u001b[0m\u001b[0;34m\u001b[0m\u001b[0m\n\u001b[0;32m--> 106\u001b[0;31m         \u001b[0mres\u001b[0m \u001b[0;34m=\u001b[0m \u001b[0msuper\u001b[0m\u001b[0;34m(\u001b[0m\u001b[0mFunction\u001b[0m\u001b[0;34m,\u001b[0m \u001b[0mself\u001b[0m\u001b[0;34m)\u001b[0m\u001b[0;34m.\u001b[0m\u001b[0m__call__\u001b[0m\u001b[0;34m(\u001b[0m\u001b[0;34m*\u001b[0m\u001b[0mnew_args\u001b[0m\u001b[0;34m,\u001b[0m \u001b[0;34m**\u001b[0m\u001b[0mnew_kwargs\u001b[0m\u001b[0;34m)\u001b[0m\u001b[0;34m\u001b[0m\u001b[0m\n\u001b[0m\u001b[1;32m    107\u001b[0m         \u001b[0mres\u001b[0m \u001b[0;34m=\u001b[0m \u001b[0mconversion\u001b[0m\u001b[0;34m.\u001b[0m\u001b[0mri2ro\u001b[0m\u001b[0;34m(\u001b[0m\u001b[0mres\u001b[0m\u001b[0;34m)\u001b[0m\u001b[0;34m\u001b[0m\u001b[0m\n\u001b[1;32m    108\u001b[0m         \u001b[0;32mreturn\u001b[0m \u001b[0mres\u001b[0m\u001b[0;34m\u001b[0m\u001b[0m\n",
      "\u001b[0;31mKeyboardInterrupt\u001b[0m: "
     ]
    }
   ],
   "source": [
    "e_bunch = []\n",
    "for r in range(REPS):\n",
    "    print 'Iteration '+ str(r)\n",
    "    print 'creating the train and test sets...',\n",
    "    sys.stdout.flush()    \n",
    "    # Set input features and output\n",
    "    X = []\n",
    "    y = []\n",
    "    facies = []\n",
    "    vol_inds = []\n",
    "    cz = slice_number\n",
    "    n_samples = 0\n",
    "    for i in range(sizeX): \n",
    "        for j in range(sizeY):\n",
    "            if ip.data[k,j,i] > null_value:\n",
    "                X.append([ip.data[cz,j,i]])\n",
    "                y.append(phi.data[cz,j,i])\n",
    "                vol_inds.append((i,j,cz))\n",
    "                n_samples += 1\n",
    "       \n",
    "    # Obtain the labeled data (from the \"wells\")\n",
    "    test = list(np.arange(n_samples))\n",
    "    img_inds = list(np.ndindex((sizeX,sizeY)))\n",
    "    inds = list(test)\n",
    "    np.random.shuffle(inds)\n",
    "    img_size = sizeX*sizeY\n",
    "\n",
    "    train = np.array(inds[:n_train_wells])\n",
    "    test = np.array(inds[n_train_wells:])\n",
    "    X = np.array(X, copy=True)\n",
    "    y = np.concatenate(np.array(y, copy=True).reshape((-1,1)))\n",
    "    print 'done!'\n",
    "    sys.stdout.flush()\n",
    "\n",
    "    # Add edges for the labeled data\n",
    "    print 'adding new edges for the labeled data...',\n",
    "    sys.stdout.flush()\n",
    "    G.remove_edges_from(e_bunch)\n",
    "    e_bunch = []\n",
    "    for l in range(len(train)):\n",
    "        cx = vol_inds[train[l]][0]\n",
    "        cy = vol_inds[train[l]][1]\n",
    "        u = [cx,cy,cz]\n",
    "        for i in range(cx,cx+RL_x+1):\n",
    "            for j in range(cy-RL_y,cy+RL_y+1):\n",
    "                k = cz\n",
    "                if (i >= 0 and i < sizeX) and (j >= 0 and j < sizeY):\n",
    "                    v = [i,j,k]\n",
    "                    dist = 1.\n",
    "                    rel = math.exp(-(si.data[cz,cy,cx]-si.data[k,j,i])**2/(2*var))/dist\n",
    "                    if rel >= rel_fac:\n",
    "                        d = euclidean_distances(u,v)\n",
    "                        if d > 0. and d <= RL:\n",
    "                            if not G.has_edge((cx,cy,cz),(i,j,k)):\n",
    "                                G.add_edge((cx,cy,cz),(i,j,k),weight=2)\n",
    "                                e_bunch.append(((cx,cy,cz),(i,j,k)))\n",
    "    print 'done!'\n",
    "    sys.stdout.flush()\n",
    "    \n",
    "    # Create the sparse matrix\n",
    "    print 'building the sparse matrix...',\n",
    "    sys.stdout.flush()   \n",
    "    csr_A = nx.adjacency_matrix(G,nodelist=node_list)\n",
    "    coo = csr_A.tocoo()\n",
    "    A = co.spmatrix(1, coo.row.tolist(), coo.col.tolist())\n",
    "    print 'done!'\n",
    "    sys.stdout.flush()\n",
    "        \n",
    "    # Define some auxiliary arrays\n",
    "    n_test = len(test)\n",
    "    pred_flx = np.zeros(n_test)\n",
    "    pred_svr = np.zeros(n_test)\n",
    "    pred_rr = np.zeros(n_test)\n",
    "    pred_tr = np.zeros(n_test)\n",
    "    pred_tcrfr = np.zeros(n_test)\n",
    "    \n",
    "    # Normalize the data with zero mean and unit variance\n",
    "    X = X - np.mean(X[train,:])\n",
    "    y = y - np.mean(y[train])\n",
    "    X /= np.max(np.abs(X[train,:]))\n",
    "    y /= np.max(np.abs(y[train]))\n",
    "    y *= 10.  \n",
    "    \n",
    "    # Add the intercept to X\n",
    "    X = np.hstack((X, np.ones((X.shape[0],1))))\n",
    "    feats = X.shape[1] # number of features\n",
    "\n",
    "    # Save stacked data\n",
    "#    xx = np.hstack((X,y.reshape(-1,1)))\n",
    "#    np.savetxt(\"../GeoFacies-Data/vol_real_data.txt\",xx)\n",
    "               \n",
    "    # Run the methods\n",
    "    print 'running flexmix...',\n",
    "    sys.stdout.flush()\n",
    "    (name, pred_flx, lats_flx, lats_flx_all) = method_flexmix(np.array(X, copy=True), np.array(y, copy=True), \n",
    "                                                                       train, test, states=states, \n",
    "                                                                       params=[700, 0.01])\n",
    "    print 'done!'\n",
    "    sys.stdout.flush()\n",
    "    \n",
    "    print 'running svr...',\n",
    "    sys.stdout.flush()   \n",
    "    (name, pred_svr, lats_svr) = method_svr(np.array(X, copy=True), np.array(y, copy=True), \n",
    "                                                     train, test, states=states, \n",
    "                                                     params=[100.,1.,'linear'])\n",
    "    print 'done!'\n",
    "    sys.stdout.flush()\n",
    "    \n",
    "    print 'running rr...',\n",
    "    sys.stdout.flush()\n",
    "    (name, pred_rr, lats_rr) = method_ridge_regression(np.array(X, copy=True), np.array(y, copy=True), \n",
    "                                                                train, test, states=states, \n",
    "                                                                params=0.01)\n",
    "    print 'done!'\n",
    "    sys.stdout.flush()\n",
    "    \n",
    "    print 'running tr...',\n",
    "    sys.stdout.flush()\n",
    "    (name, pred_tr, lats_tr) = method_transductive_regression(np.array(X, copy=True), np.array(y, copy=True), \n",
    "                                                                       train, test, states=states, \n",
    "                                                                       params=[0.000001, 1000., 0.1])\n",
    "    print 'done!'\n",
    "    sys.stdout.flush()\n",
    "    \n",
    "    print 'running tcrfr...',\n",
    "    sys.stdout.flush()\n",
    "    (name, pred_tcrfr, lats_tcrfr, lats_tcrfr_all) = method_tcrfr_v2(np.array(X, copy=True), np.array(y, copy=True), \n",
    "                                                                      train, test, A, states=states, \n",
    "                                                                      params=[0.8, 0.00001, 1000.0], plot=False)    \n",
    "    print 'done!'\n",
    "    sys.stdout.flush()\n",
    "    \n",
    "    # Evaluate the performance\n",
    "    foo = [0,0]\n",
    "    (errs[r,0, :],_) = evaluate(y[test], pred_flx, foo, foo)\n",
    "    (errs[r,1, :],_) = evaluate(y[test], pred_svr, foo, foo)\n",
    "    (errs[r,2, :],_) = evaluate(y[test], pred_rr, foo, foo)\n",
    "    (errs[r,3, :],_) = evaluate(y[test], pred_tr, foo, foo)\n",
    "    (errs[r,4, :],_) = evaluate(y[test], pred_tcrfr, foo, foo) \n",
    "\n",
    "    # Store image results\n",
    "    for rk in range(len(train)):\n",
    "        ind = train[rk]\n",
    "        ri = vol_inds[ind][0]\n",
    "        rj = vol_inds[ind][1]\n",
    "#        flx_facies_mat[r,ri,rj] = lats_flx_all[ind]\n",
    "        flx_phi_mat[r,ri,rj] = y[ind]\n",
    "        svr_phi_mat[r,ri,rj] = y[ind]\n",
    "        rr_phi_mat[r,ri,rj] = y[ind]\n",
    "        tr_phi_mat[r,ri,rj] = y[ind]\n",
    "        tcrfr_facies_mat[r,ri,rj] = lats_tcrfr_all[ind]\n",
    "        tcrfr_phi_mat[r,ri,rj] = y[ind]\n",
    "    for rk in range(len(test)):\n",
    "        ind = test[rk]\n",
    "        ri = vol_inds[ind][0]\n",
    "        rj = vol_inds[ind][1]        \n",
    "#        flx_facies_mat[r,ri,rj] = lats_flx_all[ind]\n",
    "        flx_phi_mat[r,ri,rj] = pred_flx[rk]\n",
    "        svr_phi_mat[r,ri,rj] = pred_svr[rk]\n",
    "        rr_phi_mat[r,ri,rj] = pred_rr[rk]\n",
    "        tr_phi_mat[r,ri,rj] = pred_tr[rk]\n",
    "        tcrfr_facies_mat[r,ri,rj] = lats_tcrfr_all[ind]\n",
    "        tcrfr_phi_mat[r,ri,rj] = pred_tcrfr[rk]\n"
   ]
  },
  {
   "cell_type": "code",
   "execution_count": null,
   "metadata": {
    "collapsed": true
   },
   "outputs": [],
   "source": [
    "print 'number of training wells: ', n_train_wells"
   ]
  },
  {
   "cell_type": "code",
   "execution_count": null,
   "metadata": {
    "collapsed": true
   },
   "outputs": [],
   "source": [
    "# Get the averages\n",
    "err_avg = np.mean(errs,axis=0)\n",
    "flx_phi_mat_avg = np.mean(flx_phi_mat,axis=0)\n",
    "svr_phi_mat_avg = np.mean(svr_phi_mat,axis=0)\n",
    "rr_phi_mat_avg = np.mean(rr_phi_mat,axis=0)\n",
    "tr_phi_mat_avg = np.mean(tr_phi_mat,axis=0)\n",
    "tcrfr_phi_mat_avg = np.mean(tcrfr_phi_mat,axis=0)"
   ]
  },
  {
   "cell_type": "code",
   "execution_count": null,
   "metadata": {
    "collapsed": true
   },
   "outputs": [],
   "source": [
    "print (\"          MAE        MSE        RMSE       MDAE        R2        ARS\")\n",
    "print (\"FLX:    %0.5f    %0.5f    %0.5f    %0.5f    %0.5f    %0.5f\" % (err_avg[0,0],err_avg[0,1],err_avg[0,2],err_avg[0,3],err_avg[0,4],err_avg[0,5]))\n",
    "print (\"SVR:    %0.5f    %0.5f    %0.5f    %0.5f    %0.5f    %0.5f\" % (err_avg[1,0],err_avg[1,1],err_avg[1,2],err_avg[1,3],err_avg[1,4],err_avg[1,5]))\n",
    "print (\"RR:     %0.5f    %0.5f    %0.5f    %0.5f    %0.5f    %0.5f\" % (err_avg[2,0],err_avg[2,1],err_avg[2,2],err_avg[2,3],err_avg[2,4],err_avg[2,5]))\n",
    "print (\"TR:     %0.5f    %0.5f    %0.5f    %0.5f    %0.5f    %0.5f\" % (err_avg[3,0],err_avg[3,1],err_avg[3,2],err_avg[3,3],err_avg[3,4],err_avg[3,5]))\n",
    "print (\"TCRFR:  %0.5f    %0.5f    %0.5f    %0.5f    %0.5f    %0.5f\" % (err_avg[4,0],err_avg[4,1],err_avg[4,2],err_avg[4,3],err_avg[4,4],err_avg[4,5]))"
   ]
  },
  {
   "cell_type": "code",
   "execution_count": null,
   "metadata": {
    "collapsed": true
   },
   "outputs": [],
   "source": [
    "# Plot the facies image results\n",
    "r = 0\n",
    "f = pl.figure(figsize=(18, 14))\n",
    "ax = f.add_subplot(1, 3, 1)\n",
    "plot_image(ip_mat)\n",
    "ax.set_title('Input data')\n",
    "ax = f.add_subplot(1, 3, 2)\n",
    "color_table = ((0,0,143,255), (255,200,0,255))\n",
    "plot_image(facies_mat, colorTable=color_table)\n",
    "ax.set_title('Ground truth')\n",
    "ax = f.add_subplot(1, 3, 3)\n",
    "plot_image(tcrfr_facies_mat[r], colorTable=color_table)\n",
    "ax.set_title('TCRFR')\n",
    "pl.show()"
   ]
  },
  {
   "cell_type": "code",
   "execution_count": null,
   "metadata": {
    "collapsed": true
   },
   "outputs": [],
   "source": [
    "# Plot the porosity image results\n",
    "f = pl.figure(figsize=(18, 14))\n",
    "ax = f.add_subplot(1, 5, 1)\n",
    "plot_image(phi_mat)\n",
    "ax.set_title('Ground truth')\n",
    "ax = f.add_subplot(1, 5, 2)\n",
    "plot_image(flx_phi_mat_avg)\n",
    "ax.set_title('FLX')\n",
    "ax = f.add_subplot(1, 5, 3)\n",
    "plot_image(tr_phi_mat_avg)\n",
    "ax.set_title('SVR')\n",
    "ax = f.add_subplot(1, 5, 4)\n",
    "plot_image(tr_phi_mat_avg)\n",
    "ax.set_title('TR')\n",
    "ax = f.add_subplot(1, 5, 5)\n",
    "plot_image(tcrfr_phi_mat_avg)\n",
    "ax.set_title('TCRFR')\n",
    "pl.show()"
   ]
  },
  {
   "cell_type": "code",
   "execution_count": null,
   "metadata": {
    "collapsed": true
   },
   "outputs": [],
   "source": [
    "# Plot the fitting curves for the last iteration\n",
    "sinds = np.argsort(X[test,0])\n",
    "f = pl.figure(figsize=(21, 7))\n",
    "ax = f.add_subplot(1, 3, 1)\n",
    "plt.plot(X[test[sinds],0], y[test[sinds]], 'or', alpha=1.0, markersize=10.0)\n",
    "plt.plot(X[test[sinds],0], pred_flx[sinds], 'ob', alpha=0.9, markersize=6.0)\n",
    "plt.legend(['Truth', 'FLX'], loc=1, fontsize=10)\n",
    "ax.set_title('FlexMix Fitting')\n",
    "ax = f.add_subplot(1, 3, 2)\n",
    "plt.plot(X[test[sinds],0], y[test[sinds]], 'or', alpha=1.0, markersize=10.0)\n",
    "plt.plot(X[test[sinds],0], pred_tr[sinds], 'ob', alpha=0.9, markersize=6.0)\n",
    "plt.legend(['Truth', 'TR'], loc=1, fontsize=10)\n",
    "ax.set_title('Transductive Regression Fitting')\n",
    "ax = f.add_subplot(1, 3, 3)\n",
    "plt.plot(X[test[sinds],0], y[test[sinds]], 'or', alpha=1.0, markersize=10.0)\n",
    "plt.plot(X[test[sinds],0], pred_tcrfr[sinds], 'ob', alpha=0.9, markersize=6.0)\n",
    "plt.legend(['Truth', 'TCRFR'], loc=1, fontsize=10)\n",
    "ax.set_title('Transductive CRF Fitting')\n",
    "pl.show()"
   ]
  },
  {
   "cell_type": "code",
   "execution_count": null,
   "metadata": {
    "collapsed": true
   },
   "outputs": [],
   "source": []
  }
 ],
 "metadata": {
  "kernelspec": {
   "display_name": "Python 2",
   "language": "python",
   "name": "python2"
  },
  "language_info": {
   "codemirror_mode": {
    "name": "ipython",
    "version": 2
   },
   "file_extension": ".py",
   "mimetype": "text/x-python",
   "name": "python",
   "nbconvert_exporter": "python",
   "pygments_lexer": "ipython2",
   "version": "2.7.10"
  }
 },
 "nbformat": 4,
 "nbformat_minor": 0
}
