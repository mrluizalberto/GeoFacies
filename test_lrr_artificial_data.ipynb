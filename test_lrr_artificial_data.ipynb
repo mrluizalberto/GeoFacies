{
 "metadata": {
  "name": "",
  "signature": "sha256:9dbe26bb3ee8a44e177308548b10883f1b49b0b688ed94cb0225e78f9404e099"
 },
 "nbformat": 3,
 "nbformat_minor": 0,
 "worksheets": [
  {
   "cells": [
    {
     "cell_type": "code",
     "collapsed": false,
     "input": [
      "import os\n",
      "import sys\n",
      "import scipy as sp\n",
      "import numpy as np\n",
      "import pandas as pd\n",
      "import math\n",
      "import random\n",
      "import Image\n",
      "import sys\n",
      "sys.stdout.flush()\n",
      "\n",
      "import cvxopt as co\n",
      "import matplotlib.pyplot as plt\n",
      "import pylab as pl\n",
      "from numpy import unravel_index\n",
      "from matplotlib.pyplot import imshow\n",
      "import sklearn.cluster as cl\n",
      "from sklearn.svm import SVR\n",
      "from sklearn import preprocessing\n",
      "from sklearn.metrics import median_absolute_error, mean_squared_error, r2_score, mean_absolute_error, adjusted_rand_score\n",
      "\n",
      "from latent_svr import LatentSVR\n",
      "from latent_ridge_regression import LatentRidgeRegression, TransductiveLatentRidgeRegression\n",
      "from multiclass_regression_model import MulticlassRegressionModel\n",
      "from latent_cluster_regression import LatentClusterRegression\n",
      "from volume import Vol\n",
      "\n",
      "from regression_methods import (method_ridge_regression, method_transductive_regression, method_svr, method_krr, method_tkrr, \n",
      "                                method_lrr, method_tlrr, method_flexmix, measure_regression_performance)"
     ],
     "language": "python",
     "metadata": {},
     "outputs": [],
     "prompt_number": 151
    },
    {
     "cell_type": "code",
     "collapsed": false,
     "input": [
      "%matplotlib inline"
     ],
     "language": "python",
     "metadata": {},
     "outputs": [],
     "prompt_number": 152
    },
    {
     "cell_type": "code",
     "collapsed": false,
     "input": [
      "# Plot an image\n",
      "def plot_image(mat):\n",
      "\n",
      "    # Define a color table\n",
      "    colorTable = (\n",
      "              (0,0,143,255), (0,0,159,255), (0,0,175,255), (0,0,191,255), (0,0,207,255),\n",
      "              (0,0,223,255), (0,0,239,255), (0,0,255,255), (0,16,255,255), (0,32,255,255),\n",
      "              (0,48,255,255), (0,64,255,255), (0,80,255,255), (0,96,255,255), (0,112,255,255),\n",
      "              (0,128,255,255), (0,143,255,255), (0,159,255,255), (0,175,255,255), (0,191,255,255),\n",
      "              (0,207,255,255), (0,223,255,255), (0,239,255,255), (0,255,255,255), (16,255,255,255),\n",
      "              (32,255,239,255), (48,255,223,255), (64,255,207,255), (80,255,191,255), (96,255,175,255),\n",
      "              (112,255,159,255), (128,255,143,255), (143,255,128,255), (159,255,112,255), (175,255,96,255),\n",
      "              (191,255,80,255), (207,255,64,255), (223,255,48,255), (239,255,32,255), (255,255,16,255),\n",
      "              (255,255,0,255), (255,239,0,255), (255,223,0,255), (255,207,0,255), (255,191,0,255),\n",
      "              (255,175,0,255), (255,159,0,255), (255,143,0,255), (255,128,0,255), (255,112,0,255),\n",
      "              (255,96,0,255), (255,80,0,255), (255,64,0,255), (255,48,0,255), (255,32,0,255),\n",
      "              (255,16,0,255), (255,0,0,255), (239,0,0,255), (223,0,0,255), (207,0,0,255),\n",
      "              (191,0,0,255), (175,0,0,255), (159,0,0,255), (143,0,0,255))\n",
      "    \n",
      "    # Get image dimensions\n",
      "    (x,y) = mat.shape\n",
      "    \n",
      "    # Get the maximum and minimum values\n",
      "    minValue = np.amin(mat)\n",
      "    maxValue = np.amax(mat)\n",
      "\n",
      "    # Define min and max color indexes\n",
      "    minIndex = 0\n",
      "    maxIndex = len(colorTable)-1\n",
      "    \n",
      "    # Generate the color index volume\n",
      "    img_color = np.zeros((x,y), dtype=int)\n",
      "    img_color = np.round((mat-minValue)/(maxValue-minValue)*(maxIndex-minIndex)+minIndex).astype(int)\n",
      "        \n",
      "    # Create and display image\n",
      "    img = Image.new( 'RGBA', (x,y), \"white\") # create a new white image\n",
      "    pixels = img.load() # create the pixel map\n",
      "\n",
      "    for i in range(img.size[0]):  # for every pixel\n",
      "        for j in range(img.size[1]):\n",
      "            pixels[i,j] = (colorTable[img_color[i,j]][0], \n",
      "                           colorTable[img_color[i,j]][1], \n",
      "                           colorTable[img_color[i,j]][2], \n",
      "                           colorTable[img_color[i,j]][3])\n",
      "    imshow(np.array(img), origin='lower')"
     ],
     "language": "python",
     "metadata": {},
     "outputs": [],
     "prompt_number": 153
    },
    {
     "cell_type": "code",
     "collapsed": false,
     "input": [
      "# Load ip, porosity, and facies images\n",
      "ip = Vol()\n",
      "ei = Vol()\n",
      "fac = Vol()\n",
      "llambda = Vol()\n",
      "lmu = Vol()\n",
      "pr = Vol()\n",
      "phi = Vol()\n",
      "si = Vol()\n",
      "#ip.read(\"../GeoFacies-Data/ip_111_150x200x1.vol\")\n",
      "#ei.read(\"../GeoFacies-Data/ei_111_150x200x1.vol\")\n",
      "#fac.read(\"../GeoFacies-Data/facies_111_150x200x1.vol\")\n",
      "#llambda.read(\"../GeoFacies-Data/llambda_111_150x200x1.vol\")\n",
      "#lmu.read(\"../GeoFacies-Data/lmu_111_150x200x1.vol\")\n",
      "#pr.read(\"../GeoFacies-Data/pr_111_150x200x1.vol\")\n",
      "#phi.read(\"../GeoFacies-Data/phi_111_150x200x1.vol\")\n",
      "#si.read(\"../GeoFacies-Data/si_111_150x200x1.vol\")\n",
      "ip.read(\"../GeoFacies-Data/ip_112_150x200x1.vol\")\n",
      "ei.read(\"../GeoFacies-Data/ei_112_150x200x1.vol\")\n",
      "fac.read(\"../GeoFacies-Data/facies_112_150x200x1.vol\")\n",
      "llambda.read(\"../GeoFacies-Data/llambda_112_150x200x1.vol\")\n",
      "lmu.read(\"../GeoFacies-Data/lmu_112_150x200x1.vol\")\n",
      "pr.read(\"../GeoFacies-Data/pr_112_150x200x1.vol\")\n",
      "phi.read(\"../GeoFacies-Data/phi_112_150x200x1.vol\")\n",
      "si.read(\"../GeoFacies-Data/si_112_150x200x1.vol\")\n",
      "#phi.read(\"phi_8_100x130x1.vol\")\n",
      "#ip.read(\"ip_8_100x130x1.vol\")\n",
      "#facies.read(\"facies_8_100x130x1.vol\")"
     ],
     "language": "python",
     "metadata": {},
     "outputs": [],
     "prompt_number": 154
    },
    {
     "cell_type": "code",
     "collapsed": false,
     "input": [
      "# Create ip, facies, and phi image matrices\n",
      "ip_mat = ip.data.reshape(ip.sizeY,ip.sizeX).T\n",
      "facies_mat = fac.data.reshape(fac.sizeY,fac.sizeX).T\n",
      "phi_mat = phi.data.reshape(phi.sizeY,phi.sizeX).T"
     ],
     "language": "python",
     "metadata": {},
     "outputs": []
    },
    {
     "cell_type": "code",
     "collapsed": false,
     "input": [
      "# Run experiment REPS times\n",
      "REPS = 40\n",
      "train_frac = 0.001 # training fraction over the whole dataset\n",
      "errs = np.zeros((REPS,4,5))\n",
      "\n",
      "# Create some arrays to keep results\\n\",\n",
      "lrr_facies_mat = np.zeros((REPS, fac.sizeX,fac.sizeY))\n",
      "tlrr_facies_mat = np.zeros((REPS, fac.sizeX,fac.sizeY))\n",
      "rr_phi_mat = np.zeros((REPS, phi.sizeX,phi.sizeY))\n",
      "tr_phi_mat = np.zeros((REPS, phi.sizeX,phi.sizeY))\n",
      "lrr_phi_mat = np.zeros((REPS, phi.sizeX,phi.sizeY))\n",
      "tlrr_phi_mat = np.zeros((REPS, phi.sizeX,phi.sizeY))\n",
      "test_size = np.floor(phi.sizeY*phi.sizeX*(1.-train_frac))\n",
      "pred_rr = np.zeros((REPS,test_size))\n",
      "pred_tr = np.zeros((REPS,test_size))\n",
      "pred_lrr = np.zeros((REPS,test_size))\n",
      "pred_tlrr = np.zeros((REPS,test_size))\n",
      "truth = np.zeros((REPS,test_size))\n",
      "        \n",
      "for r in range(REPS):\n",
      "    # Build X and y arrays\n",
      "    X = []\n",
      "    y = []\n",
      "    facies = []\n",
      "    img_coord = np.zeros((phi.sizeX*phi.sizeY,2),dtype=int)\n",
      "    k = 0\n",
      "    for i in range(phi.sizeX): \n",
      "        for j in range(phi.sizeY):\n",
      "#            X.append([ip.data[0,j,i],ei.data[0,j,i],llambda.data[0,j,i],\n",
      "#                                 lmu.data[0,j,i],pr.data[0,j,i],si.data[0,j,i]])\n",
      "            X.append([ip.data[0,j,i], si.data[0,j,i], pr.data[0,j,i]])\n",
      "            y.append(phi.data[0,j,i])\n",
      "            facies.append(int(fac.data[0,j,i]))\n",
      "            img_coord[k][0] = i\n",
      "            img_coord[k][1] = j\n",
      "            k+=1\n",
      "        \n",
      "    X = np.array(X)\n",
      "    y = np.concatenate(np.array(y).reshape((-1,1)))\n",
      "    facies = np.array(facies)  \n",
      "    \n",
      "    # Define the training and testing sets\n",
      "    samples = X.shape[0]\n",
      "    inds = np.random.permutation(range(samples))\n",
      "    train = inds[:np.floor(samples*train_frac)]\n",
      "    test = inds[np.floor(samples*train_frac):]\n",
      "    y_truth = np.copy(y[test])\n",
      "    \n",
      "    # Normalize the data (zero mean and unit variance)\n",
      "    scalerX = preprocessing.StandardScaler().fit(X[train])\n",
      "#    scalerX = preprocessing.MinMaxScaler().fit(X[train])\n",
      "    X[train] = scalerX.transform(X[train])\n",
      "    scalerY = preprocessing.StandardScaler().fit(y[train])\n",
      "#    scalerY = preprocessing.MinMaxScaler().fit(y[train])\n",
      "    y[train] = scalerY.transform(y[train])\n",
      "    X[test] = scalerX.transform(X[test])\n",
      "    truth[r] = scalerY.transform(y_truth)\n",
      "    \n",
      "    # Scale the data\n",
      "    X[train]*=10.\n",
      "    X[test]*=10.\n",
      "    \n",
      "    # Add the intercept to X\n",
      "    X = np.hstack((X, np.ones((X.shape[0],1))))\n",
      "    print X.shape\n",
      "    \n",
      "    # Define some auxiliary variables\n",
      "    feats = X.shape[1] # number of features\n",
      "    states = 4 # number of facies\n",
      "    names = []\n",
      "    res = []\n",
      "    \n",
      "    # Run the methods\n",
      "    print 'Iteration '+ str(r)\n",
      "    (name, pred_rr[r], lats_rr) = method_ridge_regression(X, y, train, test, states=states, params=0.00001)\n",
      "    (name, pred_tr[r], lats_tr) = method_transductive_regression(X, y, train, test, states=states, params=[0.00001, 0.5, 0.5])\n",
      "    (name, pred_lrr[r], lats_lrr) = method_lrr(X, y, train, test, states=states, params=[0.9, 0.1, 1.0])\n",
      "    (name, pred_tlrr[r], lats_tlrr) = method_tlrr(X, y, train, test, states=states, params=[0.9, 0.1, 1.0])\n",
      "       \n",
      "    # Measure performance\n",
      "    (errs[r,0],_) = measure_regression_performance(truth[r], pred_rr[r])\n",
      "    (errs[r,1],_) = measure_regression_performance(truth[r], pred_tr[r])\n",
      "    (errs[r,2],_) = measure_regression_performance(truth[r], pred_lrr[r])\n",
      "    (errs[r,3],_) = measure_regression_performance(truth[r], pred_tlrr[r])\n",
      "    \n",
      "    # Store image results\n",
      "    for rk in range(len(train)):\n",
      "        ri = img_coord[train[rk]][0]\n",
      "        rj = img_coord[train[rk]][1] \n",
      "        rr_phi_mat[r,ri,rj] = y[train[rk]]\n",
      "        tr_phi_mat[r,ri,rj] = y[train[rk]]\n",
      "        lrr_phi_mat[r,ri,rj] = y[train[rk]]\n",
      "        tlrr_phi_mat[r,ri,rj] = y[train[rk]]\n",
      "    for rk in range(len(test)):\n",
      "        ri = img_coord[test[rk]][0]\n",
      "        rj = img_coord[test[rk]][1]\n",
      "        lrr_facies_mat[r,ri,rj] = lats_lrr[rk]\n",
      "        tlrr_facies_mat[r,ri,rj] = lats_tlrr[rk]\n",
      "        rr_phi_mat[r,ri,rj] = pred_rr[r,rk]\n",
      "        tr_phi_mat[r,ri,rj] = pred_tr[r,rk]\n",
      "        lrr_phi_mat[r,ri,rj] = pred_lrr[r,rk]\n",
      "        tlrr_phi_mat[r,ri,rj] = pred_tlrr[r,rk]"
     ],
     "language": "python",
     "metadata": {},
     "outputs": [
      {
       "output_type": "stream",
       "stream": "stdout",
       "text": [
        "(30000, 4)\n",
        "Iteration 0\n",
        "Creating structured object with #30 examples and #4 features.\n",
        "Creating structured object with #29970 examples and #4 features.\n",
        "Generate a random solution vector for hot start.\n",
        "Generate a random solution vector for hot start.\n",
        "Iter=0 combined objective=-26.12 rel=38281558.8672 used_lats=4\n",
        "Iter=1 combined objective=-61.75 rel=0.5770 used_lats=3\n",
        "Iter=2 combined objective=-62.41 rel=0.0106 used_lats=3\n",
        "Iter=3 combined objective=-62.41 rel=0.0000 used_lats=3\n",
        "Iter=4 combined objective=-62.41 rel=0.0000 used_lats=3\n",
        "Generate a random solution vector for hot start.\n",
        "Generate a random solution vector for hot start.\n",
        "Iter=0 combined objective=-10.07 rel=99338803.7671 used_lats=4\n",
        "Iter=1 combined objective=-54.09 rel=0.8139 used_lats=4\n",
        "Iter=2 combined objective=-62.41 rel=0.1333 used_lats=3\n",
        "Iter=3 combined objective=-62.41 rel=0.0000 used_lats=3\n",
        "Iter=4 combined objective=-62.41 rel=0.0000 used_lats=3\n",
        "Generate a random solution vector for hot start.\n",
        "Generate a random solution vector for hot start.\n",
        "Iter=0 combined objective=-19.60 rel=51009133.5603 used_lats=4\n",
        "Iter=1 combined objective=-62.41 rel=0.6859 used_lats=3\n",
        "Iter=2 combined objective=-62.41 rel=0.0000 used_lats=3\n",
        "Iter=3 combined objective=-62.41 rel=0.0000 used_lats=3\n",
        "Iter=4 combined objective=-62.41 rel=0.0000 used_lats=3\n",
        "Generate a random solution vector for hot start.\n",
        "Generate a random solution vector for hot start.\n",
        "Iter=0 combined objective=-0.91 rel=1098067001.2583 used_lats=2\n",
        "Iter=1 combined objective=-21.50 rel=0.9576 used_lats=2\n",
        "Iter=2 combined objective=-50.55 rel=0.5747 used_lats=2\n",
        "Iter=3 combined objective=-59.18 rel=0.1458 used_lats=2\n",
        "Iter=4 combined objective=-60.44 rel=0.0208 used_lats=2\n",
        "Iter=5 combined objective=-60.68 rel=0.0041 used_lats=2\n",
        "Iter=6 combined objective=-60.68 rel=0.0000 used_lats=2\n",
        "Generate a random solution vector for hot start.\n",
        "Generate a random solution vector for hot start.\n",
        "Iter=0 combined objective=-7.00 rel=142864672.2289 used_lats=3\n",
        "Iter=1 combined objective=-50.29 rel=0.8608 used_lats=3\n",
        "Iter=2 combined objective=-56.04 rel=0.1025 used_lats=3\n",
        "Iter=3 combined objective=-60.68 rel=0.0765 used_lats=2\n",
        "Iter=4 combined objective=-60.68 rel=0.0000 used_lats=2\n",
        "Generate a random solution vector for hot start.\n",
        "Generate a random solution vector for hot start.\n",
        "Iter=0 combined objective=-4.01 rel=249079558.5770 used_lats=4\n",
        "Iter=1 combined objective=-47.48 rel=0.9155 used_lats=4\n",
        "Iter=2 combined objective=-55.71 rel=0.1476 used_lats=4\n",
        "Iter=3 combined objective=-62.41 rel=0.1075 used_lats=3\n",
        "Iter=4 combined objective=-62.41 rel=0.0000 used_lats=3\n",
        "Generate a random solution vector for hot start.\n",
        "Generate a random solution vector for hot start.\n",
        "Iter=0 combined objective=-29.33 rel=34097025.6251 used_lats=3\n",
        "Iter=1 combined objective=-62.41 rel=0.5301 used_lats=3\n",
        "Iter=2 combined objective=-62.41 rel=0.0000 used_lats=3\n",
        "Iter=3 combined objective=-62.41 rel=0.0000 used_lats=3\n",
        "Iter=4 combined objective=-62.41 rel=0.0000 used_lats=3\n",
        "Generate a random solution vector for hot start.\n",
        "Generate a random solution vector for hot start.\n",
        "Iter=0 combined objective=-1.33 rel=749479070.5010 used_lats=3\n",
        "Iter=1 combined objective=-50.55 rel=0.9736 used_lats=2\n",
        "Iter=2 combined objective=-59.18 rel=0.1458 used_lats=2\n",
        "Iter=3 combined objective=-60.44 rel=0.0208 used_lats=2\n",
        "Iter=4 combined objective=-60.68 rel=0.0041 used_lats=2\n",
        "Iter=5 combined objective=-60.68 rel=0.0000 used_lats=2\n",
        "Generate a random solution vector for hot start.\n",
        "Generate a random solution vector for hot start.\n",
        "Iter=0 combined objective=-4.50 rel=222352463.9573 used_lats=2\n",
        "Iter=1 combined objective=-35.48 rel=0.8732 used_lats=2\n",
        "Iter=2 combined objective=-50.55 rel=0.2983 used_lats=2\n",
        "Iter=3 combined objective=-59.18 rel=0.1458 used_lats=2\n",
        "Iter=4 combined objective=-60.44 rel=0.0208 used_lats=2\n",
        "Iter=5 combined objective=-60.68 rel=0.0041 used_lats=2\n",
        "Iter=6 combined objective=-60.68 rel=0.0000 used_lats=2"
       ]
      },
      {
       "output_type": "stream",
       "stream": "stdout",
       "text": [
        "\n",
        "Generate a random solution vector for hot start.\n",
        "Generate a random solution vector for hot start.\n",
        "Iter=0 combined objective=-1.57 rel=635697766.2471 used_lats=2\n",
        "Iter=1 combined objective=-50.55 rel=0.9689 used_lats=2\n",
        "Iter=2 combined objective=-59.18 rel=0.1458 used_lats=2\n",
        "Iter=3 combined objective=-60.44 rel=0.0208 used_lats=2\n",
        "Iter=4 combined objective=-60.68 rel=0.0041 used_lats=2\n",
        "Iter=5 combined objective=-60.68 rel=0.0000 used_lats=2\n",
        "[1 2 3]"
       ]
      },
      {
       "output_type": "stream",
       "stream": "stdout",
       "text": [
        "\n",
        "Creating structured object with #30000 examples and #4 features.\n",
        "Generate a random solution vector for hot start.\n",
        "Generate a random solution vector for hot start.\n",
        "Iter=0 combined objective=-57657.40 rel=17344.8279 used_lats=4"
       ]
      },
      {
       "output_type": "stream",
       "stream": "stdout",
       "text": [
        "\n",
        "Iter=1 combined objective=-58466.15 rel=0.0138 used_lats=3"
       ]
      },
      {
       "output_type": "stream",
       "stream": "stdout",
       "text": [
        "\n",
        "Iter=2 combined objective=-58508.49 rel=0.0007 used_lats=3"
       ]
      },
      {
       "output_type": "stream",
       "stream": "stdout",
       "text": [
        "\n",
        "Iter=3 combined objective=-58510.13 rel=0.0000 used_lats=3"
       ]
      },
      {
       "output_type": "stream",
       "stream": "stdout",
       "text": [
        "\n",
        "Iter=4 combined objective=-58510.22 rel=0.0000 used_lats=3"
       ]
      },
      {
       "output_type": "stream",
       "stream": "stdout",
       "text": [
        "\n",
        "[0 2 3]"
       ]
      },
      {
       "output_type": "stream",
       "stream": "stdout",
       "text": [
        "\n",
        "[0 2 3]\n",
        "Generate a random solution vector for hot start.\n",
        "Generate a random solution vector for hot start.\n",
        "Iter=0 combined objective=-39556.99 rel=25280.9839 used_lats=4"
       ]
      },
      {
       "output_type": "stream",
       "stream": "stdout",
       "text": [
        "\n",
        "Iter=1 combined objective=-40116.06 rel=0.0139 used_lats=3"
       ]
      },
      {
       "output_type": "stream",
       "stream": "stdout",
       "text": [
        "\n",
        "Iter=2 combined objective=-49948.88 rel=0.1969 used_lats=3"
       ]
      },
      {
       "output_type": "stream",
       "stream": "stdout",
       "text": [
        "\n",
        "Iter=3 combined objective=-54610.70 rel=0.0854 used_lats=3"
       ]
      },
      {
       "output_type": "stream",
       "stream": "stdout",
       "text": [
        "\n",
        "Iter=4 combined objective=-57998.83 rel=0.0584 used_lats=3"
       ]
      },
      {
       "output_type": "stream",
       "stream": "stdout",
       "text": [
        "\n",
        "Iter=5 combined objective=-58479.33 rel=0.0082 used_lats=3"
       ]
      },
      {
       "output_type": "stream",
       "stream": "stdout",
       "text": [
        "\n",
        "Iter=6 combined objective=-58508.93 rel=0.0005 used_lats=3"
       ]
      },
      {
       "output_type": "stream",
       "stream": "stdout",
       "text": [
        "\n",
        "Iter=7 combined objective=-58510.16 rel=0.0000 used_lats=3"
       ]
      },
      {
       "output_type": "stream",
       "stream": "stdout",
       "text": [
        "\n",
        "[0 1 2]"
       ]
      },
      {
       "output_type": "stream",
       "stream": "stdout",
       "text": [
        "\n",
        "[0 1 2]\n",
        "Generate a random solution vector for hot start.\n",
        "Generate a random solution vector for hot start.\n",
        "Iter=0 combined objective=-51226.08 rel=19522.3077 used_lats=4"
       ]
      },
      {
       "output_type": "stream",
       "stream": "stdout",
       "text": [
        "\n",
        "Iter=1 combined objective=-58505.73 rel=0.1244 used_lats=3"
       ]
      },
      {
       "output_type": "stream",
       "stream": "stdout",
       "text": [
        "\n",
        "Iter=2 combined objective=-58509.96 rel=0.0001 used_lats=3"
       ]
      },
      {
       "output_type": "stream",
       "stream": "stdout",
       "text": [
        "\n",
        "Iter=3 combined objective=-58510.21 rel=0.0000 used_lats=3"
       ]
      },
      {
       "output_type": "stream",
       "stream": "stdout",
       "text": [
        "\n",
        "Iter=4 combined objective=-58510.22 rel=0.0000 used_lats=3"
       ]
      },
      {
       "output_type": "stream",
       "stream": "stdout",
       "text": [
        "\n",
        "[0 1 2]"
       ]
      },
      {
       "output_type": "stream",
       "stream": "stdout",
       "text": [
        "\n",
        "[0 1 2]\n",
        "Generate a random solution vector for hot start.\n",
        "Generate a random solution vector for hot start.\n",
        "Iter=0 combined objective=-41138.89 rel=24308.9016 used_lats=4"
       ]
      },
      {
       "output_type": "stream",
       "stream": "stdout",
       "text": [
        "\n",
        "Iter=1 combined objective=-48703.98 rel=0.1553 used_lats=4"
       ]
      },
      {
       "output_type": "stream",
       "stream": "stdout",
       "text": [
        "\n",
        "Iter=2 combined objective=-58508.69 rel=0.1676 used_lats=3"
       ]
      },
      {
       "output_type": "stream",
       "stream": "stdout",
       "text": [
        "\n",
        "Iter=3 combined objective=-58510.15 rel=0.0000 used_lats=3"
       ]
      },
      {
       "output_type": "stream",
       "stream": "stdout",
       "text": [
        "\n",
        "Iter=4 combined objective=-58510.22 rel=0.0000 used_lats=3"
       ]
      },
      {
       "output_type": "stream",
       "stream": "stdout",
       "text": [
        "\n",
        "[0 2 3]"
       ]
      },
      {
       "output_type": "stream",
       "stream": "stdout",
       "text": [
        "\n",
        "[0 2 3]\n",
        "Generate a random solution vector for hot start.\n",
        "Generate a random solution vector for hot start.\n",
        "Iter=0 combined objective=-45567.02 rel=21946.6946 used_lats=4"
       ]
      },
      {
       "output_type": "stream",
       "stream": "stdout",
       "text": [
        "\n",
        "Iter=1 combined objective=-58345.24 rel=0.2190 used_lats=3"
       ]
      },
      {
       "output_type": "stream",
       "stream": "stdout",
       "text": [
        "\n",
        "Iter=2 combined objective=-58502.21 rel=0.0027 used_lats=3"
       ]
      },
      {
       "output_type": "stream",
       "stream": "stdout",
       "text": [
        "\n",
        "Iter=3 combined objective=-58509.89 rel=0.0001 used_lats=3"
       ]
      },
      {
       "output_type": "stream",
       "stream": "stdout",
       "text": [
        "\n",
        "Iter=4 combined objective=-58510.21 rel=0.0000 used_lats=3"
       ]
      },
      {
       "output_type": "stream",
       "stream": "stdout",
       "text": [
        "\n",
        "[0 1 2]"
       ]
      },
      {
       "output_type": "stream",
       "stream": "stdout",
       "text": [
        "\n",
        "[0 1 2]\n",
        "Generate a random solution vector for hot start.\n",
        "Generate a random solution vector for hot start.\n",
        "Iter=0 combined objective=-47954.91 rel=20853.9231 used_lats=4"
       ]
      },
      {
       "output_type": "stream",
       "stream": "stdout",
       "text": [
        "\n",
        "Iter=1 combined objective=-58458.31 rel=0.1797 used_lats=3"
       ]
      },
      {
       "output_type": "stream",
       "stream": "stdout",
       "text": [
        "\n",
        "Iter=2 combined objective=-58508.11 rel=0.0009 used_lats=3"
       ]
      },
      {
       "output_type": "stream",
       "stream": "stdout",
       "text": [
        "\n",
        "Iter=3 combined objective=-58510.11 rel=0.0000 used_lats=3"
       ]
      },
      {
       "output_type": "stream",
       "stream": "stdout",
       "text": [
        "\n",
        "Iter=4 combined objective=-58510.22 rel=0.0000 used_lats=3"
       ]
      },
      {
       "output_type": "stream",
       "stream": "stdout",
       "text": [
        "\n",
        "[0 2 3]"
       ]
      },
      {
       "output_type": "stream",
       "stream": "stdout",
       "text": [
        "\n",
        "[0 2 3]\n",
        "Generate a random solution vector for hot start.\n",
        "Generate a random solution vector for hot start.\n",
        "Iter=0 combined objective=-56801.18 rel=17606.2674 used_lats=4"
       ]
      },
      {
       "output_type": "stream",
       "stream": "stdout",
       "text": [
        "\n",
        "Iter=1 combined objective=-58506.96 rel=0.0292 used_lats=3"
       ]
      },
      {
       "output_type": "stream",
       "stream": "stdout",
       "text": [
        "\n",
        "Iter=2 combined objective=-58510.00 rel=0.0001 used_lats=3"
       ]
      },
      {
       "output_type": "stream",
       "stream": "stdout",
       "text": [
        "\n",
        "Iter=3 combined objective=-58510.22 rel=0.0000 used_lats=3"
       ]
      },
      {
       "output_type": "stream",
       "stream": "stdout",
       "text": [
        "\n",
        "Iter=4 combined objective=-58510.22 rel=0.0000 used_lats=3"
       ]
      },
      {
       "output_type": "stream",
       "stream": "stdout",
       "text": [
        "\n",
        "[0 2 3]"
       ]
      },
      {
       "output_type": "stream",
       "stream": "stdout",
       "text": [
        "\n",
        "[0 2 3]\n",
        "Generate a random solution vector for hot start.\n",
        "Generate a random solution vector for hot start.\n",
        "Iter=0 combined objective=-53716.06 rel=18617.4047 used_lats=4"
       ]
      },
      {
       "output_type": "stream",
       "stream": "stdout",
       "text": [
        "\n",
        "Iter=1 combined objective=-54599.08 rel=0.0162 used_lats=4"
       ]
      },
      {
       "output_type": "stream",
       "stream": "stdout",
       "text": [
        "\n",
        "Iter=2 combined objective=-54936.82 rel=0.0061 used_lats=3"
       ]
      },
      {
       "output_type": "stream",
       "stream": "stdout",
       "text": [
        "\n",
        "Iter=3 combined objective=-55601.91 rel=0.0120 used_lats=3"
       ]
      },
      {
       "output_type": "stream",
       "stream": "stdout",
       "text": [
        "\n",
        "Iter=4 combined objective=-58110.46 rel=0.0432 used_lats=3"
       ]
      },
      {
       "output_type": "stream",
       "stream": "stdout",
       "text": [
        "\n",
        "Iter=5 combined objective=-58501.65 rel=0.0067 used_lats=3"
       ]
      },
      {
       "output_type": "stream",
       "stream": "stdout",
       "text": [
        "\n",
        "Iter=6 combined objective=-58509.89 rel=0.0001 used_lats=3"
       ]
      },
      {
       "output_type": "stream",
       "stream": "stdout",
       "text": [
        "\n",
        "Iter=7 combined objective=-58510.21 rel=0.0000 used_lats=3"
       ]
      },
      {
       "output_type": "stream",
       "stream": "stdout",
       "text": [
        "\n",
        "[0 2 3]"
       ]
      },
      {
       "output_type": "stream",
       "stream": "stdout",
       "text": [
        "\n",
        "[0 2 3]\n",
        "Generate a random solution vector for hot start.\n",
        "Generate a random solution vector for hot start.\n",
        "Iter=0 combined objective=-50249.23 rel=19901.8029 used_lats=4"
       ]
      },
      {
       "output_type": "stream",
       "stream": "stdout",
       "text": [
        "\n",
        "Iter=1 combined objective=-56082.03 rel=0.1040 used_lats=4"
       ]
      },
      {
       "output_type": "stream",
       "stream": "stdout",
       "text": [
        "\n",
        "Iter=2 combined objective=-58510.18 rel=0.0415 used_lats=3"
       ]
      },
      {
       "output_type": "stream",
       "stream": "stdout",
       "text": [
        "\n",
        "Iter=3 combined objective=-58510.22 rel=0.0000 used_lats=3"
       ]
      },
      {
       "output_type": "stream",
       "stream": "stdout",
       "text": [
        "\n",
        "Iter=4 combined objective=-58510.22 rel=0.0000 used_lats=3"
       ]
      },
      {
       "output_type": "stream",
       "stream": "stdout",
       "text": [
        "\n",
        "[0 1 2]"
       ]
      },
      {
       "output_type": "stream",
       "stream": "stdout",
       "text": [
        "\n",
        "[0 1 2]\n",
        "Generate a random solution vector for hot start.\n",
        "Generate a random solution vector for hot start.\n",
        "Iter=0 combined objective=-27353.98 rel=36558.7518 used_lats=4"
       ]
      },
      {
       "output_type": "stream",
       "stream": "stdout",
       "text": [
        "\n",
        "Iter=1 combined objective=-52404.69 rel=0.4780 used_lats=4"
       ]
      },
      {
       "output_type": "stream",
       "stream": "stdout",
       "text": [
        "\n",
        "Iter=2 combined objective=-58407.69 rel=0.1028 used_lats=3"
       ]
      },
      {
       "output_type": "stream",
       "stream": "stdout",
       "text": [
        "\n",
        "Iter=3 combined objective=-58505.73 rel=0.0017 used_lats=3"
       ]
      },
      {
       "output_type": "stream",
       "stream": "stdout",
       "text": [
        "\n",
        "Iter=4 combined objective=-58509.96 rel=0.0001 used_lats=3"
       ]
      },
      {
       "output_type": "stream",
       "stream": "stdout",
       "text": [
        "\n",
        "[0 1 3]"
       ]
      },
      {
       "output_type": "stream",
       "stream": "stdout",
       "text": [
        "\n",
        "[0 1 3]\n",
        "(30000, 4)"
       ]
      },
      {
       "output_type": "stream",
       "stream": "stdout",
       "text": [
        "\n",
        "Iteration 1\n",
        "Creating structured object with #30 examples and #4 features.\n",
        "Creating structured object with #29970 examples and #4 features.\n",
        "Generate a random solution vector for hot start.\n",
        "Generate a random solution vector for hot start.\n",
        "Iter=0 combined objective=-31.13 rel=32127755.3028 used_lats=4\n",
        "Iter=1 combined objective=-54.03 rel=0.4239 used_lats=3\n",
        "Iter=2 combined objective=-56.88 rel=0.0500 used_lats=3\n",
        "Iter=3 combined objective=-56.88 rel=0.0000 used_lats=3\n",
        "Iter=4 combined objective=-56.88 rel=0.0000 used_lats=3\n",
        "Generate a random solution vector for hot start.\n",
        "Generate a random solution vector for hot start.\n",
        "Iter=0 combined objective=-20.09 rel=49765551.6464 used_lats=3\n",
        "Iter=1 combined objective=-56.88 rel=0.6467 used_lats=3\n",
        "Iter=2 combined objective=-56.88 rel=0.0000 used_lats=3\n",
        "Iter=3 combined objective=-56.88 rel=0.0000 used_lats=3\n",
        "Iter=4 combined objective=-56.88 rel=0.0000 used_lats=3\n",
        "Generate a random solution vector for hot start.\n",
        "Generate a random solution vector for hot start.\n",
        "Iter=0 combined objective=-22.65 rel=44147556.7637 used_lats=4\n",
        "Iter=1 combined objective=-56.11 rel=0.5963 used_lats=3\n",
        "Iter=2 combined objective=-56.75 rel=0.0113 used_lats=3\n",
        "Iter=3 combined objective=-56.88 rel=0.0022 used_lats=3\n",
        "Iter=4 combined objective=-56.88 rel=0.0000 used_lats=3\n",
        "Generate a random solution vector for hot start.\n",
        "Generate a random solution vector for hot start.\n",
        "Iter=0 combined objective=-44.41 rel=22515218.0405 used_lats=3\n",
        "Iter=1 combined objective=-56.75 rel=0.2174 used_lats=3\n",
        "Iter=2 combined objective=-56.88 rel=0.0022 used_lats=3\n",
        "Iter=3 combined objective=-56.88 rel=0.0000 used_lats=3\n",
        "Iter=4 combined objective=-56.88 rel=0.0000 used_lats=3\n",
        "Generate a random solution vector for hot start.\n",
        "Generate a random solution vector for hot start.\n",
        "Iter=0 combined objective=-0.76 rel=1322180297.9366 used_lats=2\n",
        "Iter=1 combined objective=-16.55 rel=0.9543 used_lats=2\n",
        "Iter=2 combined objective=-19.14 rel=0.1351 used_lats=2\n",
        "Iter=3 combined objective=-19.58 rel=0.0225 used_lats=2\n",
        "Iter=4 combined objective=-19.81 rel=0.0116 used_lats=2\n",
        "Iter=5 combined objective=-20.18 rel=0.0184 used_lats=2\n",
        "Iter=6 combined objective=-22.95 rel=0.1206 used_lats=2\n",
        "Iter=7 combined objective=-44.14 rel=0.4801 used_lats=2\n",
        "Iter=8 combined objective=-46.26 rel=0.0458 used_lats=2\n",
        "Iter=9 combined objective=-54.53 rel=0.1516 used_lats=2\n",
        "Iter=10 combined objective=-55.08 rel=0.0101 used_lats=2\n",
        "Iter=11 combined objective=-55.08 rel=0.0000 used_lats=2\n",
        "Generate a random solution vector for hot start.\n",
        "Generate a random solution vector for hot start.\n",
        "Iter=0 combined objective=-40.03 rel=24978614.7412 used_lats=3\n",
        "Iter=1 combined objective=-55.08 rel=0.2732 used_lats=2\n",
        "Iter=2 combined objective=-55.08 rel=0.0000 used_lats=2\n",
        "Iter=3 combined objective=-55.08 rel=0.0000 used_lats=2\n",
        "Iter=4 combined objective=-55.08 rel=0.0000 used_lats=2\n",
        "Generate a random solution vector for hot start.\n",
        "Generate a random solution vector for hot start.\n",
        "Iter=0 combined objective=-37.30 rel=26810864.5247 used_lats=4\n",
        "Iter=1 combined objective=-55.08 rel=0.3229 used_lats=2\n",
        "Iter=2 combined objective=-55.08 rel=0.0000 used_lats=2\n",
        "Iter=3 combined objective=-55.08 rel=0.0000 used_lats=2\n",
        "Iter=4 combined objective=-55.08 rel=0.0000 used_lats=2\n",
        "Generate a random solution vector for hot start.\n",
        "Generate a random solution vector for hot start.\n",
        "Iter=0 combined objective=-30.63 rel=32643492.1966 used_lats=4\n",
        "Iter=1 combined objective=-56.75 rel=0.4602 used_lats=3\n",
        "Iter=2 combined objective=-56.88 rel=0.0022 used_lats=3\n",
        "Iter=3 combined objective=-56.88 rel=0.0000 used_lats=3\n",
        "Iter=4 combined objective=-56.88 rel=0.0000 used_lats=3\n",
        "Generate a random solution vector for hot start.\n",
        "Generate a random solution vector for hot start.\n",
        "Iter=0 combined objective=-40.15 rel=24907077.5046 used_lats=4\n",
        "Iter=1 combined objective=-56.75 rel=0.2926 used_lats=3"
       ]
      },
      {
       "output_type": "stream",
       "stream": "stdout",
       "text": [
        "\n",
        "Iter=2 combined objective=-56.88 rel=0.0022 used_lats=3\n",
        "Iter=3 combined objective=-56.88 rel=0.0000 used_lats=3\n",
        "Iter=4 combined objective=-56.88 rel=0.0000 used_lats=3\n",
        "Generate a random solution vector for hot start.\n",
        "Generate a random solution vector for hot start.\n",
        "Iter=0 combined objective=-34.82 rel=28718843.7311 used_lats=4\n",
        "Iter=1 combined objective=-56.75 rel=0.3865 used_lats=3\n",
        "Iter=2 combined objective=-56.88 rel=0.0022 used_lats=3\n",
        "Iter=3 combined objective=-56.88 rel=0.0000 used_lats=3\n",
        "Iter=4 combined objective=-56.88 rel=0.0000 used_lats=3\n",
        "[0 1 2]"
       ]
      },
      {
       "output_type": "stream",
       "stream": "stdout",
       "text": [
        "\n",
        "Creating structured object with #30000 examples and #4 features.\n",
        "Generate a random solution vector for hot start.\n",
        "Generate a random solution vector for hot start.\n",
        "Iter=0 combined objective=-68804.69 rel=14534.8921 used_lats=4"
       ]
      },
      {
       "output_type": "stream",
       "stream": "stdout",
       "text": [
        "\n",
        "Iter=1 combined objective=-71246.09 rel=0.0343 used_lats=3"
       ]
      },
      {
       "output_type": "stream",
       "stream": "stdout",
       "text": [
        "\n",
        "Iter=2 combined objective=-71282.31 rel=0.0005 used_lats=3"
       ]
      },
      {
       "output_type": "stream",
       "stream": "stdout",
       "text": [
        "\n",
        "Iter=3 combined objective=-71283.13 rel=0.0000 used_lats=3"
       ]
      },
      {
       "output_type": "stream",
       "stream": "stdout",
       "text": [
        "\n",
        "Iter=4 combined objective=-71283.16 rel=0.0000 used_lats=3"
       ]
      },
      {
       "output_type": "stream",
       "stream": "stdout",
       "text": [
        "\n",
        "[0 1 2]"
       ]
      },
      {
       "output_type": "stream",
       "stream": "stdout",
       "text": [
        "\n",
        "[0 1 2]\n",
        "Generate a random solution vector for hot start.\n",
        "Generate a random solution vector for hot start.\n",
        "Iter=0 combined objective=-69889.60 rel=14309.2813 used_lats=4"
       ]
      },
      {
       "output_type": "stream",
       "stream": "stdout",
       "text": [
        "\n",
        "Iter=1 combined objective=-71961.19 rel=0.0288 used_lats=3"
       ]
      },
      {
       "output_type": "stream",
       "stream": "stdout",
       "text": [
        "\n",
        "Iter=2 combined objective=-72105.13 rel=0.0020 used_lats=3"
       ]
      },
      {
       "output_type": "stream",
       "stream": "stdout",
       "text": [
        "\n",
        "Iter=3 combined objective=-72123.64 rel=0.0003 used_lats=3"
       ]
      },
      {
       "output_type": "stream",
       "stream": "stdout",
       "text": [
        "\n",
        "Iter=4 combined objective=-72125.70 rel=0.0000 used_lats=3"
       ]
      },
      {
       "output_type": "stream",
       "stream": "stdout",
       "text": [
        "\n",
        "[0 1 3]"
       ]
      },
      {
       "output_type": "stream",
       "stream": "stdout",
       "text": [
        "\n",
        "[0 1 3]\n",
        "Generate a random solution vector for hot start.\n",
        "Generate a random solution vector for hot start.\n",
        "Iter=0 combined objective=-24962.29 rel=40061.4245 used_lats=4"
       ]
      },
      {
       "output_type": "stream",
       "stream": "stdout",
       "text": [
        "\n",
        "Iter=1 combined objective=-26179.17 rel=0.0465 used_lats=4"
       ]
      },
      {
       "output_type": "stream",
       "stream": "stdout",
       "text": [
        "\n",
        "Iter=2 combined objective=-43360.31 rel=0.3962 used_lats=3"
       ]
      },
      {
       "output_type": "stream",
       "stream": "stdout",
       "text": [
        "\n",
        "Iter=3 combined objective=-55062.40 rel=0.2125 used_lats=3"
       ]
      },
      {
       "output_type": "stream",
       "stream": "stdout",
       "text": [
        "\n",
        "Iter=4 combined objective=-68659.53 rel=0.1980 used_lats=3"
       ]
      },
      {
       "output_type": "stream",
       "stream": "stdout",
       "text": [
        "\n",
        "Iter=5 combined objective=-69751.59 rel=0.0157 used_lats=3"
       ]
      },
      {
       "output_type": "stream",
       "stream": "stdout",
       "text": [
        "\n",
        "Iter=6 combined objective=-70698.00 rel=0.0134 used_lats=3"
       ]
      },
      {
       "output_type": "stream",
       "stream": "stdout",
       "text": [
        "\n",
        "Iter=7 combined objective=-71736.82 rel=0.0145 used_lats=3"
       ]
      },
      {
       "output_type": "stream",
       "stream": "stdout",
       "text": [
        "\n",
        "Iter=8 combined objective=-72064.33 rel=0.0045 used_lats=3"
       ]
      },
      {
       "output_type": "stream",
       "stream": "stdout",
       "text": [
        "\n",
        "Iter=9 combined objective=-72118.03 rel=0.0007 used_lats=3"
       ]
      },
      {
       "output_type": "stream",
       "stream": "stdout",
       "text": [
        "\n",
        "Iter=10 combined objective=-72125.10 rel=0.0001 used_lats=3"
       ]
      },
      {
       "output_type": "stream",
       "stream": "stdout",
       "text": [
        "\n",
        "[0 1 3]"
       ]
      },
      {
       "output_type": "stream",
       "stream": "stdout",
       "text": [
        "\n",
        "[0 1 3]\n",
        "Generate a random solution vector for hot start.\n",
        "Generate a random solution vector for hot start.\n",
        "Iter=0 combined objective=-64063.98 rel=15610.3960 used_lats=4"
       ]
      },
      {
       "output_type": "stream",
       "stream": "stdout",
       "text": [
        "\n",
        "Iter=1 combined objective=-71259.30 rel=0.1010 used_lats=3"
       ]
      },
      {
       "output_type": "stream",
       "stream": "stdout",
       "text": [
        "\n",
        "Iter=2 combined objective=-71282.81 rel=0.0003 used_lats=3"
       ]
      },
      {
       "output_type": "stream",
       "stream": "stdout",
       "text": [
        "\n",
        "Iter=3 combined objective=-71283.16 rel=0.0000 used_lats=3"
       ]
      },
      {
       "output_type": "stream",
       "stream": "stdout",
       "text": [
        "\n",
        "Iter=4 combined objective=-71283.16 rel=0.0000 used_lats=3"
       ]
      },
      {
       "output_type": "stream",
       "stream": "stdout",
       "text": [
        "\n",
        "[0 1 2]"
       ]
      },
      {
       "output_type": "stream",
       "stream": "stdout",
       "text": [
        "\n",
        "[0 1 2]\n",
        "Generate a random solution vector for hot start.\n",
        "Generate a random solution vector for hot start.\n",
        "Iter=0 combined objective=-59878.13 rel=16701.5875 used_lats=4"
       ]
      },
      {
       "output_type": "stream",
       "stream": "stdout",
       "text": [
        "\n",
        "Iter=1 combined objective=-71115.86 rel=0.1580 used_lats=3"
       ]
      },
      {
       "output_type": "stream",
       "stream": "stdout",
       "text": [
        "\n",
        "Iter=2 combined objective=-71279.96 rel=0.0023 used_lats=3"
       ]
      },
      {
       "output_type": "stream",
       "stream": "stdout",
       "text": [
        "\n",
        "Iter=3 combined objective=-71283.14 rel=0.0000 used_lats=3"
       ]
      },
      {
       "output_type": "stream",
       "stream": "stdout",
       "text": [
        "\n",
        "Iter=4 combined objective=-71283.16 rel=0.0000 used_lats=3"
       ]
      },
      {
       "output_type": "stream",
       "stream": "stdout",
       "text": [
        "\n",
        "[1 2 3]"
       ]
      },
      {
       "output_type": "stream",
       "stream": "stdout",
       "text": [
        "\n",
        "[1 2 3]\n",
        "Generate a random solution vector for hot start.\n",
        "Generate a random solution vector for hot start.\n",
        "Iter=0 combined objective=-71797.98 rel=13928.9686 used_lats=4"
       ]
      },
      {
       "output_type": "stream",
       "stream": "stdout",
       "text": [
        "\n",
        "Iter=1 combined objective=-72107.20 rel=0.0043 used_lats=3"
       ]
      },
      {
       "output_type": "stream",
       "stream": "stdout",
       "text": [
        "\n",
        "Iter=2 combined objective=-72124.09 rel=0.0002 used_lats=3"
       ]
      },
      {
       "output_type": "stream",
       "stream": "stdout",
       "text": [
        "\n",
        "Iter=3 combined objective=-72125.72 rel=0.0000 used_lats=3"
       ]
      },
      {
       "output_type": "stream",
       "stream": "stdout",
       "text": [
        "\n",
        "Iter=4 combined objective=-72125.90 rel=0.0000 used_lats=3"
       ]
      },
      {
       "output_type": "stream",
       "stream": "stdout",
       "text": [
        "\n",
        "[1 2 3]"
       ]
      },
      {
       "output_type": "stream",
       "stream": "stdout",
       "text": [
        "\n",
        "[1 2 3]\n",
        "Generate a random solution vector for hot start.\n",
        "Generate a random solution vector for hot start.\n",
        "Iter=0 combined objective=-66936.79 rel=14940.4670 used_lats=4"
       ]
      },
      {
       "output_type": "stream",
       "stream": "stdout",
       "text": [
        "\n",
        "Iter=1 combined objective=-71894.50 rel=0.0690 used_lats=3"
       ]
      },
      {
       "output_type": "stream",
       "stream": "stdout",
       "text": [
        "\n",
        "Iter=2 combined objective=-72102.41 rel=0.0029 used_lats=3"
       ]
      },
      {
       "output_type": "stream",
       "stream": "stdout",
       "text": [
        "\n",
        "Iter=3 combined objective=-72123.50 rel=0.0003 used_lats=3"
       ]
      },
      {
       "output_type": "stream",
       "stream": "stdout",
       "text": [
        "\n",
        "Iter=4 combined objective=-72125.70 rel=0.0000 used_lats=3"
       ]
      },
      {
       "output_type": "stream",
       "stream": "stdout",
       "text": [
        "\n",
        "[0 1 2]"
       ]
      },
      {
       "output_type": "stream",
       "stream": "stdout",
       "text": [
        "\n",
        "[0 1 2]\n",
        "Generate a random solution vector for hot start.\n",
        "Generate a random solution vector for hot start.\n",
        "Iter=0 combined objective=-60650.17 rel=16489.0008 used_lats=4"
       ]
      },
      {
       "output_type": "stream",
       "stream": "stdout",
       "text": [
        "\n",
        "Iter=1 combined objective=-69385.52 rel=0.1259 used_lats=3"
       ]
      },
      {
       "output_type": "stream",
       "stream": "stdout",
       "text": [
        "\n",
        "Iter=2 combined objective=-72072.30 rel=0.0373 used_lats=4"
       ]
      },
      {
       "output_type": "stream",
       "stream": "stdout",
       "text": [
        "\n",
        "Iter=3 combined objective=-72123.95 rel=0.0007 used_lats=3"
       ]
      },
      {
       "output_type": "stream",
       "stream": "stdout",
       "text": [
        "\n",
        "Iter=4 combined objective=-72125.80 rel=0.0000 used_lats=3"
       ]
      },
      {
       "output_type": "stream",
       "stream": "stdout",
       "text": [
        "\n",
        "[0 2 3]"
       ]
      },
      {
       "output_type": "stream",
       "stream": "stdout",
       "text": [
        "\n",
        "[0 2 3]\n",
        "Generate a random solution vector for hot start.\n",
        "Generate a random solution vector for hot start.\n",
        "Iter=0 combined objective=-70013.42 rel=14283.9769 used_lats=4"
       ]
      },
      {
       "output_type": "stream",
       "stream": "stdout",
       "text": [
        "\n",
        "Iter=1 combined objective=-71268.31 rel=0.0176 used_lats=3"
       ]
      },
      {
       "output_type": "stream",
       "stream": "stdout",
       "text": [
        "\n",
        "Iter=2 combined objective=-71282.74 rel=0.0002 used_lats=3"
       ]
      },
      {
       "output_type": "stream",
       "stream": "stdout",
       "text": [
        "\n",
        "Iter=3 combined objective=-71283.15 rel=0.0000 used_lats=3"
       ]
      },
      {
       "output_type": "stream",
       "stream": "stdout",
       "text": [
        "\n",
        "Iter=4 combined objective=-71283.16 rel=0.0000 used_lats=3"
       ]
      },
      {
       "output_type": "stream",
       "stream": "stdout",
       "text": [
        "\n",
        "[1 2 3]"
       ]
      },
      {
       "output_type": "stream",
       "stream": "stdout",
       "text": [
        "\n",
        "[1 2 3]\n",
        "Generate a random solution vector for hot start.\n",
        "Generate a random solution vector for hot start.\n",
        "Iter=0 combined objective=-61345.28 rel=16302.1713 used_lats=4"
       ]
      },
      {
       "output_type": "stream",
       "stream": "stdout",
       "text": [
        "\n",
        "Iter=1 combined objective=-63715.03 rel=0.0372 used_lats=3"
       ]
      },
      {
       "output_type": "stream",
       "stream": "stdout",
       "text": [
        "\n",
        "Iter=2 combined objective=-70331.62 rel=0.0941 used_lats=3"
       ]
      },
      {
       "output_type": "stream",
       "stream": "stdout",
       "text": [
        "\n",
        "Iter=3 combined objective=-72100.48 rel=0.0245 used_lats=4"
       ]
      },
      {
       "output_type": "stream",
       "stream": "stdout",
       "text": [
        "\n",
        "Iter=4 combined objective=-72124.59 rel=0.0003 used_lats=3"
       ]
      },
      {
       "output_type": "stream",
       "stream": "stdout",
       "text": [
        "\n",
        "Iter=5 combined objective=-72125.85 rel=0.0000 used_lats=3"
       ]
      },
      {
       "output_type": "stream",
       "stream": "stdout",
       "text": [
        "\n",
        "[0 2 3]"
       ]
      },
      {
       "output_type": "stream",
       "stream": "stdout",
       "text": [
        "\n",
        "[0 2 3]\n",
        "(30000, 4)"
       ]
      },
      {
       "output_type": "stream",
       "stream": "stdout",
       "text": [
        "\n",
        "Iteration 2\n",
        "Creating structured object with #30 examples and #4 features.\n",
        "Creating structured object with #29970 examples and #4 features.\n",
        "Generate a random solution vector for hot start.\n",
        "Generate a random solution vector for hot start.\n",
        "Iter=0 combined objective=-6.10 rel=163984941.4681 used_lats=4\n",
        "Iter=1 combined objective=-60.48 rel=0.8992 used_lats=3\n",
        "Iter=2 combined objective=-63.25 rel=0.0437 used_lats=3\n",
        "Iter=3 combined objective=-63.25 rel=0.0000 used_lats=3\n",
        "Iter=4 combined objective=-63.25 rel=0.0000 used_lats=3\n",
        "Generate a random solution vector for hot start.\n",
        "Generate a random solution vector for hot start.\n",
        "Iter=0 combined objective=-8.74 rel=114418594.3132 used_lats=3\n",
        "Iter=1 combined objective=-60.49 rel=0.8555 used_lats=3\n",
        "Iter=2 combined objective=-62.99 rel=0.0396 used_lats=3\n",
        "Iter=3 combined objective=-63.25 rel=0.0041 used_lats=3\n",
        "Iter=4 combined objective=-63.25 rel=0.0000 used_lats=3\n",
        "Generate a random solution vector for hot start.\n",
        "Generate a random solution vector for hot start.\n",
        "Iter=0 combined objective=-38.96 rel=25664951.0145 used_lats=4\n",
        "Iter=1 combined objective=-63.25 rel=0.3839 used_lats=3\n",
        "Iter=2 combined objective=-63.25 rel=0.0000 used_lats=3\n",
        "Iter=3 combined objective=-63.25 rel=0.0000 used_lats=3\n",
        "Iter=4 combined objective=-63.25 rel=0.0000 used_lats=3\n",
        "Generate a random solution vector for hot start.\n",
        "Generate a random solution vector for hot start.\n",
        "Iter=0 combined objective=-7.03 rel=142270944.2893 used_lats=3\n",
        "Iter=1 combined objective=-19.14 rel=0.6327 used_lats=3\n",
        "Iter=2 combined objective=-39.43 rel=0.5146 used_lats=3\n",
        "Iter=3 combined objective=-63.25 rel=0.3766 used_lats=3\n",
        "Iter=4 combined objective=-63.25 rel=0.0000 used_lats=3\n",
        "Generate a random solution vector for hot start.\n",
        "Generate a random solution vector for hot start.\n",
        "Iter=0 combined objective=-5.29 rel=189156755.7580 used_lats=4\n",
        "Iter=1 combined objective=-60.11 rel=0.9120 used_lats=4\n",
        "Iter=2 combined objective=-63.25 rel=0.0496 used_lats=3\n",
        "Iter=3 combined objective=-63.25 rel=0.0000 used_lats=3\n",
        "Iter=4 combined objective=-63.25 rel=0.0000 used_lats=3\n",
        "Generate a random solution vector for hot start.\n",
        "Generate a random solution vector for hot start.\n",
        "Iter=0 combined objective=-14.97 rel=66780667.8460 used_lats=3\n",
        "Iter=1 combined objective=-48.72 rel=0.6926 used_lats=3\n",
        "Iter=2 combined objective=-56.73 rel=0.1412 used_lats=2\n",
        "Iter=3 combined objective=-60.03 rel=0.0549 used_lats=2\n",
        "Iter=4 combined objective=-60.75 rel=0.0118 used_lats=2\n",
        "Iter=5 combined objective=-60.75 rel=0.0000 used_lats=2\n",
        "Generate a random solution vector for hot start.\n",
        "Generate a random solution vector for hot start.\n",
        "Iter=0 combined objective=-10.54 rel=94860026.6850 used_lats=4\n",
        "Iter=1 combined objective=-60.71 rel=0.8264 used_lats=4\n",
        "Iter=2 combined objective=-62.99 rel=0.0362 used_lats=3\n",
        "Iter=3 combined objective=-63.25 rel=0.0041 used_lats=3\n",
        "Iter=4 combined objective=-63.25 rel=0.0000 used_lats=3\n",
        "Generate a random solution vector for hot start.\n",
        "Generate a random solution vector for hot start.\n",
        "Iter=0 combined objective=-41.99 rel=23812533.0267 used_lats=3\n",
        "Iter=1 combined objective=-60.52 rel=0.3061 used_lats=3\n",
        "Iter=2 combined objective=-60.52 rel=0.0000 used_lats=3\n",
        "Iter=3 combined objective=-60.52 rel=0.0000 used_lats=3\n",
        "Iter=4 combined objective=-60.52 rel=0.0000 used_lats=3\n",
        "Generate a random solution vector for hot start.\n",
        "Generate a random solution vector for hot start.\n",
        "Iter=0 combined objective=-15.67 rel=63802319.5054 used_lats=4\n",
        "Iter=1 combined objective=-60.85 rel=0.7424 used_lats=4\n",
        "Iter=2 combined objective=-63.25 rel=0.0379 used_lats=3\n",
        "Iter=3 combined objective=-63.25 rel=0.0000 used_lats=3\n",
        "Iter=4 combined objective=-63.25 rel=0.0000 used_lats=3\n",
        "Generate a random solution vector for hot start.\n",
        "Generate a random solution vector for hot start.\n",
        "Iter=0 combined objective=-16.12 rel=62018531.8607 used_lats=4\n",
        "Iter=1 combined objective=-62.01 rel=0.7400 used_lats=3\n",
        "Iter=2 combined objective=-63.25 rel=0.0195 used_lats=3"
       ]
      },
      {
       "output_type": "stream",
       "stream": "stdout",
       "text": [
        "\n",
        "Iter=3 combined objective=-63.25 rel=0.0000 used_lats=3\n",
        "Iter=4 combined objective=-63.25 rel=0.0000 used_lats=3\n",
        "[0 2 3]"
       ]
      },
      {
       "output_type": "stream",
       "stream": "stdout",
       "text": [
        "\n",
        "Creating structured object with #30000 examples and #4 features.\n",
        "Generate a random solution vector for hot start.\n",
        "Generate a random solution vector for hot start.\n",
        "Iter=0 combined objective=-43473.70 rel=23003.4110 used_lats=4"
       ]
      },
      {
       "output_type": "stream",
       "stream": "stdout",
       "text": [
        "\n",
        "Iter=1 combined objective=-58312.51 rel=0.2545 used_lats=3"
       ]
      },
      {
       "output_type": "stream",
       "stream": "stdout",
       "text": [
        "\n",
        "Iter=2 combined objective=-58558.96 rel=0.0042 used_lats=3"
       ]
      },
      {
       "output_type": "stream",
       "stream": "stdout",
       "text": [
        "\n",
        "Iter=3 combined objective=-58573.92 rel=0.0003 used_lats=3"
       ]
      },
      {
       "output_type": "stream",
       "stream": "stdout",
       "text": [
        "\n",
        "Iter=4 combined objective=-58574.81 rel=0.0000 used_lats=3"
       ]
      },
      {
       "output_type": "stream",
       "stream": "stdout",
       "text": [
        "\n",
        "[0 1 3]"
       ]
      },
      {
       "output_type": "stream",
       "stream": "stdout",
       "text": [
        "\n",
        "[0 1 3]\n",
        "Generate a random solution vector for hot start.\n",
        "Generate a random solution vector for hot start.\n",
        "Iter=0 combined objective=-54989.61 rel=18186.2525 used_lats=4"
       ]
      },
      {
       "output_type": "stream",
       "stream": "stdout",
       "text": [
        "\n",
        "Iter=1 combined objective=-58044.39 rel=0.0526 used_lats=3"
       ]
      },
      {
       "output_type": "stream",
       "stream": "stdout",
       "text": [
        "\n",
        "Iter=2 combined objective=-58538.04 rel=0.0084 used_lats=3"
       ]
      },
      {
       "output_type": "stream",
       "stream": "stdout",
       "text": [
        "\n",
        "Iter=3 combined objective=-58573.12 rel=0.0006 used_lats=3"
       ]
      },
      {
       "output_type": "stream",
       "stream": "stdout",
       "text": [
        "\n",
        "Iter=4 combined objective=-58574.78 rel=0.0000 used_lats=3"
       ]
      },
      {
       "output_type": "stream",
       "stream": "stdout",
       "text": [
        "\n",
        "[1 2 3]"
       ]
      },
      {
       "output_type": "stream",
       "stream": "stdout",
       "text": [
        "\n",
        "[1 2 3]\n",
        "Generate a random solution vector for hot start.\n",
        "Generate a random solution vector for hot start.\n",
        "Iter=0 combined objective=-52593.97 rel=19014.5860 used_lats=4"
       ]
      },
      {
       "output_type": "stream",
       "stream": "stdout",
       "text": [
        "\n",
        "Iter=1 combined objective=-54880.07 rel=0.0417 used_lats=3"
       ]
      },
      {
       "output_type": "stream",
       "stream": "stdout",
       "text": [
        "\n",
        "Iter=2 combined objective=-55030.43 rel=0.0027 used_lats=3"
       ]
      },
      {
       "output_type": "stream",
       "stream": "stdout",
       "text": [
        "\n",
        "Iter=3 combined objective=-55046.81 rel=0.0003 used_lats=3"
       ]
      },
      {
       "output_type": "stream",
       "stream": "stdout",
       "text": [
        "\n",
        "Iter=4 combined objective=-55053.13 rel=0.0001 used_lats=3"
       ]
      },
      {
       "output_type": "stream",
       "stream": "stdout",
       "text": [
        "\n",
        "Iter=5 combined objective=-55062.19 rel=0.0002 used_lats=3"
       ]
      },
      {
       "output_type": "stream",
       "stream": "stdout",
       "text": [
        "\n",
        "Iter=6 combined objective=-55079.45 rel=0.0003 used_lats=3"
       ]
      },
      {
       "output_type": "stream",
       "stream": "stdout",
       "text": [
        "\n",
        "Iter=7 combined objective=-55114.45 rel=0.0006 used_lats=3"
       ]
      },
      {
       "output_type": "stream",
       "stream": "stdout",
       "text": [
        "\n",
        "Iter=8 combined objective=-55223.48 rel=0.0020 used_lats=3"
       ]
      },
      {
       "output_type": "stream",
       "stream": "stdout",
       "text": [
        "\n",
        "Iter=9 combined objective=-55821.42 rel=0.0107 used_lats=3"
       ]
      },
      {
       "output_type": "stream",
       "stream": "stdout",
       "text": [
        "\n",
        "Iter=10 combined objective=-58239.64 rel=0.0415 used_lats=3"
       ]
      },
      {
       "output_type": "stream",
       "stream": "stdout",
       "text": [
        "\n",
        "Iter=11 combined objective=-58566.58 rel=0.0056 used_lats=3"
       ]
      },
      {
       "output_type": "stream",
       "stream": "stdout",
       "text": [
        "\n",
        "Iter=12 combined objective=-58574.25 rel=0.0001 used_lats=3"
       ]
      },
      {
       "output_type": "stream",
       "stream": "stdout",
       "text": [
        "\n",
        "Iter=13 combined objective=-58574.82 rel=0.0000 used_lats=3"
       ]
      },
      {
       "output_type": "stream",
       "stream": "stdout",
       "text": [
        "\n",
        "[0 1 3]"
       ]
      },
      {
       "output_type": "stream",
       "stream": "stdout",
       "text": [
        "\n",
        "[0 1 3]\n",
        "Generate a random solution vector for hot start.\n",
        "Generate a random solution vector for hot start.\n",
        "Iter=0 combined objective=-56306.91 rel=17760.8104 used_lats=3"
       ]
      },
      {
       "output_type": "stream",
       "stream": "stdout",
       "text": [
        "\n",
        "Iter=1 combined objective=-58565.09 rel=0.0386 used_lats=3"
       ]
      },
      {
       "output_type": "stream",
       "stream": "stdout",
       "text": [
        "\n",
        "Iter=2 combined objective=-58574.18 rel=0.0002 used_lats=3"
       ]
      },
      {
       "output_type": "stream",
       "stream": "stdout",
       "text": [
        "\n",
        "Iter=3 combined objective=-58574.81 rel=0.0000 used_lats=3"
       ]
      },
      {
       "output_type": "stream",
       "stream": "stdout",
       "text": [
        "\n",
        "Iter=4 combined objective=-58574.86 rel=0.0000 used_lats=3"
       ]
      },
      {
       "output_type": "stream",
       "stream": "stdout",
       "text": [
        "\n",
        "[0 2 3]"
       ]
      },
      {
       "output_type": "stream",
       "stream": "stdout",
       "text": [
        "\n",
        "[0 2 3]\n",
        "Generate a random solution vector for hot start.\n",
        "Generate a random solution vector for hot start.\n",
        "Iter=0 combined objective=-50643.70 rel=19746.7946 used_lats=4"
       ]
      },
      {
       "output_type": "stream",
       "stream": "stdout",
       "text": [
        "\n",
        "Iter=1 combined objective=-58573.38 rel=0.1354 used_lats=3"
       ]
      },
      {
       "output_type": "stream",
       "stream": "stdout",
       "text": [
        "\n",
        "Iter=2 combined objective=-58574.72 rel=0.0000 used_lats=3"
       ]
      },
      {
       "output_type": "stream",
       "stream": "stdout",
       "text": [
        "\n",
        "Iter=3 combined objective=-58574.84 rel=0.0000 used_lats=3"
       ]
      },
      {
       "output_type": "stream",
       "stream": "stdout",
       "text": [
        "\n",
        "Iter=4 combined objective=-58574.86 rel=0.0000 used_lats=3"
       ]
      },
      {
       "output_type": "stream",
       "stream": "stdout",
       "text": [
        "\n",
        "[1 2 3]"
       ]
      },
      {
       "output_type": "stream",
       "stream": "stdout",
       "text": [
        "\n",
        "[1 2 3]\n",
        "Generate a random solution vector for hot start.\n",
        "Generate a random solution vector for hot start.\n",
        "Iter=0 combined objective=-37203.89 rel=26879.9091 used_lats=4"
       ]
      },
      {
       "output_type": "stream",
       "stream": "stdout",
       "text": [
        "\n",
        "Iter=1 combined objective=-48237.03 rel=0.2287 used_lats=4"
       ]
      },
      {
       "output_type": "stream",
       "stream": "stdout",
       "text": [
        "\n",
        "Iter=2 combined objective=-58298.62 rel=0.1726 used_lats=4"
       ]
      },
      {
       "output_type": "stream",
       "stream": "stdout",
       "text": [
        "\n",
        "Iter=3 combined objective=-58563.85 rel=0.0045 used_lats=3"
       ]
      },
      {
       "output_type": "stream",
       "stream": "stdout",
       "text": [
        "\n",
        "Iter=4 combined objective=-58574.27 rel=0.0002 used_lats=3"
       ]
      },
      {
       "output_type": "stream",
       "stream": "stdout",
       "text": [
        "\n",
        "Iter=5 combined objective=-58574.80 rel=0.0000 used_lats=3"
       ]
      },
      {
       "output_type": "stream",
       "stream": "stdout",
       "text": [
        "\n",
        "[0 1 2]"
       ]
      }
     ]
    },
    {
     "cell_type": "code",
     "collapsed": false,
     "input": [
      "# Get averages\n",
      "err_avg = np.mean(errs,axis=0)\n",
      "lrr_facies_mat_avg = np.mean(lrr_facies_mat,axis=0)\n",
      "tlrr_facies_mat_avg = np.mean(tlrr_facies_mat,axis=0)\n",
      "rr_phi_mat_avg = np.mean(rr_phi_mat,axis=0)\n",
      "tr_phi_mat_avg = np.mean(tr_phi_mat,axis=0)\n",
      "lrr_phi_mat_avg = np.mean(lrr_phi_mat,axis=0)\n",
      "tlrr_phi_mat_avg = np.mean(tlrr_phi_mat,axis=0)"
     ],
     "language": "python",
     "metadata": {},
     "outputs": []
    },
    {
     "cell_type": "code",
     "collapsed": false,
     "input": [
      "print (\"          MAE        MSE        RMSE       MDAE        R2\")\n",
      "print (\"RR:     %0.5f    %0.5f    %0.5f    %0.5f    %0.5f\" % (err_avg[0,0],err_avg[0,1],err_avg[0,2],err_avg[0,3],err_avg[0,4]))\n",
      "print (\"TR:     %0.5f    %0.5f    %0.5f    %0.5f    %0.5f\" % (err_avg[1,0],err_avg[1,1],err_avg[1,2],err_avg[1,3],err_avg[1,4]))\n",
      "print (\"LRR:    %0.5f    %0.5f    %0.5f    %0.5f    %0.5f\" % (err_avg[2,0],err_avg[2,1],err_avg[2,2],err_avg[2,3],err_avg[2,4]))\n",
      "print (\"TLRR:   %0.5f    %0.5f    %0.5f    %0.5f    %0.5f\" % (err_avg[3,0],err_avg[3,1],err_avg[3,2],err_avg[3,3],err_avg[3,4]))"
     ],
     "language": "python",
     "metadata": {},
     "outputs": []
    },
    {
     "cell_type": "code",
     "collapsed": false,
     "input": [
      "#np.savetxt(\"../GeoFacies-Data/final_performance_artificial_data_0.001_lambda_1.0_gamma_10.0_no_si_pr_lmu_llambda_ei.txt\", err_avg)"
     ],
     "language": "python",
     "metadata": {},
     "outputs": []
    },
    {
     "cell_type": "code",
     "collapsed": false,
     "input": [
      "# Plot the facies image results\n",
      "f = pl.figure(figsize=(18, 14))\n",
      "ax = f.add_subplot(1, 4, 1)\n",
      "plot_image(ip_mat)\n",
      "ax.set_title('Input data')\n",
      "ax = f.add_subplot(1, 4, 2)\n",
      "plot_image(facies_mat)\n",
      "ax.set_title('Ground truth')\n",
      "ax = f.add_subplot(1, 4, 3)\n",
      "plot_image(lrr_facies_mat_avg)\n",
      "ax.set_title('LRR')\n",
      "ax = f.add_subplot(1, 4, 4)\n",
      "plot_image(tlrr_facies_mat_avg)\n",
      "ax.set_title('TLRR')\n",
      "pl.show()"
     ],
     "language": "python",
     "metadata": {},
     "outputs": []
    },
    {
     "cell_type": "code",
     "collapsed": false,
     "input": [
      "# Plot the porosity image results\n",
      "f = pl.figure(figsize=(18, 14))\n",
      "ax = f.add_subplot(1, 5, 1)\n",
      "plot_image(phi_mat)\n",
      "ax.set_title('Ground truth')\n",
      "ax = f.add_subplot(1, 5, 2)\n",
      "plot_image(rr_phi_mat_avg)\n",
      "ax.set_title('RR')\n",
      "ax = f.add_subplot(1, 5, 3)\n",
      "plot_image(tr_phi_mat_avg)\n",
      "ax.set_title('TR')\n",
      "ax = f.add_subplot(1, 5, 4)\n",
      "plot_image(lrr_phi_mat_avg)\n",
      "ax.set_title('LRR')\n",
      "ax = f.add_subplot(1, 5, 5)\n",
      "plot_image(tlrr_phi_mat_avg)\n",
      "ax.set_title('TLRR')\n",
      "pl.show()"
     ],
     "language": "python",
     "metadata": {},
     "outputs": []
    },
    {
     "cell_type": "code",
     "collapsed": false,
     "input": [
      "# Plot the fitting curves\n",
      "x = 0\n",
      "sinds = np.argsort(X[test,x])\n",
      "y_truth = truth[sinds]\n",
      "f = pl.figure(figsize=(21, 7))\n",
      "ax = f.add_subplot(1, 4, 1)\n",
      "plt.plot(X[test[sinds],x], y_truth, 'or', alpha=1.0, markersize=10.0)\n",
      "plt.plot(X[test[sinds],x], pred_rr[sinds], 'ob', alpha=0.9, markersize=6.0)\n",
      "plt.legend(['Truth', 'RR'], loc=1, fontsize=10)\n",
      "ax.set_title('Ridge Regression Fitting')\n",
      "ax = f.add_subplot(1, 4, 2)\n",
      "plt.plot(X[test[sinds],x], y_truth, 'or', alpha=1.0, markersize=10.0)\n",
      "plt.plot(X[test[sinds],x], pred_tr[sinds], 'ob', alpha=0.9, markersize=6.0)\n",
      "plt.legend(['Truth', 'TR'], loc=1, fontsize=10)\n",
      "ax.set_title('Transductive Regression Fitting')\n",
      "ax = f.add_subplot(1, 4, 3)\n",
      "plt.plot(X[test[sinds],x], y_truth, 'or', alpha=1.0, markersize=10.0)\n",
      "plt.plot(X[test[sinds],x], pred_lrr[sinds], 'ob', alpha=0.9, markersize=6.0)\n",
      "plt.legend(['Truth', 'LRR'], loc=1, fontsize=10)\n",
      "ax.set_title('Latent Ridge Regression Fitting')\n",
      "ax = f.add_subplot(1, 4, 4)\n",
      "plt.plot(X[test[sinds],x], y_truth, 'or', alpha=1.0, markersize=10.0)\n",
      "plt.plot(X[test[sinds],x], pred_tlrr[sinds], 'ob', alpha=0.9, markersize=6.0)\n",
      "plt.legend(['Truth', 'TLRR'], loc=1, fontsize=10)\n",
      "ax.set_title('Transductive Latent Ridge Regression Fitting')\n",
      "pl.show()"
     ],
     "language": "python",
     "metadata": {},
     "outputs": []
    },
    {
     "cell_type": "code",
     "collapsed": false,
     "input": [],
     "language": "python",
     "metadata": {},
     "outputs": []
    }
   ],
   "metadata": {}
  }
 ]
}