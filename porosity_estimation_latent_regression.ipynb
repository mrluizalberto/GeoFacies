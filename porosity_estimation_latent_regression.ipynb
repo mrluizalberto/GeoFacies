{
 "metadata": {
  "name": "",
  "signature": "sha256:fde88a497440d66c912f5f1dafe85113a957aec7b814942cc73dd498e9568117"
 },
 "nbformat": 3,
 "nbformat_minor": 0,
 "worksheets": [
  {
   "cells": [
    {
     "cell_type": "code",
     "collapsed": false,
     "input": [
      "%run 'volume.ipynb'"
     ],
     "language": "python",
     "metadata": {},
     "outputs": [
      {
       "output_type": "stream",
       "stream": "stdout",
       "text": [
        "Using matplotlib backend: TkAgg\n"
       ]
      }
     ],
     "prompt_number": 1
    },
    {
     "cell_type": "code",
     "collapsed": false,
     "input": [
      "import os\n",
      "import sys\n",
      "import scipy as sp\n",
      "import numpy as np\n",
      "import math\n",
      "import struct\n",
      "import random\n",
      "import copy\n",
      "import matplotlib.pyplot as plt\n",
      "import pylab as pl\n",
      "import filecmp\n",
      "import cvxopt as co\n",
      "from numpy import unravel_index\n",
      "from sklearn.svm import SVR\n",
      "from sklearn import preprocessing\n",
      "from sklearn.metrics import mean_squared_error\n",
      "from latent_svr import LatentSvr\n",
      "from latent_ridge import LatentRidgeRegression\n",
      "from so_multiclass import SOMultiClass\n",
      "from sklearn.cluster import KMeans\n",
      "from sklearn import metrics"
     ],
     "language": "python",
     "metadata": {},
     "outputs": [],
     "prompt_number": 2
    },
    {
     "cell_type": "code",
     "collapsed": false,
     "input": [
      "%matplotlib"
     ],
     "language": "python",
     "metadata": {},
     "outputs": [
      {
       "output_type": "stream",
       "stream": "stdout",
       "text": [
        "Using matplotlib backend: TkAgg\n"
       ]
      }
     ],
     "prompt_number": 3
    },
    {
     "cell_type": "code",
     "collapsed": false,
     "input": [
      "# Define score function (RMS)\n",
      "def score_rms(y_true, y_pred):\n",
      "    return math.sqrt(mean_squared_error(y_true,y_pred))"
     ],
     "language": "python",
     "metadata": {},
     "outputs": [],
     "prompt_number": 4
    },
    {
     "cell_type": "code",
     "collapsed": false,
     "input": [
      "# Define score function (R^2) and evaluate for any y than a threshold value\n",
      "def score_R2(y_true, y_pred, thrsd):\n",
      "    y_t = y_true[y_true >= thrsd]\n",
      "    y_p = y_pred[y_true >= thrsd]\n",
      "    u = ((y_t - y_p) ** 2).sum()\n",
      "    v = ((y_t - y_true.mean()) ** 2).sum()\n",
      "    return (1 - u/v)"
     ],
     "language": "python",
     "metadata": {},
     "outputs": [],
     "prompt_number": 5
    },
    {
     "cell_type": "code",
     "collapsed": false,
     "input": [
      "# Get the n minimum values and respective indexes of a numpy array\n",
      "def n_min(arr, n):\n",
      "    indices = arr.ravel().argsort()[:n]\n",
      "    indices = (np.unravel_index(i, arr.shape) for i in indices)\n",
      "    return [(arr[i], i) for i in indices]"
     ],
     "language": "python",
     "metadata": {},
     "outputs": [],
     "prompt_number": 6
    },
    {
     "cell_type": "code",
     "collapsed": false,
     "input": [],
     "language": "python",
     "metadata": {},
     "outputs": [],
     "prompt_number": 6
    },
    {
     "cell_type": "code",
     "collapsed": false,
     "input": [
      "# Load ip and porosity volumes\n",
      "ip = Vol()\n",
      "phi = Vol()\n",
      "ip.read(\"the_flame_ip.vol\")\n",
      "phi.read(\"the_flame_phi.vol\")"
     ],
     "language": "python",
     "metadata": {},
     "outputs": [],
     "prompt_number": 8
    },
    {
     "cell_type": "code",
     "collapsed": false,
     "input": [
      "# Discard anomalous data (this shoud never happen, but it can somentimes...)\n",
      "for z in range(ip.sizeZ):\n",
      "    for y in range(ip.sizeY):\n",
      "        for x in range(ip.sizeX):\n",
      "            if ip.data[z,y,x] != -1e+30 and phi.data[z,y,x] == -1e+30:\n",
      "                ip.data[z,y,x] = -1e+30"
     ],
     "language": "python",
     "metadata": {},
     "outputs": [],
     "prompt_number": 9
    },
    {
     "cell_type": "code",
     "collapsed": false,
     "input": [
      "# Add some noise to the input data\n",
      "mu = 0.\n",
      "sigma = 5.\n",
      "noise = np.random.normal(mu, sigma, ip.data.shape)\n",
      "ip.data +=(noise*100)"
     ],
     "language": "python",
     "metadata": {},
     "outputs": [],
     "prompt_number": 143
    },
    {
     "cell_type": "code",
     "collapsed": false,
     "input": [
      "# Plot an ip volume slice\n",
      "ip.plotSlice(0.)"
     ],
     "language": "python",
     "metadata": {},
     "outputs": [],
     "prompt_number": 144
    },
    {
     "cell_type": "code",
     "collapsed": false,
     "input": [
      "# Get top and base Z locations of the reservoir\n",
      "resTop = ip.getResTop()\n",
      "resBase = ip.getResBase()"
     ],
     "language": "python",
     "metadata": {},
     "outputs": [],
     "prompt_number": 145
    },
    {
     "cell_type": "code",
     "collapsed": false,
     "input": [
      "# Set the training and testing well sets\n",
      "locXY_labeled = []\n",
      "locXY_unlabeled = []\n",
      "for i in range(ip.sizeX): \n",
      "    for j in range(ip.sizeY):\n",
      "        locXY_unlabeled.append((i,j))\n",
      "\n",
      "# Choose the training well at the center of the volume\n",
      "#x = 50\n",
      "#y = 50\n",
      "#locXY_labeled.append((x,y))\n",
      "#locXY_unlabeled.remove((x,y))\n",
      "\n",
      "# Now choose randomly chosen training wells\n",
      "n = 1000\n",
      "\n",
      "for i in range(n):\n",
      "    n_elm = len(locXY_unlabeled)\n",
      "    elm = random.randint(0,n_elm-1)\n",
      "    x = locXY_unlabeled[elm][0]\n",
      "    y = locXY_unlabeled[elm][1]\n",
      "    locXY_labeled.append((x,y))\n",
      "    locXY_unlabeled.remove((x,y))"
     ],
     "language": "python",
     "metadata": {},
     "outputs": [],
     "prompt_number": 157
    },
    {
     "cell_type": "code",
     "collapsed": false,
     "input": [
      "# Select the number of neighbors (x2) to be considered in each dimension\n",
      "hx = 0\n",
      "hy = 0\n",
      "hz = 0"
     ],
     "language": "python",
     "metadata": {},
     "outputs": [],
     "prompt_number": 158
    },
    {
     "cell_type": "code",
     "collapsed": false,
     "input": [
      "# Create a feature variable to build in the end the estimated porosity volume\n",
      "n_feats = 1+2*hx+2*hy+2*hz\n",
      "X_features = np.zeros((ip.sizeX,ip.sizeY,ip.sizeZ,n_feats))"
     ],
     "language": "python",
     "metadata": {},
     "outputs": [],
     "prompt_number": 159
    },
    {
     "cell_type": "code",
     "collapsed": false,
     "input": [
      "# Build the training set\n",
      "X_train_list = []\n",
      "y_train_list = []\n",
      "\n",
      "n = len(locXY_labeled)\n",
      "for k in range(n):\n",
      "    x = locXY_labeled[k][0]\n",
      "    y = locXY_labeled[k][1]\n",
      "    for i in range(ip.sizeZ):\n",
      "        if i >= resTop[x,y] and i <= resBase[x,y]:\n",
      "            X = []\n",
      "            Y = []\n",
      "            X.append(ip.data[i,y,x])\n",
      "            Y.append(phi.data[i,y,x])\n",
      "    \n",
      "            if hx > 0:\n",
      "                if x >= hx:\n",
      "                    c = np.all(np.greater(ip.data[i,y,x-hx:x],-1e+30))\n",
      "                    aux = ip.data[i,y,x-hx:x]\n",
      "                    if c:\n",
      "                        for j in np.nditer(aux):\n",
      "                            X.append(float(j))\n",
      "                    else:\n",
      "                        for j in np.nditer(aux):\n",
      "                            X.append(ip.data[i,y,x])\n",
      "                else:\n",
      "                    for j in range(hx): \n",
      "                        X.append(ip.data[i,y,x])\n",
      "                if x < ip.sizeX-hx:\n",
      "                    c = np.all(np.greater(ip.data[i,y,x+1:x+1+hx],-1e+30))\n",
      "                    aux = ip.data[i,y,x+1:x+1+hx]\n",
      "                    if c:\n",
      "                        for j in np.nditer(aux):\n",
      "                            X.append(float(j))\n",
      "                    else:\n",
      "                        for j in np.nditer(aux):\n",
      "                            X.append(ip.data[i,y,x]) \n",
      "                else:\n",
      "                    for j in range(hx): \n",
      "                        X.append(ip.data[i,y,x])\n",
      "            if hy > 0:            \n",
      "                if y >= hy:\n",
      "                    c = np.all(np.greater(ip.data[i,y-hy:y,x],-1e+30))\n",
      "                    aux = ip.data[i,y-hy:y,x]\n",
      "                    if c:\n",
      "                        for j in np.nditer(aux):\n",
      "                            X.append(float(j))\n",
      "                    else:\n",
      "                        for j in np.nditer(aux):\n",
      "                            X.append(ip.data[i,y,x])\n",
      "                else:\n",
      "                    for j in range(hy): \n",
      "                        X.append(ip.data[i,y,x])                    \n",
      "                if y < ip.sizeY-hy:\n",
      "                    c = np.all(np.greater(ip.data[i,y+1:y+1+hy,x],-1e+30))\n",
      "                    aux = ip.data[i,y+1:y+1+hy,x]\n",
      "                    if c:\n",
      "                        for j in np.nditer(aux):\n",
      "                            X.append(float(j))\n",
      "                    else:\n",
      "                        for j in np.nditer(aux):\n",
      "                            X.append(ip.data[i,y,x])\n",
      "                else:\n",
      "                    for j in range(hy): \n",
      "                        X.append(ip.data[i,y,x])\n",
      "            if hz > 0:            \n",
      "                if i >= hz:\n",
      "                    c = np.all(np.greater(ip.data[i-hz:i,y,x],-1e+30))\n",
      "                    aux = ip.data[i-hz:i,y,x]\n",
      "                    if c:\n",
      "                        for j in np.nditer(aux):\n",
      "                            X.append(float(j))\n",
      "                    else:\n",
      "                        for j in np.nditer(aux):\n",
      "                            X.append(ip.data[i,y,x])\n",
      "                else:\n",
      "                    for j in range(hz): \n",
      "                        X.append(ip.data[i,y,x])                    \n",
      "                if i < ip.sizeZ-hz:\n",
      "                    c = np.all(np.greater(ip.data[i+1:i+1+hz,y,x],-1e+30))\n",
      "                    aux = ip.data[i+1:i+1+hz,y,x]\n",
      "                    if c:\n",
      "                        for j in np.nditer(aux):\n",
      "                            X.append(float(j))\n",
      "                    else:\n",
      "                        for j in np.nditer(aux):\n",
      "                            X.append(ip.data[i,y,x]) \n",
      "                else:\n",
      "                    for j in range(hz): \n",
      "                        X.append(ip.data[i,y,x]) \n",
      "                    \n",
      "            X_train_list.append(X)\n",
      "            y_train_list.append(Y)\n",
      "            X_features[x,y,i] = X\n",
      "        \n",
      "X_train = np.array(X_train_list)\n",
      "scalerX = preprocessing.StandardScaler().fit(X_train)\n",
      "X_train = scalerX.transform(X_train)\n",
      "y_train = np.concatenate(np.array(y_train_list))\n",
      "scalerY = preprocessing.StandardScaler().fit(y_train)\n",
      "y_train = scalerY.transform(y_train)\n",
      "\n",
      "# Add new matrix line filled with \"1\"s (for the intercept)\n",
      "X_train = X_train.reshape(-1,1+2*hx+2*hy+2*hz)\n",
      "y_train = y_train.reshape(-1,1)\n",
      "aux = np.ones((X_train.shape[0],1))\n",
      "X_train = np.hstack((X_train,aux))\n",
      "print X_train.shape"
     ],
     "language": "python",
     "metadata": {},
     "outputs": [
      {
       "output_type": "stream",
       "stream": "stdout",
       "text": [
        "(1000, 2)\n"
       ]
      }
     ],
     "prompt_number": 160
    },
    {
     "cell_type": "code",
     "collapsed": false,
     "input": [
      "# Build the testing set\n",
      "X_test_list = []\n",
      "y_test_list = []\n",
      "n = len(locXY_unlabeled)\n",
      "for k in range(n):\n",
      "    x = locXY_unlabeled[k][0]\n",
      "    y = locXY_unlabeled[k][1]\n",
      "    for i in range(ip.sizeZ):\n",
      "        if i >= resTop[x,y] and i <= resBase[x,y]:\n",
      "            X = []\n",
      "            Y = []\n",
      "            X.append(ip.data[i,y,x])\n",
      "            Y.append(phi.data[i,y,x])\n",
      "    \n",
      "            if hx > 0:\n",
      "                if x >= hx:\n",
      "                    c = np.all(np.greater(ip.data[i,y,x-hx:x],-1e+30))\n",
      "                    aux = ip.data[i,y,x-hx:x]\n",
      "                    if c:\n",
      "                        for j in np.nditer(aux):\n",
      "                            X.append(float(j))\n",
      "                    else:\n",
      "                        for j in np.nditer(aux):\n",
      "                            X.append(ip.data[i,y,x])\n",
      "                else:\n",
      "                    for j in range(hx):\n",
      "                        X.append(ip.data[i,y,x])\n",
      "                if x < ip.sizeX-hx:\n",
      "                    c = np.all(np.greater(ip.data[i,y,x+1:x+1+hx],-1e+30))\n",
      "                    aux = ip.data[i,y,x+1:x+1+hx]\n",
      "                    if c:\n",
      "                        for j in np.nditer(aux):\n",
      "                            X.append(float(j))\n",
      "                    else:\n",
      "                        for j in np.nditer(aux):\n",
      "                            X.append(ip.data[i,y,x])\n",
      "                else:\n",
      "                    for j in range(hx):\n",
      "                        X.append(ip.data[i,y,x])\n",
      "            if hy > 0:            \n",
      "                if y >= hy:\n",
      "                    c = np.all(np.greater(ip.data[i,y-hy:y,x],-1e+30))\n",
      "                    aux = ip.data[i,y-hy:y,x]\n",
      "                    if c:\n",
      "                        for j in np.nditer(aux):\n",
      "                            X.append(float(j))\n",
      "                    else:\n",
      "                        for j in np.nditer(aux):\n",
      "                            X.append(ip.data[i,y,x]) \n",
      "                else:\n",
      "                    for j in range(hy):\n",
      "                        X.append(ip.data[i,y,x])                          \n",
      "                if y < ip.sizeY-hy:\n",
      "                    c = np.all(np.greater(ip.data[i,y+1:y+1+hy,x],-1e+30))\n",
      "                    aux = ip.data[i,y+1:y+1+hy,x]\n",
      "                    if c:\n",
      "                        for j in np.nditer(aux):\n",
      "                            X.append(float(j))\n",
      "                    else:\n",
      "                        for j in np.nditer(aux):\n",
      "                            X.append(ip.data[i,y,x])\n",
      "                else:\n",
      "                    for j in range(hy):\n",
      "                        X.append(ip.data[i,y,x])\n",
      "            if hz > 0:            \n",
      "                if i >= hz:\n",
      "                    c = np.all(np.greater(ip.data[i-hz:i,y,x],-1e+30))\n",
      "                    aux = ip.data[i-hz:i,y,x]\n",
      "                    if c:\n",
      "                        for j in np.nditer(aux):\n",
      "                            X.append(float(j))\n",
      "                    else:\n",
      "                        for j in np.nditer(aux):\n",
      "                             X.append(ip.data[i,y,x])\n",
      "                else:\n",
      "                    for j in range(hz):\n",
      "                        X.append(ip.data[i,y,x])                            \n",
      "                if i < ip.sizeZ-hz:\n",
      "                    c = np.all(np.greater(ip.data[i+1:i+1+hz,y,x],-1e+30))\n",
      "                    aux = ip.data[i+1:i+1+hz,y,x]\n",
      "                    if c:\n",
      "                        for j in np.nditer(aux):\n",
      "                            X.append(float(j))\n",
      "                    else:\n",
      "                        for j in np.nditer(aux):\n",
      "                            X.append(ip.data[i,y,x])\n",
      "                else:\n",
      "                    for j in range(hz):\n",
      "                        X.append(ip.data[i,y,x])\n",
      "                \n",
      "            X_test_list.append(X)\n",
      "            y_test_list.append(Y)\n",
      "            X_features[x,y,i] = X\n",
      "    \n",
      "X_test = np.array(X_test_list)\n",
      "X_test = scalerX.transform(X_test)\n",
      "y_test = np.concatenate(np.array(y_test_list))\n",
      "y_test = scalerY.transform(y_test)    \n",
      "\n",
      "# Add new matrix line filled with \"1\"s (for the intercept)\n",
      "X_test = X_test.reshape(-1,1+2*hx+2*hy+2*hz)\n",
      "y_test = y_test.reshape(-1,1)\n",
      "aux = np.ones((X_test.shape[0], 1))\n",
      "print X_test.shape\n",
      "print aux.shape\n",
      "X_test = np.hstack((X_test,aux))\n",
      "print X_test.shape\n"
     ],
     "language": "python",
     "metadata": {},
     "outputs": [
      {
       "output_type": "stream",
       "stream": "stdout",
       "text": [
        "(9000, 1)\n",
        "(9000, 1)\n",
        "(9000, 2)\n"
       ]
      }
     ],
     "prompt_number": 161
    },
    {
     "cell_type": "code",
     "collapsed": false,
     "input": [
      "# Set train and test data format for latent ridge and svr estimations\n",
      "trainMC = SOMultiClass(co.matrix(X_train.T), classes=2, y=co.matrix(y_train))\n",
      "testMC = SOMultiClass(co.matrix(X_test.T), classes=2)"
     ],
     "language": "python",
     "metadata": {},
     "outputs": [
      {
       "output_type": "stream",
       "stream": "stdout",
       "text": [
        "Creating structured object with #1000 training examples, each consisting of #2 features.\n",
        "Creating structured object with #9000 training examples, each consisting of #2 features.\n"
       ]
      }
     ],
     "prompt_number": 168
    },
    {
     "cell_type": "code",
     "collapsed": false,
     "input": [
      "lsvr =LatentRidgeRegression(trainMC, l=0.0001)\n",
      "#lsvr =LatentSvr(trainMC, C=10.0, epsilon=0.01)"
     ],
     "language": "python",
     "metadata": {},
     "outputs": [],
     "prompt_number": 174
    },
    {
     "cell_type": "code",
     "collapsed": false,
     "input": [
      "(foo, lats) = lsvr.train_dc(max_iter=100)"
     ],
     "language": "python",
     "metadata": {},
     "outputs": [
      {
       "output_type": "stream",
       "stream": "stdout",
       "text": [
        "Generate a random solution vector for hot start.\n",
        "Iter 0 objective=862.33  rel=1159644.1075\n",
        "Iter 1 objective=865.31  rel=0.0034"
       ]
      },
      {
       "output_type": "stream",
       "stream": "stdout",
       "text": [
        "\n",
        "Iter 2 objective=866.36  rel=0.0012\n",
        "Iter 3 objective=860.21  rel=0.0071"
       ]
      },
      {
       "output_type": "stream",
       "stream": "stdout",
       "text": [
        "\n",
        "Iter 4 objective=859.88  rel=0.0004\n",
        "Iter 5 objective=859.25  rel=0.0007"
       ]
      },
      {
       "output_type": "stream",
       "stream": "stdout",
       "text": [
        "\n",
        "Iter 6 objective=859.88  rel=0.0007\n",
        "Iter 7 objective=859.25  rel=0.0007"
       ]
      },
      {
       "output_type": "stream",
       "stream": "stdout",
       "text": [
        "\n",
        "Iter 8 objective=859.88  rel=0.0007\n",
        "Iter 9 objective=859.25  rel=0.0007"
       ]
      },
      {
       "output_type": "stream",
       "stream": "stdout",
       "text": [
        "\n",
        "Iter 10 objective=859.88  rel=0.0007\n",
        "Iter 11 objective=859.25  rel=0.0007"
       ]
      },
      {
       "output_type": "stream",
       "stream": "stdout",
       "text": [
        "\n",
        "Iter 12 objective=859.88  rel=0.0007\n",
        "Iter 13 objective=859.25  rel=0.0007"
       ]
      },
      {
       "output_type": "stream",
       "stream": "stdout",
       "text": [
        "\n",
        "Iter 14 objective=859.88  rel=0.0007\n",
        "Iter 15 objective=859.25  rel=0.0007"
       ]
      },
      {
       "output_type": "stream",
       "stream": "stdout",
       "text": [
        "\n",
        "Iter 16 objective=859.88  rel=0.0007\n",
        "Iter 17 objective=859.25  rel=0.0007"
       ]
      },
      {
       "output_type": "stream",
       "stream": "stdout",
       "text": [
        "\n",
        "Iter 18 objective=859.88  rel=0.0007\n",
        "Iter 19 objective=859.25  rel=0.0007"
       ]
      },
      {
       "output_type": "stream",
       "stream": "stdout",
       "text": [
        "\n",
        "Iter 20 objective=859.88  rel=0.0007\n",
        "Iter 21 objective=859.25  rel=0.0007"
       ]
      },
      {
       "output_type": "stream",
       "stream": "stdout",
       "text": [
        "\n",
        "Iter 22 objective=859.88  rel=0.0007\n",
        "Iter 23 objective=859.25  rel=0.0007"
       ]
      },
      {
       "output_type": "stream",
       "stream": "stdout",
       "text": [
        "\n",
        "Iter 24 objective=859.88  rel=0.0007\n",
        "Iter 25 objective=859.25  rel=0.0007"
       ]
      },
      {
       "output_type": "stream",
       "stream": "stdout",
       "text": [
        "\n",
        "Iter 26 objective=859.88  rel=0.0007\n",
        "Iter 27 objective=859.25  rel=0.0007"
       ]
      },
      {
       "output_type": "stream",
       "stream": "stdout",
       "text": [
        "\n",
        "Iter 28 objective=859.88  rel=0.0007\n",
        "Iter 29 objective=859.25  rel=0.0007"
       ]
      },
      {
       "output_type": "stream",
       "stream": "stdout",
       "text": [
        "\n",
        "Iter 30 objective=859.88  rel=0.0007\n",
        "Iter 31 objective=859.25  rel=0.0007"
       ]
      },
      {
       "output_type": "stream",
       "stream": "stdout",
       "text": [
        "\n",
        "Iter 32 objective=859.88  rel=0.0007\n",
        "Iter 33 objective=859.25  rel=0.0007"
       ]
      },
      {
       "output_type": "stream",
       "stream": "stdout",
       "text": [
        "\n",
        "Iter 34 objective=859.88  rel=0.0007\n",
        "Iter 35 objective=859.25  rel=0.0007"
       ]
      },
      {
       "output_type": "stream",
       "stream": "stdout",
       "text": [
        "\n",
        "Iter 36 objective=859.88  rel=0.0007\n",
        "Iter 37 objective=859.25  rel=0.0007"
       ]
      },
      {
       "output_type": "stream",
       "stream": "stdout",
       "text": [
        "\n",
        "Iter 38 objective=859.88  rel=0.0007\n",
        "Iter 39 objective=859.25  rel=0.0007"
       ]
      },
      {
       "output_type": "stream",
       "stream": "stdout",
       "text": [
        "\n",
        "Iter 40 objective=859.88  rel=0.0007\n",
        "Iter 41 objective=859.25  rel=0.0007"
       ]
      },
      {
       "output_type": "stream",
       "stream": "stdout",
       "text": [
        "\n",
        "Iter 42 objective=859.88  rel=0.0007\n",
        "Iter 43 objective=859.25  rel=0.0007"
       ]
      },
      {
       "output_type": "stream",
       "stream": "stdout",
       "text": [
        "\n",
        "Iter 44 objective=859.88  rel=0.0007\n",
        "Iter 45 objective=859.25  rel=0.0007"
       ]
      },
      {
       "output_type": "stream",
       "stream": "stdout",
       "text": [
        "\n",
        "Iter 46 objective=859.88  rel=0.0007\n",
        "Iter 47 objective=859.25  rel=0.0007"
       ]
      },
      {
       "output_type": "stream",
       "stream": "stdout",
       "text": [
        "\n",
        "Iter 48 objective=859.88  rel=0.0007\n",
        "Iter 49 objective=859.25  rel=0.0007"
       ]
      },
      {
       "output_type": "stream",
       "stream": "stdout",
       "text": [
        "\n",
        "Iter 50 objective=859.88  rel=0.0007\n",
        "Iter 51 objective=859.25  rel=0.0007"
       ]
      },
      {
       "output_type": "stream",
       "stream": "stdout",
       "text": [
        "\n",
        "Iter 52 objective=859.88  rel=0.0007\n",
        "Iter 53 objective=859.25  rel=0.0007"
       ]
      },
      {
       "output_type": "stream",
       "stream": "stdout",
       "text": [
        "\n",
        "Iter 54 objective=859.88  rel=0.0007\n",
        "Iter 55 objective=859.25  rel=0.0007"
       ]
      },
      {
       "output_type": "stream",
       "stream": "stdout",
       "text": [
        "\n",
        "Iter 56 objective=859.88  rel=0.0007\n",
        "Iter 57 objective=859.25  rel=0.0007"
       ]
      },
      {
       "output_type": "stream",
       "stream": "stdout",
       "text": [
        "\n",
        "Iter 58 objective=859.88  rel=0.0007\n",
        "Iter 59 objective=859.25  rel=0.0007"
       ]
      },
      {
       "output_type": "stream",
       "stream": "stdout",
       "text": [
        "\n",
        "Iter 60 objective=859.88  rel=0.0007\n",
        "Iter 61 objective=859.25  rel=0.0007"
       ]
      },
      {
       "output_type": "stream",
       "stream": "stdout",
       "text": [
        "\n",
        "Iter 62 objective=859.88  rel=0.0007\n",
        "Iter 63 objective=859.25  rel=0.0007"
       ]
      },
      {
       "output_type": "stream",
       "stream": "stdout",
       "text": [
        "\n",
        "Iter 64 objective=859.88  rel=0.0007\n",
        "Iter 65 objective=859.25  rel=0.0007"
       ]
      },
      {
       "output_type": "stream",
       "stream": "stdout",
       "text": [
        "\n",
        "Iter 66 objective=859.88  rel=0.0007\n",
        "Iter 67 objective=859.25  rel=0.0007"
       ]
      },
      {
       "output_type": "stream",
       "stream": "stdout",
       "text": [
        "\n",
        "Iter 68 objective=859.88  rel=0.0007\n",
        "Iter 69 objective=859.25  rel=0.0007"
       ]
      },
      {
       "output_type": "stream",
       "stream": "stdout",
       "text": [
        "\n",
        "Iter 70 objective=859.88  rel=0.0007\n",
        "Iter 71 objective=859.25  rel=0.0007"
       ]
      },
      {
       "output_type": "stream",
       "stream": "stdout",
       "text": [
        "\n",
        "Iter 72 objective=859.88  rel=0.0007\n",
        "Iter 73 objective=859.25  rel=0.0007"
       ]
      },
      {
       "output_type": "stream",
       "stream": "stdout",
       "text": [
        "\n",
        "Iter 74 objective=859.88  rel=0.0007\n",
        "Iter 75 objective=859.25  rel=0.0007"
       ]
      },
      {
       "output_type": "stream",
       "stream": "stdout",
       "text": [
        "\n",
        "Iter 76 objective=859.88  rel=0.0007\n",
        "Iter 77 objective=859.25  rel=0.0007"
       ]
      },
      {
       "output_type": "stream",
       "stream": "stdout",
       "text": [
        "\n",
        "Iter 78 objective=859.88  rel=0.0007\n",
        "Iter 79 objective=859.25  rel=0.0007"
       ]
      },
      {
       "output_type": "stream",
       "stream": "stdout",
       "text": [
        "\n",
        "Iter 80 objective=859.88  rel=0.0007\n",
        "Iter 81 objective=859.25  rel=0.0007"
       ]
      },
      {
       "output_type": "stream",
       "stream": "stdout",
       "text": [
        "\n",
        "Iter 82 objective=859.88  rel=0.0007\n",
        "Iter 83 objective=859.25  rel=0.0007"
       ]
      },
      {
       "output_type": "stream",
       "stream": "stdout",
       "text": [
        "\n",
        "Iter 84 objective=859.88  rel=0.0007\n",
        "Iter 85 objective=859.25  rel=0.0007"
       ]
      },
      {
       "output_type": "stream",
       "stream": "stdout",
       "text": [
        "\n",
        "Iter 86 objective=859.88  rel=0.0007\n",
        "Iter 87 objective=859.25  rel=0.0007"
       ]
      },
      {
       "output_type": "stream",
       "stream": "stdout",
       "text": [
        "\n",
        "Iter 88 objective=859.88  rel=0.0007\n",
        "Iter 89 objective=859.25  rel=0.0007"
       ]
      },
      {
       "output_type": "stream",
       "stream": "stdout",
       "text": [
        "\n",
        "Iter 90 objective=859.88  rel=0.0007\n",
        "Iter 91 objective=859.25  rel=0.0007"
       ]
      },
      {
       "output_type": "stream",
       "stream": "stdout",
       "text": [
        "\n",
        "Iter 92 objective=859.88  rel=0.0007\n",
        "Iter 93 objective=859.25  rel=0.0007"
       ]
      },
      {
       "output_type": "stream",
       "stream": "stdout",
       "text": [
        "\n",
        "Iter 94 objective=859.88  rel=0.0007\n",
        "Iter 95 objective=859.25  rel=0.0007"
       ]
      },
      {
       "output_type": "stream",
       "stream": "stdout",
       "text": [
        "\n",
        "Iter 96 objective=859.88  rel=0.0007\n",
        "Iter 97 objective=859.25  rel=0.0007"
       ]
      },
      {
       "output_type": "stream",
       "stream": "stdout",
       "text": [
        "\n",
        "Iter 98 objective=859.88  rel=0.0007\n",
        "Iter 99 objective=859.25  rel=0.0007"
       ]
      },
      {
       "output_type": "stream",
       "stream": "stdout",
       "text": [
        "\n",
        "[0 1]\n",
        "Generate a random solution vector for hot start.\n",
        "Iter 0 objective=866.36  rel=1154258.1435\n",
        "Iter 1 objective=860.21  rel=0.0071"
       ]
      },
      {
       "output_type": "stream",
       "stream": "stdout",
       "text": [
        "\n",
        "Iter 2 objective=859.88  rel=0.0004\n",
        "Iter 3 objective=859.25  rel=0.0007"
       ]
      },
      {
       "output_type": "stream",
       "stream": "stdout",
       "text": [
        "\n",
        "Iter 4 objective=859.88  rel=0.0007\n",
        "Iter 5 objective=859.25  rel=0.0007"
       ]
      },
      {
       "output_type": "stream",
       "stream": "stdout",
       "text": [
        "\n",
        "Iter 6 objective=859.88  rel=0.0007\n",
        "Iter 7 objective=859.25  rel=0.0007"
       ]
      },
      {
       "output_type": "stream",
       "stream": "stdout",
       "text": [
        "\n",
        "Iter 8 objective=859.88  rel=0.0007\n",
        "Iter 9 objective=859.25  rel=0.0007"
       ]
      },
      {
       "output_type": "stream",
       "stream": "stdout",
       "text": [
        "\n",
        "Iter 10 objective=859.88  rel=0.0007\n",
        "Iter 11 objective=859.25  rel=0.0007"
       ]
      },
      {
       "output_type": "stream",
       "stream": "stdout",
       "text": [
        "\n",
        "Iter 12 objective=859.88  rel=0.0007\n",
        "Iter 13 objective=859.25  rel=0.0007"
       ]
      },
      {
       "output_type": "stream",
       "stream": "stdout",
       "text": [
        "\n",
        "Iter 14 objective=859.88  rel=0.0007\n",
        "Iter 15 objective=859.25  rel=0.0007"
       ]
      },
      {
       "output_type": "stream",
       "stream": "stdout",
       "text": [
        "\n",
        "Iter 16 objective=859.88  rel=0.0007\n",
        "Iter 17 objective=859.25  rel=0.0007"
       ]
      },
      {
       "output_type": "stream",
       "stream": "stdout",
       "text": [
        "\n",
        "Iter 18 objective=859.88  rel=0.0007\n",
        "Iter 19 objective=859.25  rel=0.0007"
       ]
      },
      {
       "output_type": "stream",
       "stream": "stdout",
       "text": [
        "\n",
        "Iter 20 objective=859.88  rel=0.0007\n",
        "Iter 21 objective=859.25  rel=0.0007"
       ]
      },
      {
       "output_type": "stream",
       "stream": "stdout",
       "text": [
        "\n",
        "Iter 22 objective=859.88  rel=0.0007\n",
        "Iter 23 objective=859.25  rel=0.0007"
       ]
      },
      {
       "output_type": "stream",
       "stream": "stdout",
       "text": [
        "\n",
        "Iter 24 objective=859.88  rel=0.0007\n",
        "Iter 25 objective=859.25  rel=0.0007"
       ]
      },
      {
       "output_type": "stream",
       "stream": "stdout",
       "text": [
        "\n",
        "Iter 26 objective=859.88  rel=0.0007\n",
        "Iter 27 objective=859.25  rel=0.0007"
       ]
      },
      {
       "output_type": "stream",
       "stream": "stdout",
       "text": [
        "\n",
        "Iter 28 objective=859.88  rel=0.0007\n",
        "Iter 29 objective=859.25  rel=0.0007"
       ]
      },
      {
       "output_type": "stream",
       "stream": "stdout",
       "text": [
        "\n",
        "Iter 30 objective=859.88  rel=0.0007\n",
        "Iter 31 objective=859.25  rel=0.0007"
       ]
      },
      {
       "output_type": "stream",
       "stream": "stdout",
       "text": [
        "\n",
        "Iter 32 objective=859.88  rel=0.0007\n",
        "Iter 33 objective=859.25  rel=0.0007"
       ]
      },
      {
       "output_type": "stream",
       "stream": "stdout",
       "text": [
        "\n",
        "Iter 34 objective=859.88  rel=0.0007\n",
        "Iter 35 objective=859.25  rel=0.0007"
       ]
      },
      {
       "output_type": "stream",
       "stream": "stdout",
       "text": [
        "\n",
        "Iter 36 objective=859.88  rel=0.0007\n",
        "Iter 37 objective=859.25  rel=0.0007"
       ]
      },
      {
       "output_type": "stream",
       "stream": "stdout",
       "text": [
        "\n",
        "Iter 38 objective=859.88  rel=0.0007\n",
        "Iter 39 objective=859.25  rel=0.0007"
       ]
      },
      {
       "output_type": "stream",
       "stream": "stdout",
       "text": [
        "\n",
        "Iter 40 objective=859.88  rel=0.0007\n",
        "Iter 41 objective=859.25  rel=0.0007"
       ]
      },
      {
       "output_type": "stream",
       "stream": "stdout",
       "text": [
        "\n",
        "Iter 42 objective=859.88  rel=0.0007\n",
        "Iter 43 objective=859.25  rel=0.0007"
       ]
      },
      {
       "output_type": "stream",
       "stream": "stdout",
       "text": [
        "\n",
        "Iter 44 objective=859.88  rel=0.0007\n",
        "Iter 45 objective=859.25  rel=0.0007"
       ]
      },
      {
       "output_type": "stream",
       "stream": "stdout",
       "text": [
        "\n",
        "Iter 46 objective=859.88  rel=0.0007\n",
        "Iter 47 objective=859.25  rel=0.0007"
       ]
      },
      {
       "output_type": "stream",
       "stream": "stdout",
       "text": [
        "\n",
        "Iter 48 objective=859.88  rel=0.0007\n",
        "Iter 49 objective=859.25  rel=0.0007"
       ]
      },
      {
       "output_type": "stream",
       "stream": "stdout",
       "text": [
        "\n",
        "Iter 50 objective=859.88  rel=0.0007\n",
        "Iter 51 objective=859.25  rel=0.0007"
       ]
      },
      {
       "output_type": "stream",
       "stream": "stdout",
       "text": [
        "\n",
        "Iter 52 objective=859.88  rel=0.0007\n",
        "Iter 53 objective=859.25  rel=0.0007"
       ]
      },
      {
       "output_type": "stream",
       "stream": "stdout",
       "text": [
        "\n",
        "Iter 54 objective=859.88  rel=0.0007\n",
        "Iter 55 objective=859.25  rel=0.0007"
       ]
      },
      {
       "output_type": "stream",
       "stream": "stdout",
       "text": [
        "\n",
        "Iter 56 objective=859.88  rel=0.0007\n",
        "Iter 57 objective=859.25  rel=0.0007"
       ]
      },
      {
       "output_type": "stream",
       "stream": "stdout",
       "text": [
        "\n",
        "Iter 58 objective=859.88  rel=0.0007\n",
        "Iter 59 objective=859.25  rel=0.0007"
       ]
      },
      {
       "output_type": "stream",
       "stream": "stdout",
       "text": [
        "\n",
        "Iter 60 objective=859.88  rel=0.0007\n",
        "Iter 61 objective=859.25  rel=0.0007"
       ]
      }
     ]
    },
    {
     "cell_type": "code",
     "collapsed": false,
     "input": [
      "(y_pred2, lats) = lsvr.apply(testMC)\n",
      "y_pred2 = np.array(y_pred2)\n",
      "lats = np.array(lats)"
     ],
     "language": "python",
     "metadata": {},
     "outputs": [],
     "prompt_number": 171
    },
    {
     "cell_type": "code",
     "collapsed": false,
     "input": [
      "# Train with plain SVR\n",
      "clf = SVR(kernel='linear', C=1e1)\n",
      "clf.fit(X_train, y_train.reshape(-1,))\n",
      "y_pred = clf.predict(X_test)"
     ],
     "language": "python",
     "metadata": {},
     "outputs": [],
     "prompt_number": 172
    },
    {
     "cell_type": "code",
     "collapsed": false,
     "input": [
      "print('------------------------------------------')\n",
      "print 'SVR mse:       ',mean_squared_error(y_test, y_pred)\n",
      "print 'LatentRR mse: ',mean_squared_error(y_test, y_pred2)\n",
      "print('------------------------------------------')"
     ],
     "language": "python",
     "metadata": {},
     "outputs": [
      {
       "output_type": "stream",
       "stream": "stdout",
       "text": [
        "------------------------------------------\n",
        "SVR mse:        1.04939056149\n",
        "LatentRR mse:  0.94823215682\n",
        "------------------------------------------\n"
       ]
      }
     ],
     "prompt_number": 173
    },
    {
     "cell_type": "code",
     "collapsed": false,
     "input": [],
     "language": "python",
     "metadata": {},
     "outputs": [],
     "prompt_number": 238
    }
   ],
   "metadata": {}
  }
 ]
}