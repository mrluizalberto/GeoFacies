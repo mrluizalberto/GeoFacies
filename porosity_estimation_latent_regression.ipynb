{
 "worksheets": [
  {
   "cells": [
    {
     "cell_type": "code",
     "metadata": {},
     "outputs": [
      {
       "output_type": "stream",
       "stream": "stdout",
       "text": [
        "Using matplotlib backend: TkAgg\n"
       ]
      }
     ],
     "input": [
      "%run 'volume.ipynb'"
     ],
     "language": "python",
     "prompt_number": 1
    },
    {
     "cell_type": "code",
     "metadata": {},
     "outputs": [],
     "input": [
      "import os\n",
      "import sys\n",
      "import scipy as sp\n",
      "import numpy as np\n",
      "import math\n",
      "import struct\n",
      "import random\n",
      "import copy\n",
      "import matplotlib.pyplot as plt\n",
      "import pylab as pl\n",
      "import filecmp\n",
      "import cvxopt as co\n",
      "from numpy import unravel_index\n",
      "from sklearn.svm import SVR\n",
      "from sklearn import preprocessing\n",
      "from sklearn.metrics import mean_squared_error\n",
      "from latent_svr import LatentSvr\n",
      "from latent_ridge import LatentRidgeRegression\n",
      "from so_multiclass import SOMultiClass\n",
      "from sklearn.cluster import KMeans\n",
      "from sklearn import metrics"
     ],
     "language": "python",
     "prompt_number": 2
    },
    {
     "cell_type": "code",
     "metadata": {},
     "outputs": [
      {
       "output_type": "stream",
       "stream": "stdout",
       "text": [
        "Using matplotlib backend: TkAgg\n"
       ]
      }
     ],
     "input": [
      "%matplotlib"
     ],
     "language": "python",
     "prompt_number": 3
    },
    {
     "cell_type": "code",
     "metadata": {},
     "outputs": [],
     "input": [
      "# Define score function (RMS)\n",
      "def score_rms(y_true, y_pred):\n",
      "    return math.sqrt(mean_squared_error(y_true,y_pred))"
     ],
     "language": "python",
     "prompt_number": 4
    },
    {
     "cell_type": "code",
     "metadata": {},
     "outputs": [],
     "input": [
      "# Define score function (R^2) and evaluate for any y than a threshold value\n",
      "def score_R2(y_true, y_pred, thrsd):\n",
      "    y_t = y_true[y_true >= thrsd]\n",
      "    y_p = y_pred[y_true >= thrsd]\n",
      "    u = ((y_t - y_p) ** 2).sum()\n",
      "    v = ((y_t - y_true.mean()) ** 2).sum()\n",
      "    return (1 - u/v)"
     ],
     "language": "python",
     "prompt_number": 5
    },
    {
     "cell_type": "code",
     "metadata": {},
     "outputs": [],
     "input": [
      "# Get the n minimum values and respective indexes of a numpy array\n",
      "def n_min(arr, n):\n",
      "    indices = arr.ravel().argsort()[:n]\n",
      "    indices = (np.unravel_index(i, arr.shape) for i in indices)\n",
      "    return [(arr[i], i) for i in indices]"
     ],
     "language": "python",
     "prompt_number": 6
    },
    {
     "cell_type": "code",
     "metadata": {},
     "outputs": [],
     "input": [
      ""
     ],
     "language": "python",
     "prompt_number": 7
    },
    {
     "cell_type": "code",
     "metadata": {},
     "outputs": [],
     "input": [
      "# Load ip and porosity volumes\n",
      "ip = Vol()\n",
      "phi = Vol()\n",
      "ip.read(\"the_flame_ip.vol\")\n",
      "phi.read(\"the_flame_phi.vol\")"
     ],
     "language": "python",
     "prompt_number": 7
    },
    {
     "cell_type": "code",
     "metadata": {},
     "outputs": [],
     "input": [
      "# Discard anomalous data (this shoud never happen, but it can somentimes...)\n",
      "for z in range(ip.sizeZ):\n",
      "    for y in range(ip.sizeY):\n",
      "        for x in range(ip.sizeX):\n",
      "            if ip.data[z,y,x] != -1e+30 and phi.data[z,y,x] == -1e+30:\n",
      "                ip.data[z,y,x] = -1e+30"
     ],
     "language": "python",
     "prompt_number": 8
    },
    {
     "cell_type": "code",
     "metadata": {},
     "outputs": [],
     "input": [
      "# Add some noise to the input data\n",
      "mu = 0.\n",
      "sigma = 5.\n",
      "noise = np.random.normal(mu, sigma, ip.data.shape)\n",
      "ip.data +=(noise*100)"
     ],
     "language": "python",
     "prompt_number": 9
    },
    {
     "cell_type": "code",
     "metadata": {},
     "outputs": [],
     "input": [
      "# Plot an ip volume slice\n",
      "ip.plotSlice(0.)"
     ],
     "language": "python",
     "prompt_number": 10
    },
    {
     "cell_type": "code",
     "metadata": {},
     "outputs": [],
     "input": [
      "# Get top and base Z locations of the reservoir\n",
      "resTop = ip.getResTop()\n",
      "resBase = ip.getResBase()"
     ],
     "language": "python",
     "prompt_number": 11
    },
    {
     "cell_type": "code",
     "metadata": {},
     "outputs": [],
     "input": [
      "# Set the training and testing well sets\n",
      "locXY_labeled = []\n",
      "locXY_unlabeled = []\n",
      "for i in range(ip.sizeX): \n",
      "    for j in range(ip.sizeY):\n",
      "        locXY_unlabeled.append((i,j))\n",
      "\n",
      "# Choose the training well at the center of the volume\n",
      "#x = 50\n",
      "#y = 50\n",
      "#locXY_labeled.append((x,y))\n",
      "#locXY_unlabeled.remove((x,y))\n",
      "\n",
      "# Now choose randomly chosen training wells\n",
      "n = 1000\n",
      "\n",
      "for i in range(n):\n",
      "    n_elm = len(locXY_unlabeled)\n",
      "    elm = random.randint(0,n_elm-1)\n",
      "    x = locXY_unlabeled[elm][0]\n",
      "    y = locXY_unlabeled[elm][1]\n",
      "    locXY_labeled.append((x,y))\n",
      "    locXY_unlabeled.remove((x,y))"
     ],
     "language": "python",
     "prompt_number": 12
    },
    {
     "cell_type": "code",
     "metadata": {},
     "outputs": [],
     "input": [
      "# Select the number of neighbors (x2) to be considered in each dimension\n",
      "hx = 0\n",
      "hy = 0\n",
      "hz = 0"
     ],
     "language": "python",
     "prompt_number": 13
    },
    {
     "cell_type": "code",
     "metadata": {},
     "outputs": [],
     "input": [
      "# Create a feature variable to build in the end the estimated porosity volume\n",
      "n_feats = 1+2*hx+2*hy+2*hz\n",
      "X_features = np.zeros((ip.sizeX,ip.sizeY,ip.sizeZ,n_feats))"
     ],
     "language": "python",
     "prompt_number": 14
    },
    {
     "cell_type": "code",
     "metadata": {},
     "outputs": [
      {
       "output_type": "stream",
       "stream": "stdout",
       "text": [
        "(1000, 2)\n"
       ]
      }
     ],
     "input": [
      "# Build the training set\n",
      "X_train_list = []\n",
      "y_train_list = []\n",
      "\n",
      "n = len(locXY_labeled)\n",
      "for k in range(n):\n",
      "    x = locXY_labeled[k][0]\n",
      "    y = locXY_labeled[k][1]\n",
      "    for i in range(ip.sizeZ):\n",
      "        if i >= resTop[x,y] and i <= resBase[x,y]:\n",
      "            X = []\n",
      "            Y = []\n",
      "            X.append(ip.data[i,y,x])\n",
      "            Y.append(phi.data[i,y,x])\n",
      "    \n",
      "            if hx > 0:\n",
      "                if x >= hx:\n",
      "                    c = np.all(np.greater(ip.data[i,y,x-hx:x],-1e+30))\n",
      "                    aux = ip.data[i,y,x-hx:x]\n",
      "                    if c:\n",
      "                        for j in np.nditer(aux):\n",
      "                            X.append(float(j))\n",
      "                    else:\n",
      "                        for j in np.nditer(aux):\n",
      "                            X.append(ip.data[i,y,x])\n",
      "                else:\n",
      "                    for j in range(hx): \n",
      "                        X.append(ip.data[i,y,x])\n",
      "                if x < ip.sizeX-hx:\n",
      "                    c = np.all(np.greater(ip.data[i,y,x+1:x+1+hx],-1e+30))\n",
      "                    aux = ip.data[i,y,x+1:x+1+hx]\n",
      "                    if c:\n",
      "                        for j in np.nditer(aux):\n",
      "                            X.append(float(j))\n",
      "                    else:\n",
      "                        for j in np.nditer(aux):\n",
      "                            X.append(ip.data[i,y,x]) \n",
      "                else:\n",
      "                    for j in range(hx): \n",
      "                        X.append(ip.data[i,y,x])\n",
      "            if hy > 0:            \n",
      "                if y >= hy:\n",
      "                    c = np.all(np.greater(ip.data[i,y-hy:y,x],-1e+30))\n",
      "                    aux = ip.data[i,y-hy:y,x]\n",
      "                    if c:\n",
      "                        for j in np.nditer(aux):\n",
      "                            X.append(float(j))\n",
      "                    else:\n",
      "                        for j in np.nditer(aux):\n",
      "                            X.append(ip.data[i,y,x])\n",
      "                else:\n",
      "                    for j in range(hy): \n",
      "                        X.append(ip.data[i,y,x])                    \n",
      "                if y < ip.sizeY-hy:\n",
      "                    c = np.all(np.greater(ip.data[i,y+1:y+1+hy,x],-1e+30))\n",
      "                    aux = ip.data[i,y+1:y+1+hy,x]\n",
      "                    if c:\n",
      "                        for j in np.nditer(aux):\n",
      "                            X.append(float(j))\n",
      "                    else:\n",
      "                        for j in np.nditer(aux):\n",
      "                            X.append(ip.data[i,y,x])\n",
      "                else:\n",
      "                    for j in range(hy): \n",
      "                        X.append(ip.data[i,y,x])\n",
      "            if hz > 0:            \n",
      "                if i >= hz:\n",
      "                    c = np.all(np.greater(ip.data[i-hz:i,y,x],-1e+30))\n",
      "                    aux = ip.data[i-hz:i,y,x]\n",
      "                    if c:\n",
      "                        for j in np.nditer(aux):\n",
      "                            X.append(float(j))\n",
      "                    else:\n",
      "                        for j in np.nditer(aux):\n",
      "                            X.append(ip.data[i,y,x])\n",
      "                else:\n",
      "                    for j in range(hz): \n",
      "                        X.append(ip.data[i,y,x])                    \n",
      "                if i < ip.sizeZ-hz:\n",
      "                    c = np.all(np.greater(ip.data[i+1:i+1+hz,y,x],-1e+30))\n",
      "                    aux = ip.data[i+1:i+1+hz,y,x]\n",
      "                    if c:\n",
      "                        for j in np.nditer(aux):\n",
      "                            X.append(float(j))\n",
      "                    else:\n",
      "                        for j in np.nditer(aux):\n",
      "                            X.append(ip.data[i,y,x]) \n",
      "                else:\n",
      "                    for j in range(hz): \n",
      "                        X.append(ip.data[i,y,x]) \n",
      "                    \n",
      "            X_train_list.append(X)\n",
      "            y_train_list.append(Y)\n",
      "            X_features[x,y,i] = X\n",
      "        \n",
      "X_train = np.array(X_train_list)\n",
      "scalerX = preprocessing.StandardScaler().fit(X_train)\n",
      "X_train = scalerX.transform(X_train)\n",
      "y_train = np.concatenate(np.array(y_train_list))\n",
      "scalerY = preprocessing.StandardScaler().fit(y_train)\n",
      "y_train = scalerY.transform(y_train)\n",
      "\n",
      "# Add new matrix line filled with \"1\"s (for the intercept)\n",
      "X_train = X_train.reshape(-1,1+2*hx+2*hy+2*hz)\n",
      "y_train = y_train.reshape(-1,1)\n",
      "aux = np.ones((X_train.shape[0],1))\n",
      "X_train = np.hstack((X_train,aux))\n",
      "print X_train.shape"
     ],
     "language": "python",
     "prompt_number": 15
    },
    {
     "cell_type": "code",
     "metadata": {},
     "outputs": [
      {
       "output_type": "stream",
       "stream": "stdout",
       "text": [
        "(9000, 1)\n(9000, 1)\n(9000, 2)\n"
       ]
      }
     ],
     "input": [
      "# Build the testing set\n",
      "X_test_list = []\n",
      "y_test_list = []\n",
      "n = len(locXY_unlabeled)\n",
      "for k in range(n):\n",
      "    x = locXY_unlabeled[k][0]\n",
      "    y = locXY_unlabeled[k][1]\n",
      "    for i in range(ip.sizeZ):\n",
      "        if i >= resTop[x,y] and i <= resBase[x,y]:\n",
      "            X = []\n",
      "            Y = []\n",
      "            X.append(ip.data[i,y,x])\n",
      "            Y.append(phi.data[i,y,x])\n",
      "    \n",
      "            if hx > 0:\n",
      "                if x >= hx:\n",
      "                    c = np.all(np.greater(ip.data[i,y,x-hx:x],-1e+30))\n",
      "                    aux = ip.data[i,y,x-hx:x]\n",
      "                    if c:\n",
      "                        for j in np.nditer(aux):\n",
      "                            X.append(float(j))\n",
      "                    else:\n",
      "                        for j in np.nditer(aux):\n",
      "                            X.append(ip.data[i,y,x])\n",
      "                else:\n",
      "                    for j in range(hx):\n",
      "                        X.append(ip.data[i,y,x])\n",
      "                if x < ip.sizeX-hx:\n",
      "                    c = np.all(np.greater(ip.data[i,y,x+1:x+1+hx],-1e+30))\n",
      "                    aux = ip.data[i,y,x+1:x+1+hx]\n",
      "                    if c:\n",
      "                        for j in np.nditer(aux):\n",
      "                            X.append(float(j))\n",
      "                    else:\n",
      "                        for j in np.nditer(aux):\n",
      "                            X.append(ip.data[i,y,x])\n",
      "                else:\n",
      "                    for j in range(hx):\n",
      "                        X.append(ip.data[i,y,x])\n",
      "            if hy > 0:            \n",
      "                if y >= hy:\n",
      "                    c = np.all(np.greater(ip.data[i,y-hy:y,x],-1e+30))\n",
      "                    aux = ip.data[i,y-hy:y,x]\n",
      "                    if c:\n",
      "                        for j in np.nditer(aux):\n",
      "                            X.append(float(j))\n",
      "                    else:\n",
      "                        for j in np.nditer(aux):\n",
      "                            X.append(ip.data[i,y,x]) \n",
      "                else:\n",
      "                    for j in range(hy):\n",
      "                        X.append(ip.data[i,y,x])                          \n",
      "                if y < ip.sizeY-hy:\n",
      "                    c = np.all(np.greater(ip.data[i,y+1:y+1+hy,x],-1e+30))\n",
      "                    aux = ip.data[i,y+1:y+1+hy,x]\n",
      "                    if c:\n",
      "                        for j in np.nditer(aux):\n",
      "                            X.append(float(j))\n",
      "                    else:\n",
      "                        for j in np.nditer(aux):\n",
      "                            X.append(ip.data[i,y,x])\n",
      "                else:\n",
      "                    for j in range(hy):\n",
      "                        X.append(ip.data[i,y,x])\n",
      "            if hz > 0:            \n",
      "                if i >= hz:\n",
      "                    c = np.all(np.greater(ip.data[i-hz:i,y,x],-1e+30))\n",
      "                    aux = ip.data[i-hz:i,y,x]\n",
      "                    if c:\n",
      "                        for j in np.nditer(aux):\n",
      "                            X.append(float(j))\n",
      "                    else:\n",
      "                        for j in np.nditer(aux):\n",
      "                             X.append(ip.data[i,y,x])\n",
      "                else:\n",
      "                    for j in range(hz):\n",
      "                        X.append(ip.data[i,y,x])                            \n",
      "                if i < ip.sizeZ-hz:\n",
      "                    c = np.all(np.greater(ip.data[i+1:i+1+hz,y,x],-1e+30))\n",
      "                    aux = ip.data[i+1:i+1+hz,y,x]\n",
      "                    if c:\n",
      "                        for j in np.nditer(aux):\n",
      "                            X.append(float(j))\n",
      "                    else:\n",
      "                        for j in np.nditer(aux):\n",
      "                            X.append(ip.data[i,y,x])\n",
      "                else:\n",
      "                    for j in range(hz):\n",
      "                        X.append(ip.data[i,y,x])\n",
      "                \n",
      "            X_test_list.append(X)\n",
      "            y_test_list.append(Y)\n",
      "            X_features[x,y,i] = X\n",
      "    \n",
      "X_test = np.array(X_test_list)\n",
      "X_test = scalerX.transform(X_test)\n",
      "y_test = np.concatenate(np.array(y_test_list))\n",
      "y_test = scalerY.transform(y_test)    \n",
      "\n",
      "# Add new matrix line filled with \"1\"s (for the intercept)\n",
      "X_test = X_test.reshape(-1,1+2*hx+2*hy+2*hz)\n",
      "y_test = y_test.reshape(-1,1)\n",
      "aux = np.ones((X_test.shape[0], 1))\n",
      "print X_test.shape\n",
      "print aux.shape\n",
      "X_test = np.hstack((X_test,aux))\n",
      "print X_test.shape"
     ],
     "language": "python",
     "prompt_number": 16
    },
    {
     "cell_type": "code",
     "metadata": {},
     "outputs": [
      {
       "output_type": "stream",
       "stream": "stdout",
       "text": [
        "Creating structured object with #1000 training examples, each consisting of #2 features.\nCreating structured object with #9000 training examples, each consisting of #2 features.\n"
       ]
      }
     ],
     "input": [
      "# Set train and test data format for latent ridge and svr estimations\n",
      "trainMC = SOMultiClass(co.matrix(X_train.T), classes=4, y=co.matrix(y_train))\n",
      "testMC = SOMultiClass(co.matrix(X_test.T), classes=4)"
     ],
     "language": "python",
     "prompt_number": 17
    },
    {
     "cell_type": "code",
     "metadata": {},
     "outputs": [],
     "input": [
      "lsvr =LatentRidgeRegression(trainMC, l=0.0001)\n",
      "#lsvr =LatentSvr(trainMC, C=10.0, epsilon=0.01)"
     ],
     "language": "python",
     "prompt_number": 26
    },
    {
     "cell_type": "code",
     "metadata": {},
     "outputs": [
      {
       "output_type": "stream",
       "stream": "stdout",
       "text": [
        "Generate a random solution vector for hot start.\nIter 0 objective=178.36  rel=5606730.9620"
       ]
      },
      {
       "output_type": "stream",
       "stream": "stdout",
       "text": [
        "\nIter 1 objective=165.99  rel=0.0745\nIter 2 objective=170.50  rel=0.0265"
       ]
      },
      {
       "output_type": "stream",
       "stream": "stdout",
       "text": [
        "\nIter 3 objective=169.57  rel=0.0055\nIter 4 objective=171.22  rel=0.0096"
       ]
      },
      {
       "output_type": "stream",
       "stream": "stdout",
       "text": [
        "\nIter 5 objective=169.60  rel=0.0095\nIter 6 objective=171.00  rel=0.0081"
       ]
      },
      {
       "output_type": "stream",
       "stream": "stdout",
       "text": [
        "\nIter 7 objective=169.60  rel=0.0082\nIter 8 objective=171.00  rel=0.0081"
       ]
      },
      {
       "output_type": "stream",
       "stream": "stdout",
       "text": [
        "\nIter 9 objective=169.60  rel=0.0082\nIter 10 objective=171.00  rel=0.0081"
       ]
      },
      {
       "output_type": "stream",
       "stream": "stdout",
       "text": [
        "\nIter 11 objective=169.60  rel=0.0082\nIter 12 objective=171.00  rel=0.0081"
       ]
      },
      {
       "output_type": "stream",
       "stream": "stdout",
       "text": [
        "\nIter 13 objective=169.60  rel=0.0082\nIter 14 objective=171.00  rel=0.0081"
       ]
      },
      {
       "output_type": "stream",
       "stream": "stdout",
       "text": [
        "\nIter 15 objective=169.60  rel=0.0082"
       ]
      },
      {
       "output_type": "stream",
       "stream": "stdout",
       "text": [
        "\nIter 16 objective=171.00  rel=0.0081\nIter 17 objective=169.60  rel=0.0082"
       ]
      },
      {
       "output_type": "stream",
       "stream": "stdout",
       "text": [
        "\nIter 18 objective=171.00  rel=0.0081\nIter 19 objective=169.60  rel=0.0082"
       ]
      },
      {
       "output_type": "stream",
       "stream": "stdout",
       "text": [
        "\nIter 20 objective=171.00  rel=0.0081\nIter 21 objective=169.60  rel=0.0082"
       ]
      },
      {
       "output_type": "stream",
       "stream": "stdout",
       "text": [
        "\nIter 22 objective=171.00  rel=0.0081\nIter 23 objective=169.60  rel=0.0082"
       ]
      },
      {
       "output_type": "stream",
       "stream": "stdout",
       "text": [
        "\nIter 24 objective=171.00  rel=0.0081\nIter 25 objective=169.60  rel=0.0082"
       ]
      },
      {
       "output_type": "stream",
       "stream": "stdout",
       "text": [
        "\nIter 26 objective=171.00  rel=0.0081\nIter 27 objective=169.60  rel=0.0082"
       ]
      },
      {
       "output_type": "stream",
       "stream": "stdout",
       "text": [
        "\nIter 28 objective=171.00  rel=0.0081\nIter 29 objective=169.60  rel=0.0082"
       ]
      },
      {
       "output_type": "stream",
       "stream": "stdout",
       "text": [
        "\nIter 30 objective=171.00  rel=0.0081\nIter 31 objective=169.60  rel=0.0082"
       ]
      },
      {
       "output_type": "stream",
       "stream": "stdout",
       "text": [
        "\nIter 32 objective=171.00  rel=0.0081\nIter 33 objective=169.60  rel=0.0082"
       ]
      },
      {
       "output_type": "stream",
       "stream": "stdout",
       "text": [
        "\nIter 34 objective=171.00  rel=0.0081\nIter 35 objective=169.60  rel=0.0082"
       ]
      },
      {
       "output_type": "stream",
       "stream": "stdout",
       "text": [
        "\nIter 36 objective=171.00  rel=0.0081\nIter 37 objective=169.60  rel=0.0082"
       ]
      },
      {
       "output_type": "stream",
       "stream": "stdout",
       "text": [
        "\nIter 38 objective=171.00  rel=0.0081\nIter 39 objective=169.60  rel=0.0082"
       ]
      },
      {
       "output_type": "stream",
       "stream": "stdout",
       "text": [
        "\nIter 40 objective=171.00  rel=0.0081\nIter 41 objective=169.60  rel=0.0082"
       ]
      },
      {
       "output_type": "stream",
       "stream": "stdout",
       "text": [
        "\nIter 42 objective=171.00  rel=0.0081\nIter 43 objective=169.60  rel=0.0082"
       ]
      },
      {
       "output_type": "stream",
       "stream": "stdout",
       "text": [
        "\nIter 44 objective=171.00  rel=0.0081\nIter 45 objective=169.60  rel=0.0082"
       ]
      },
      {
       "output_type": "stream",
       "stream": "stdout",
       "text": [
        "\nIter 46 objective=171.00  rel=0.0081\nIter 47 objective=169.60  rel=0.0082"
       ]
      },
      {
       "output_type": "stream",
       "stream": "stdout",
       "text": [
        "\nIter 48 objective=171.00  rel=0.0081\nIter 49 objective=169.60  rel=0.0082"
       ]
      },
      {
       "output_type": "stream",
       "stream": "stdout",
       "text": [
        "\nIter 50 objective=171.00  rel=0.0081\nIter 51 objective=169.60  rel=0.0082"
       ]
      },
      {
       "output_type": "stream",
       "stream": "stdout",
       "text": [
        "\nIter 52 objective=171.00  rel=0.0081\nIter 53 objective=169.60  rel=0.0082"
       ]
      },
      {
       "output_type": "stream",
       "stream": "stdout",
       "text": [
        "\nIter 54 objective=171.00  rel=0.0081\nIter 55 objective=169.60  rel=0.0082"
       ]
      },
      {
       "output_type": "stream",
       "stream": "stdout",
       "text": [
        "\nIter 56 objective=171.00  rel=0.0081\nIter 57 objective=169.60  rel=0.0082"
       ]
      },
      {
       "output_type": "stream",
       "stream": "stdout",
       "text": [
        "\nIter 58 objective=171.00  rel=0.0081\nIter 59 objective=169.60  rel=0.0082"
       ]
      },
      {
       "output_type": "stream",
       "stream": "stdout",
       "text": [
        "\nIter 60 objective=171.00  rel=0.0081\nIter 61 objective=169.60  rel=0.0082"
       ]
      },
      {
       "output_type": "stream",
       "stream": "stdout",
       "text": [
        "\nIter 62 objective=171.00  rel=0.0081\nIter 63 objective=169.60  rel=0.0082"
       ]
      },
      {
       "output_type": "stream",
       "stream": "stdout",
       "text": [
        "\nIter 64 objective=171.00  rel=0.0081\nIter 65 objective=169.60  rel=0.0082"
       ]
      },
      {
       "output_type": "stream",
       "stream": "stdout",
       "text": [
        "\nIter 66 objective=171.00  rel=0.0081\nIter 67 objective=169.60  rel=0.0082"
       ]
      },
      {
       "output_type": "stream",
       "stream": "stdout",
       "text": [
        "\nIter 68 objective=171.00  rel=0.0081\nIter 69 objective=169.60  rel=0.0082"
       ]
      },
      {
       "output_type": "stream",
       "stream": "stdout",
       "text": [
        "\nIter 70 objective=171.00  rel=0.0081\nIter 71 objective=169.60  rel=0.0082"
       ]
      },
      {
       "output_type": "stream",
       "stream": "stdout",
       "text": [
        "\nIter 72 objective=171.00  rel=0.0081\nIter 73 objective=169.60  rel=0.0082"
       ]
      },
      {
       "output_type": "stream",
       "stream": "stdout",
       "text": [
        "\nIter 74 objective=171.00  rel=0.0081\nIter 75 objective=169.60  rel=0.0082"
       ]
      },
      {
       "output_type": "stream",
       "stream": "stdout",
       "text": [
        "\nIter 76 objective=171.00  rel=0.0081\nIter 77 objective=169.60  rel=0.0082"
       ]
      },
      {
       "output_type": "stream",
       "stream": "stdout",
       "text": [
        "\nIter 78 objective=171.00  rel=0.0081\nIter 79 objective=169.60  rel=0.0082"
       ]
      },
      {
       "output_type": "stream",
       "stream": "stdout",
       "text": [
        "\nIter 80 objective=171.00  rel=0.0081\nIter 81 objective=169.60  rel=0.0082"
       ]
      },
      {
       "output_type": "stream",
       "stream": "stdout",
       "text": [
        "\nIter 82 objective=171.00  rel=0.0081\nIter 83 objective=169.60  rel=0.0082"
       ]
      },
      {
       "output_type": "stream",
       "stream": "stdout",
       "text": [
        "\nIter 84 objective=171.00  rel=0.0081\nIter 85 objective=169.60  rel=0.0082"
       ]
      },
      {
       "output_type": "stream",
       "stream": "stdout",
       "text": [
        "\nIter 86 objective=171.00  rel=0.0081\nIter 87 objective=169.60  rel=0.0082"
       ]
      },
      {
       "output_type": "stream",
       "stream": "stdout",
       "text": [
        "\nIter 88 objective=171.00  rel=0.0081\nIter 89 objective=169.60  rel=0.0082"
       ]
      },
      {
       "output_type": "stream",
       "stream": "stdout",
       "text": [
        "\nIter 90 objective=171.00  rel=0.0081\nIter 91 objective=169.60  rel=0.0082"
       ]
      },
      {
       "output_type": "stream",
       "stream": "stdout",
       "text": [
        "\nIter 92 objective=171.00  rel=0.0081\nIter 93 objective=169.60  rel=0.0082"
       ]
      },
      {
       "output_type": "stream",
       "stream": "stdout",
       "text": [
        "\nIter 94 objective=171.00  rel=0.0081\nIter 95 objective=169.60  rel=0.0082"
       ]
      },
      {
       "output_type": "stream",
       "stream": "stdout",
       "text": [
        "\nIter 96 objective=171.00  rel=0.0081\nIter 97 objective=169.60  rel=0.0082"
       ]
      },
      {
       "output_type": "stream",
       "stream": "stdout",
       "text": [
        "\nIter 98 objective=171.00  rel=0.0081\nIter 99 objective=169.60  rel=0.0082"
       ]
      },
      {
       "output_type": "stream",
       "stream": "stdout",
       "text": [
        "\n[0 2]\nGenerate a random solution vector for hot start.\nIter 0 objective=201.57  rel=4961091.3758\nIter 1 objective=171.61  rel=0.1746"
       ]
      },
      {
       "output_type": "stream",
       "stream": "stdout",
       "text": [
        "\nIter 2 objective=169.47  rel=0.0126\nIter 3 objective=171.54  rel=0.0121"
       ]
      },
      {
       "output_type": "stream",
       "stream": "stdout",
       "text": [
        "\nIter 4 objective=170.95  rel=0.0034\nIter 5 objective=172.26  rel=0.0076"
       ]
      },
      {
       "output_type": "stream",
       "stream": "stdout",
       "text": [
        "\nIter 6 objective=169.57  rel=0.0158\nIter 7 objective=171.22  rel=0.0096"
       ]
      },
      {
       "output_type": "stream",
       "stream": "stdout",
       "text": [
        "\nIter 8 objective=169.60  rel=0.0095\nIter 9 objective=171.00  rel=0.0081"
       ]
      },
      {
       "output_type": "stream",
       "stream": "stdout",
       "text": [
        "\nIter 10 objective=169.60  rel=0.0082\nIter 11 objective=171.00  rel=0.0081"
       ]
      },
      {
       "output_type": "stream",
       "stream": "stdout",
       "text": [
        "\nIter 12 objective=169.60  rel=0.0082\nIter 13 objective=171.00  rel=0.0081"
       ]
      },
      {
       "output_type": "stream",
       "stream": "stdout",
       "text": [
        "\nIter 14 objective=169.60  rel=0.0082\nIter 15 objective=171.00  rel=0.0081"
       ]
      },
      {
       "output_type": "stream",
       "stream": "stdout",
       "text": [
        "\nIter 16 objective=169.60  rel=0.0082\nIter 17 objective=171.00  rel=0.0081"
       ]
      },
      {
       "output_type": "stream",
       "stream": "stdout",
       "text": [
        "\nIter 18 objective=169.60  rel=0.0082\nIter 19 objective=171.00  rel=0.0081"
       ]
      },
      {
       "output_type": "stream",
       "stream": "stdout",
       "text": [
        "\nIter 20 objective=169.60  rel=0.0082\nIter 21 objective=171.00  rel=0.0081"
       ]
      },
      {
       "output_type": "stream",
       "stream": "stdout",
       "text": [
        "\nIter 22 objective=169.60  rel=0.0082\nIter 23 objective=171.00  rel=0.0081"
       ]
      },
      {
       "output_type": "stream",
       "stream": "stdout",
       "text": [
        "\nIter 24 objective=169.60  rel=0.0082\nIter 25 objective=171.00  rel=0.0081"
       ]
      },
      {
       "output_type": "stream",
       "stream": "stdout",
       "text": [
        "\nIter 26 objective=169.60  rel=0.0082\nIter 27 objective=171.00  rel=0.0081"
       ]
      },
      {
       "output_type": "stream",
       "stream": "stdout",
       "text": [
        "\nIter 28 objective=169.60  rel=0.0082\nIter 29 objective=171.00  rel=0.0081"
       ]
      },
      {
       "output_type": "stream",
       "stream": "stdout",
       "text": [
        "\nIter 30 objective=169.60  rel=0.0082\nIter 31 objective=171.00  rel=0.0081"
       ]
      },
      {
       "output_type": "stream",
       "stream": "stdout",
       "text": [
        "\nIter 32 objective=169.60  rel=0.0082\nIter 33 objective=171.00  rel=0.0081"
       ]
      },
      {
       "output_type": "stream",
       "stream": "stdout",
       "text": [
        "\nIter 34 objective=169.60  rel=0.0082\nIter 35 objective=171.00  rel=0.0081"
       ]
      },
      {
       "output_type": "stream",
       "stream": "stdout",
       "text": [
        "\nIter 36 objective=169.60  rel=0.0082\nIter 37 objective=171.00  rel=0.0081"
       ]
      },
      {
       "output_type": "stream",
       "stream": "stdout",
       "text": [
        "\nIter 38 objective=169.60  rel=0.0082\nIter 39 objective=171.00  rel=0.0081"
       ]
      },
      {
       "output_type": "stream",
       "stream": "stdout",
       "text": [
        "\nIter 40 objective=169.60  rel=0.0082\nIter 41 objective=171.00  rel=0.0081"
       ]
      },
      {
       "output_type": "stream",
       "stream": "stdout",
       "text": [
        "\nIter 42 objective=169.60  rel=0.0082\nIter 43 objective=171.00  rel=0.0081"
       ]
      },
      {
       "output_type": "stream",
       "stream": "stdout",
       "text": [
        "\nIter 44 objective=169.60  rel=0.0082\nIter 45 objective=171.00  rel=0.0081"
       ]
      },
      {
       "output_type": "stream",
       "stream": "stdout",
       "text": [
        "\nIter 46 objective=169.60  rel=0.0082\nIter 47 objective=171.00  rel=0.0081"
       ]
      },
      {
       "output_type": "stream",
       "stream": "stdout",
       "text": [
        "\nIter 48 objective=169.60  rel=0.0082\nIter 49 objective=171.00  rel=0.0081"
       ]
      },
      {
       "output_type": "stream",
       "stream": "stdout",
       "text": [
        "\nIter 50 objective=169.60  rel=0.0082\nIter 51 objective=171.00  rel=0.0081"
       ]
      },
      {
       "output_type": "stream",
       "stream": "stdout",
       "text": [
        "\nIter 52 objective=169.60  rel=0.0082\nIter 53 objective=171.00  rel=0.0081"
       ]
      },
      {
       "output_type": "stream",
       "stream": "stdout",
       "text": [
        "\nIter 54 objective=169.60  rel=0.0082\nIter 55 objective=171.00  rel=0.0081"
       ]
      },
      {
       "output_type": "stream",
       "stream": "stdout",
       "text": [
        "\nIter 56 objective=169.60  rel=0.0082\nIter 57 objective=171.00  rel=0.0081"
       ]
      },
      {
       "output_type": "stream",
       "stream": "stdout",
       "text": [
        "\nIter 58 objective=169.60  rel=0.0082\nIter 59 objective=171.00  rel=0.0081"
       ]
      },
      {
       "output_type": "stream",
       "stream": "stdout",
       "text": [
        "\nIter 60 objective=169.60  rel=0.0082\nIter 61 objective=171.00  rel=0.0081"
       ]
      },
      {
       "output_type": "stream",
       "stream": "stdout",
       "text": [
        "\nIter 62 objective=169.60  rel=0.0082\nIter 63 objective=171.00  rel=0.0081"
       ]
      },
      {
       "output_type": "stream",
       "stream": "stdout",
       "text": [
        "\nIter 64 objective=169.60  rel=0.0082\nIter 65 objective=171.00  rel=0.0081"
       ]
      },
      {
       "output_type": "stream",
       "stream": "stdout",
       "text": [
        "\nIter 66 objective=169.60  rel=0.0082\nIter 67 objective=171.00  rel=0.0081"
       ]
      },
      {
       "output_type": "stream",
       "stream": "stdout",
       "text": [
        "\nIter 68 objective=169.60  rel=0.0082\nIter 69 objective=171.00  rel=0.0081"
       ]
      },
      {
       "output_type": "stream",
       "stream": "stdout",
       "text": [
        "\nIter 70 objective=169.60  rel=0.0082\nIter 71 objective=171.00  rel=0.0081"
       ]
      },
      {
       "output_type": "stream",
       "stream": "stdout",
       "text": [
        "\nIter 72 objective=169.60  rel=0.0082\nIter 73 objective=171.00  rel=0.0081"
       ]
      },
      {
       "output_type": "stream",
       "stream": "stdout",
       "text": [
        "\nIter 74 objective=169.60  rel=0.0082\nIter 75 objective=171.00  rel=0.0081"
       ]
      },
      {
       "output_type": "stream",
       "stream": "stdout",
       "text": [
        "\nIter 76 objective=169.60  rel=0.0082\nIter 77 objective=171.00  rel=0.0081"
       ]
      },
      {
       "output_type": "stream",
       "stream": "stdout",
       "text": [
        "\nIter 78 objective=169.60  rel=0.0082\nIter 79 objective=171.00  rel=0.0081"
       ]
      },
      {
       "output_type": "stream",
       "stream": "stdout",
       "text": [
        "\nIter 80 objective=169.60  rel=0.0082\nIter 81 objective=171.00  rel=0.0081"
       ]
      },
      {
       "output_type": "stream",
       "stream": "stdout",
       "text": [
        "\nIter 82 objective=169.60  rel=0.0082\nIter 83 objective=171.00  rel=0.0081"
       ]
      },
      {
       "output_type": "stream",
       "stream": "stdout",
       "text": [
        "\nIter 84 objective=169.60  rel=0.0082\nIter 85 objective=171.00  rel=0.0081"
       ]
      },
      {
       "output_type": "stream",
       "stream": "stdout",
       "text": [
        "\nIter 86 objective=169.60  rel=0.0082\nIter 87 objective=171.00  rel=0.0081"
       ]
      },
      {
       "output_type": "stream",
       "stream": "stdout",
       "text": [
        "\nIter 88 objective=169.60  rel=0.0082\nIter 89 objective=171.00  rel=0.0081"
       ]
      },
      {
       "output_type": "stream",
       "stream": "stdout",
       "text": [
        "\nIter 90 objective=169.60  rel=0.0082\nIter 91 objective=171.00  rel=0.0081"
       ]
      },
      {
       "output_type": "stream",
       "stream": "stdout",
       "text": [
        "\nIter 92 objective=169.60  rel=0.0082\nIter 93 objective=171.00  rel=0.0081"
       ]
      },
      {
       "output_type": "stream",
       "stream": "stdout",
       "text": [
        "\nIter 94 objective=169.60  rel=0.0082\nIter 95 objective=171.00  rel=0.0081"
       ]
      },
      {
       "output_type": "stream",
       "stream": "stdout",
       "text": [
        "\nIter 96 objective=169.60  rel=0.0082\nIter 97 objective=171.00  rel=0.0081"
       ]
      },
      {
       "output_type": "stream",
       "stream": "stdout",
       "text": [
        "\nIter 98 objective=169.60  rel=0.0082\nIter 99 objective=171.00  rel=0.0081"
       ]
      },
      {
       "output_type": "stream",
       "stream": "stdout",
       "text": [
        "\n[1 2]\nGenerate a random solution vector for hot start.\nIter 0 objective=164.07  rel=6094967.5896\nIter 1 objective=171.12  rel=0.0412"
       ]
      },
      {
       "output_type": "stream",
       "stream": "stdout",
       "text": [
        "\nIter 2 objective=160.64  rel=0.0652\nIter 3 objective=165.11  rel=0.0270"
       ]
      },
      {
       "output_type": "stream",
       "stream": "stdout",
       "text": [
        "\nIter 4 objective=177.80  rel=0.0714\nIter 5 objective=159.51  rel=0.1146"
       ]
      },
      {
       "output_type": "stream",
       "stream": "stdout",
       "text": [
        "\nIter 6 objective=159.62  rel=0.0007\nIter 7 objective=178.63  rel=0.1064"
       ]
      },
      {
       "output_type": "stream",
       "stream": "stdout",
       "text": [
        "\nIter 8 objective=160.27  rel=0.1145\nIter 9 objective=158.29  rel=0.0125"
       ]
      },
      {
       "output_type": "stream",
       "stream": "stdout",
       "text": [
        "\nIter 10 objective=173.77  rel=0.0891\nIter 11 objective=159.90  rel=0.0867"
       ]
      },
      {
       "output_type": "stream",
       "stream": "stdout",
       "text": [
        "\nIter 12 objective=159.48  rel=0.0026\nIter 13 objective=173.31  rel=0.0798"
       ]
      },
      {
       "output_type": "stream",
       "stream": "stdout",
       "text": [
        "\nIter 14 objective=160.11  rel=0.0824\nIter 15 objective=158.51  rel=0.0101"
       ]
      },
      {
       "output_type": "stream",
       "stream": "stdout",
       "text": [
        "\nIter 16 objective=181.92  rel=0.1287\nIter 17 objective=159.23  rel=0.1425"
       ]
      },
      {
       "output_type": "stream",
       "stream": "stdout",
       "text": [
        "\nIter 18 objective=160.01  rel=0.0049\nIter 19 objective=165.38  rel=0.0324"
       ]
      },
      {
       "output_type": "stream",
       "stream": "stdout",
       "text": [
        "\nIter 20 objective=176.13  rel=0.0611\nIter 21 objective=158.07  rel=0.1142"
       ]
      },
      {
       "output_type": "stream",
       "stream": "stdout",
       "text": [
        "\nIter 22 objective=170.52  rel=0.0730\nIter 23 objective=176.91  rel=0.0362"
       ]
      },
      {
       "output_type": "stream",
       "stream": "stdout",
       "text": [
        "\nIter 24 objective=160.57  rel=0.1018\nIter 25 objective=159.05  rel=0.0096"
       ]
      },
      {
       "output_type": "stream",
       "stream": "stdout",
       "text": [
        "\nIter 26 objective=168.68  rel=0.0571\nIter 27 objective=161.84  rel=0.0423"
       ]
      },
      {
       "output_type": "stream",
       "stream": "stdout",
       "text": [
        "\nIter 28 objective=168.42  rel=0.0391\nIter 29 objective=172.59  rel=0.0241"
       ]
      },
      {
       "output_type": "stream",
       "stream": "stdout",
       "text": [
        "\nIter 30 objective=158.95  rel=0.0858\nIter 31 objective=176.03  rel=0.0970"
       ]
      },
      {
       "output_type": "stream",
       "stream": "stdout",
       "text": [
        "\nIter 32 objective=172.19  rel=0.0223\nIter 33 objective=165.06  rel=0.0432"
       ]
      },
      {
       "output_type": "stream",
       "stream": "stdout",
       "text": [
        "\nIter 34 objective=158.18  rel=0.0435\nIter 35 objective=180.05  rel=0.1215"
       ]
      },
      {
       "output_type": "stream",
       "stream": "stdout",
       "text": [
        "\nIter 36 objective=161.05  rel=0.1179\nIter 37 objective=158.66  rel=0.0151"
       ]
      },
      {
       "output_type": "stream",
       "stream": "stdout",
       "text": [
        "\nIter 38 objective=174.25  rel=0.0895\nIter 39 objective=160.44  rel=0.0861"
       ]
      },
      {
       "output_type": "stream",
       "stream": "stdout",
       "text": [
        "\nIter 40 objective=159.57  rel=0.0054\nIter 41 objective=180.56  rel=0.1162"
       ]
      },
      {
       "output_type": "stream",
       "stream": "stdout",
       "text": [
        "\nIter 42 objective=161.05  rel=0.1211\nIter 43 objective=158.66  rel=0.0151"
       ]
      },
      {
       "output_type": "stream",
       "stream": "stdout",
       "text": [
        "\nIter 44 objective=174.25  rel=0.0895\nIter 45 objective=160.44  rel=0.0861"
       ]
      },
      {
       "output_type": "stream",
       "stream": "stdout",
       "text": [
        "\nIter 46 objective=159.57  rel=0.0054\nIter 47 objective=180.56  rel=0.1162"
       ]
      },
      {
       "output_type": "stream",
       "stream": "stdout",
       "text": [
        "\nIter 48 objective=161.05  rel=0.1211\nIter 49 objective=158.66  rel=0.0151"
       ]
      },
      {
       "output_type": "stream",
       "stream": "stdout",
       "text": [
        "\nIter 50 objective=174.25  rel=0.0895\nIter 51 objective=160.44  rel=0.0861"
       ]
      },
      {
       "output_type": "stream",
       "stream": "stdout",
       "text": [
        "\nIter 52 objective=159.57  rel=0.0054\nIter 53 objective=180.56  rel=0.1162"
       ]
      },
      {
       "output_type": "stream",
       "stream": "stdout",
       "text": [
        "\nIter 54 objective=161.05  rel=0.1211\nIter 55 objective=158.66  rel=0.0151"
       ]
      },
      {
       "output_type": "stream",
       "stream": "stdout",
       "text": [
        "\nIter 56 objective=174.25  rel=0.0895\nIter 57 objective=160.44  rel=0.0861"
       ]
      },
      {
       "output_type": "stream",
       "stream": "stdout",
       "text": [
        "\nIter 58 objective=159.57  rel=0.0054\nIter 59 objective=180.56  rel=0.1162"
       ]
      },
      {
       "output_type": "stream",
       "stream": "stdout",
       "text": [
        "\nIter 60 objective=161.05  rel=0.1211\nIter 61 objective=158.66  rel=0.0151"
       ]
      },
      {
       "output_type": "stream",
       "stream": "stdout",
       "text": [
        "\nIter 62 objective=174.25  rel=0.0895\nIter 63 objective=160.44  rel=0.0861"
       ]
      },
      {
       "output_type": "stream",
       "stream": "stdout",
       "text": [
        "\nIter 64 objective=159.57  rel=0.0054\nIter 65 objective=180.56  rel=0.1162"
       ]
      },
      {
       "output_type": "stream",
       "stream": "stdout",
       "text": [
        "\nIter 66 objective=161.05  rel=0.1211\nIter 67 objective=158.66  rel=0.0151"
       ]
      },
      {
       "output_type": "stream",
       "stream": "stdout",
       "text": [
        "\nIter 68 objective=174.25  rel=0.0895\nIter 69 objective=160.44  rel=0.0861"
       ]
      },
      {
       "output_type": "stream",
       "stream": "stdout",
       "text": [
        "\nIter 70 objective=159.57  rel=0.0054\nIter 71 objective=180.56  rel=0.1162"
       ]
      },
      {
       "output_type": "stream",
       "stream": "stdout",
       "text": [
        "\nIter 72 objective=161.05  rel=0.1211\nIter 73 objective=158.66  rel=0.0151"
       ]
      },
      {
       "output_type": "stream",
       "stream": "stdout",
       "text": [
        "\nIter 74 objective=174.25  rel=0.0895\nIter 75 objective=160.44  rel=0.0861"
       ]
      },
      {
       "output_type": "stream",
       "stream": "stdout",
       "text": [
        "\nIter 76 objective=159.57  rel=0.0054\nIter 77 objective=180.56  rel=0.1162"
       ]
      },
      {
       "output_type": "stream",
       "stream": "stdout",
       "text": [
        "\nIter 78 objective=161.05  rel=0.1211\nIter 79 objective=158.66  rel=0.0151"
       ]
      },
      {
       "output_type": "stream",
       "stream": "stdout",
       "text": [
        "\nIter 80 objective=174.25  rel=0.0895\nIter 81 objective=160.44  rel=0.0861"
       ]
      },
      {
       "output_type": "stream",
       "stream": "stdout",
       "text": [
        "\nIter 82 objective=159.57  rel=0.0054\nIter 83 objective=180.56  rel=0.1162"
       ]
      },
      {
       "output_type": "stream",
       "stream": "stdout",
       "text": [
        "\nIter 84 objective=161.05  rel=0.1211"
       ]
      },
      {
       "output_type": "stream",
       "stream": "stdout",
       "text": [
        "\nIter 85 objective=158.66  rel=0.0151\nIter 86 objective=174.25  rel=0.0895"
       ]
      },
      {
       "output_type": "stream",
       "stream": "stdout",
       "text": [
        "\nIter 87 objective=160.44  rel=0.0861"
       ]
      },
      {
       "output_type": "stream",
       "stream": "stdout",
       "text": [
        "\nIter 88 objective=159.57  rel=0.0054"
       ]
      },
      {
       "output_type": "stream",
       "stream": "stdout",
       "text": [
        "\nIter 89 objective=180.56  rel=0.1162\nIter 90 objective=161.05  rel=0.1211"
       ]
      },
      {
       "output_type": "stream",
       "stream": "stdout",
       "text": [
        "\nIter 91 objective=158.66  rel=0.0151\nIter 92 objective=174.25  rel=0.0895"
       ]
      },
      {
       "output_type": "stream",
       "stream": "stdout",
       "text": [
        "\nIter 93 objective=160.44  rel=0.0861\nIter 94 objective=159.57  rel=0.0054"
       ]
      },
      {
       "output_type": "stream",
       "stream": "stdout",
       "text": [
        "\nIter 95 objective=180.56  rel=0.1162\nIter 96 objective=161.05  rel=0.1211"
       ]
      },
      {
       "output_type": "stream",
       "stream": "stdout",
       "text": [
        "\nIter 97 objective=158.66  rel=0.0151\nIter 98 objective=174.25  rel=0.0895"
       ]
      },
      {
       "output_type": "stream",
       "stream": "stdout",
       "text": [
        "\nIter 99 objective=160.44  rel=0.0861\n[0 2 3]\nGenerate a random solution vector for hot start.\nIter 0 objective=179.47  rel=5571815.9213"
       ]
      },
      {
       "output_type": "stream",
       "stream": "stdout",
       "text": [
        "\nIter 1 objective=169.91  rel=0.0563\nIter 2 objective=171.00  rel=0.0064"
       ]
      },
      {
       "output_type": "stream",
       "stream": "stdout",
       "text": [
        "\nIter 3 objective=169.60  rel=0.0082\nIter 4 objective=171.00  rel=0.0081"
       ]
      },
      {
       "output_type": "stream",
       "stream": "stdout",
       "text": [
        "\nIter 5 objective=169.60  rel=0.0082\nIter 6 objective=171.00  rel=0.0081"
       ]
      },
      {
       "output_type": "stream",
       "stream": "stdout",
       "text": [
        "\nIter 7 objective=169.60  rel=0.0082\nIter 8 objective=171.00  rel=0.0081"
       ]
      },
      {
       "output_type": "stream",
       "stream": "stdout",
       "text": [
        "\nIter 9 objective=169.60  rel=0.0082"
       ]
      },
      {
       "output_type": "stream",
       "stream": "stdout",
       "text": [
        "\nIter 10 objective=171.00  rel=0.0081"
       ]
      },
      {
       "output_type": "stream",
       "stream": "stdout",
       "text": [
        "\nIter 11 objective=169.60  rel=0.0082\nIter 12 objective=171.00  rel=0.0081"
       ]
      },
      {
       "output_type": "stream",
       "stream": "stdout",
       "text": [
        "\nIter 13 objective=169.60  rel=0.0082\nIter 14 objective=171.00  rel=0.0081"
       ]
      },
      {
       "output_type": "stream",
       "stream": "stdout",
       "text": [
        "\nIter 15 objective=169.60  rel=0.0082\nIter 16 objective=171.00  rel=0.0081"
       ]
      },
      {
       "output_type": "stream",
       "stream": "stdout",
       "text": [
        "\nIter 17 objective=169.60  rel=0.0082\nIter 18 objective=171.00  rel=0.0081"
       ]
      },
      {
       "output_type": "stream",
       "stream": "stdout",
       "text": [
        "\nIter 19 objective=169.60  rel=0.0082\nIter 20 objective=171.00  rel=0.0081"
       ]
      },
      {
       "output_type": "stream",
       "stream": "stdout",
       "text": [
        "\nIter 21 objective=169.60  rel=0.0082\nIter 22 objective=171.00  rel=0.0081"
       ]
      },
      {
       "output_type": "stream",
       "stream": "stdout",
       "text": [
        "\nIter 23 objective=169.60  rel=0.0082\nIter 24 objective=171.00  rel=0.0081"
       ]
      },
      {
       "output_type": "stream",
       "stream": "stdout",
       "text": [
        "\nIter 25 objective=169.60  rel=0.0082\nIter 26 objective=171.00  rel=0.0081"
       ]
      },
      {
       "output_type": "stream",
       "stream": "stdout",
       "text": [
        "\nIter 27 objective=169.60  rel=0.0082\nIter 28 objective=171.00  rel=0.0081"
       ]
      },
      {
       "output_type": "stream",
       "stream": "stdout",
       "text": [
        "\nIter 29 objective=169.60  rel=0.0082\nIter 30 objective=171.00  rel=0.0081"
       ]
      },
      {
       "output_type": "stream",
       "stream": "stdout",
       "text": [
        "\nIter 31 objective=169.60  rel=0.0082\nIter 32 objective=171.00  rel=0.0081"
       ]
      },
      {
       "output_type": "stream",
       "stream": "stdout",
       "text": [
        "\nIter 33 objective=169.60  rel=0.0082\nIter 34 objective=171.00  rel=0.0081"
       ]
      },
      {
       "output_type": "stream",
       "stream": "stdout",
       "text": [
        "\nIter 35 objective=169.60  rel=0.0082\nIter 36 objective=171.00  rel=0.0081"
       ]
      },
      {
       "output_type": "stream",
       "stream": "stdout",
       "text": [
        "\nIter 37 objective=169.60  rel=0.0082\nIter 38 objective=171.00  rel=0.0081"
       ]
      },
      {
       "output_type": "stream",
       "stream": "stdout",
       "text": [
        "\nIter 39 objective=169.60  rel=0.0082\nIter 40 objective=171.00  rel=0.0081"
       ]
      },
      {
       "output_type": "stream",
       "stream": "stdout",
       "text": [
        "\nIter 41 objective=169.60  rel=0.0082\nIter 42 objective=171.00  rel=0.0081"
       ]
      },
      {
       "output_type": "stream",
       "stream": "stdout",
       "text": [
        "\nIter 43 objective=169.60  rel=0.0082\nIter 44 objective=171.00  rel=0.0081"
       ]
      },
      {
       "output_type": "stream",
       "stream": "stdout",
       "text": [
        "\nIter 45 objective=169.60  rel=0.0082\nIter 46 objective=171.00  rel=0.0081"
       ]
      },
      {
       "output_type": "stream",
       "stream": "stdout",
       "text": [
        "\nIter 47 objective=169.60  rel=0.0082\nIter 48 objective=171.00  rel=0.0081"
       ]
      },
      {
       "output_type": "stream",
       "stream": "stdout",
       "text": [
        "\nIter 49 objective=169.60  rel=0.0082\nIter 50 objective=171.00  rel=0.0081"
       ]
      },
      {
       "output_type": "stream",
       "stream": "stdout",
       "text": [
        "\nIter 51 objective=169.60  rel=0.0082"
       ]
      },
      {
       "output_type": "stream",
       "stream": "stdout",
       "text": [
        "\nIter 52 objective=171.00  rel=0.0081"
       ]
      },
      {
       "output_type": "stream",
       "stream": "stdout",
       "text": [
        "\nIter 53 objective=169.60  rel=0.0082"
       ]
      },
      {
       "output_type": "stream",
       "stream": "stdout",
       "text": [
        "\nIter 54 objective=171.00  rel=0.0081\nIter 55 objective=169.60  rel=0.0082"
       ]
      },
      {
       "output_type": "stream",
       "stream": "stdout",
       "text": [
        "\nIter 56 objective=171.00  rel=0.0081\nIter 57 objective=169.60  rel=0.0082"
       ]
      },
      {
       "output_type": "stream",
       "stream": "stdout",
       "text": [
        "\nIter 58 objective=171.00  rel=0.0081\nIter 59 objective=169.60  rel=0.0082"
       ]
      },
      {
       "output_type": "stream",
       "stream": "stdout",
       "text": [
        "\nIter 60 objective=171.00  rel=0.0081\nIter 61 objective=169.60  rel=0.0082"
       ]
      },
      {
       "output_type": "stream",
       "stream": "stdout",
       "text": [
        "\nIter 62 objective=171.00  rel=0.0081\nIter 63 objective=169.60  rel=0.0082"
       ]
      },
      {
       "output_type": "stream",
       "stream": "stdout",
       "text": [
        "\nIter 64 objective=171.00  rel=0.0081\nIter 65 objective=169.60  rel=0.0082"
       ]
      },
      {
       "output_type": "stream",
       "stream": "stdout",
       "text": [
        "\nIter 66 objective=171.00  rel=0.0081\nIter 67 objective=169.60  rel=0.0082"
       ]
      },
      {
       "output_type": "stream",
       "stream": "stdout",
       "text": [
        "\nIter 68 objective=171.00  rel=0.0081\nIter 69 objective=169.60  rel=0.0082"
       ]
      },
      {
       "output_type": "stream",
       "stream": "stdout",
       "text": [
        "\nIter 70 objective=171.00  rel=0.0081\nIter 71 objective=169.60  rel=0.0082"
       ]
      },
      {
       "output_type": "stream",
       "stream": "stdout",
       "text": [
        "\nIter 72 objective=171.00  rel=0.0081\nIter 73 objective=169.60  rel=0.0082"
       ]
      },
      {
       "output_type": "stream",
       "stream": "stdout",
       "text": [
        "\nIter 74 objective=171.00  rel=0.0081\nIter 75 objective=169.60  rel=0.0082"
       ]
      },
      {
       "output_type": "stream",
       "stream": "stdout",
       "text": [
        "\nIter 76 objective=171.00  rel=0.0081\nIter 77 objective=169.60  rel=0.0082"
       ]
      },
      {
       "output_type": "stream",
       "stream": "stdout",
       "text": [
        "\nIter 78 objective=171.00  rel=0.0081\nIter 79 objective=169.60  rel=0.0082"
       ]
      },
      {
       "output_type": "stream",
       "stream": "stdout",
       "text": [
        "\nIter 80 objective=171.00  rel=0.0081\nIter 81 objective=169.60  rel=0.0082"
       ]
      },
      {
       "output_type": "stream",
       "stream": "stdout",
       "text": [
        "\nIter 82 objective=171.00  rel=0.0081\nIter 83 objective=169.60  rel=0.0082"
       ]
      },
      {
       "output_type": "stream",
       "stream": "stdout",
       "text": [
        "\nIter 84 objective=171.00  rel=0.0081\nIter 85 objective=169.60  rel=0.0082"
       ]
      },
      {
       "output_type": "stream",
       "stream": "stdout",
       "text": [
        "\nIter 86 objective=171.00  rel=0.0081\nIter 87 objective=169.60  rel=0.0082"
       ]
      },
      {
       "output_type": "stream",
       "stream": "stdout",
       "text": [
        "\nIter 88 objective=171.00  rel=0.0081\nIter 89 objective=169.60  rel=0.0082"
       ]
      },
      {
       "output_type": "stream",
       "stream": "stdout",
       "text": [
        "\nIter 90 objective=171.00  rel=0.0081\nIter 91 objective=169.60  rel=0.0082"
       ]
      },
      {
       "output_type": "stream",
       "stream": "stdout",
       "text": [
        "\nIter 92 objective=171.00  rel=0.0081\nIter 93 objective=169.60  rel=0.0082"
       ]
      },
      {
       "output_type": "stream",
       "stream": "stdout",
       "text": [
        "\nIter 94 objective=171.00  rel=0.0081\nIter 95 objective=169.60  rel=0.0082"
       ]
      },
      {
       "output_type": "stream",
       "stream": "stdout",
       "text": [
        "\nIter 96 objective=171.00  rel=0.0081\nIter 97 objective=169.60  rel=0.0082"
       ]
      },
      {
       "output_type": "stream",
       "stream": "stdout",
       "text": [
        "\nIter 98 objective=171.00  rel=0.0081\nIter 99 objective=169.60  rel=0.0082"
       ]
      },
      {
       "output_type": "stream",
       "stream": "stdout",
       "text": [
        "\n[1 3]\nGenerate a random solution vector for hot start.\nIter 0 objective=183.06  rel=5462837.3275\nIter 1 objective=167.29  rel=0.0942"
       ]
      },
      {
       "output_type": "stream",
       "stream": "stdout",
       "text": [
        "\nIter 2 objective=164.43  rel=0.0174\nIter 3 objective=160.27  rel=0.0260"
       ]
      },
      {
       "output_type": "stream",
       "stream": "stdout",
       "text": [
        "\nIter 4 objective=177.70  rel=0.0981\nIter 5 objective=160.38  rel=0.1080"
       ]
      },
      {
       "output_type": "stream",
       "stream": "stdout",
       "text": [
        "\nIter 6 objective=158.33  rel=0.0129\nIter 7 objective=178.29  rel=0.1120"
       ]
      },
      {
       "output_type": "stream",
       "stream": "stdout",
       "text": [
        "\nIter 8 objective=160.84  rel=0.1085\nIter 9 objective=159.37  rel=0.0092"
       ]
      },
      {
       "output_type": "stream",
       "stream": "stdout",
       "text": [
        "\nIter 10 objective=167.55  rel=0.0488\nIter 11 objective=166.22  rel=0.0080"
       ]
      },
      {
       "output_type": "stream",
       "stream": "stdout",
       "text": [
        "\nIter 12 objective=159.54  rel=0.0419\nIter 13 objective=178.35  rel=0.1054"
       ]
      },
      {
       "output_type": "stream",
       "stream": "stdout",
       "text": [
        "\nIter 14 objective=159.83  rel=0.1159\nIter 15 objective=159.99  rel=0.0010"
       ]
      },
      {
       "output_type": "stream",
       "stream": "stdout",
       "text": [
        "\nIter 16 objective=180.57  rel=0.1140\nIter 17 objective=158.99  rel=0.1357"
       ]
      },
      {
       "output_type": "stream",
       "stream": "stdout",
       "text": [
        "\nIter 18 objective=159.75  rel=0.0047\nIter 19 objective=180.57  rel=0.1153"
       ]
      },
      {
       "output_type": "stream",
       "stream": "stdout",
       "text": [
        "\nIter 20 objective=158.58  rel=0.1387\nIter 21 objective=158.81  rel=0.0015"
       ]
      },
      {
       "output_type": "stream",
       "stream": "stdout",
       "text": [
        "\nIter 22 objective=180.42  rel=0.1198\nIter 23 objective=158.68  rel=0.1370"
       ]
      },
      {
       "output_type": "stream",
       "stream": "stdout",
       "text": [
        "\nIter 24 objective=169.95  rel=0.0663"
       ]
      },
      {
       "output_type": "stream",
       "stream": "stdout",
       "text": [
        "\nIter 25 objective=179.81  rel=0.0549\nIter 26 objective=162.33  rel=0.1077"
       ]
      },
      {
       "output_type": "stream",
       "stream": "stdout",
       "text": [
        "\nIter 27 objective=159.60  rel=0.0171\nIter 28 objective=175.92  rel=0.0927"
       ]
      },
      {
       "output_type": "stream",
       "stream": "stdout",
       "text": [
        "\nIter 29 objective=161.65  rel=0.0883\nIter 30 objective=158.09  rel=0.0225"
       ]
      },
      {
       "output_type": "stream",
       "stream": "stdout",
       "text": [
        "\nIter 31 objective=178.30  rel=0.1133\nIter 32 objective=160.92  rel=0.1080"
       ]
      },
      {
       "output_type": "stream",
       "stream": "stdout",
       "text": [
        "\nIter 33 objective=158.53  rel=0.0151\nIter 34 objective=173.23  rel=0.0848"
       ]
      },
      {
       "output_type": "stream",
       "stream": "stdout",
       "text": [
        "\nIter 35 objective=161.16  rel=0.0749\nIter 36 objective=159.57  rel=0.0100"
       ]
      },
      {
       "output_type": "stream",
       "stream": "stdout",
       "text": [
        "\nIter 37 objective=180.91  rel=0.1180"
       ]
      },
      {
       "output_type": "stream",
       "stream": "stdout",
       "text": [
        "\nIter 38 objective=162.83  rel=0.1111\nIter 39 objective=159.31  rel=0.0221"
       ]
      },
      {
       "output_type": "stream",
       "stream": "stdout",
       "text": [
        "\nIter 40 objective=177.60  rel=0.1030\nIter 41 objective=161.62  rel=0.0989"
       ]
      },
      {
       "output_type": "stream",
       "stream": "stdout",
       "text": [
        "\nIter 42 objective=159.87  rel=0.0109\nIter 43 objective=165.21  rel=0.0323"
       ]
      },
      {
       "output_type": "stream",
       "stream": "stdout",
       "text": [
        "\nIter 44 objective=177.08  rel=0.0670"
       ]
      },
      {
       "output_type": "stream",
       "stream": "stdout",
       "text": [
        "\nIter 45 objective=158.85  rel=0.1148\nIter 46 objective=167.17  rel=0.0498"
       ]
      },
      {
       "output_type": "stream",
       "stream": "stdout",
       "text": [
        "\nIter 47 objective=174.87  rel=0.0440\nIter 48 objective=158.91  rel=0.1004"
       ]
      },
      {
       "output_type": "stream",
       "stream": "stdout",
       "text": [
        "\nIter 49 objective=170.72  rel=0.0692\nIter 50 objective=178.11  rel=0.0415"
       ]
      },
      {
       "output_type": "stream",
       "stream": "stdout",
       "text": [
        "\nIter 51 objective=166.56  rel=0.0693\nIter 52 objective=159.80  rel=0.0423"
       ]
      },
      {
       "output_type": "stream",
       "stream": "stdout",
       "text": [
        "\nIter 53 objective=174.57  rel=0.0846\nIter 54 objective=169.72  rel=0.0286"
       ]
      },
      {
       "output_type": "stream",
       "stream": "stdout",
       "text": [
        "\nIter 55 objective=158.69  rel=0.0695\nIter 56 objective=178.69  rel=0.1119"
       ]
      },
      {
       "output_type": "stream",
       "stream": "stdout",
       "text": [
        "\nIter 57 objective=168.21  rel=0.0623"
       ]
      },
      {
       "output_type": "stream",
       "stream": "stdout",
       "text": [
        "\nIter 58 objective=162.11  rel=0.0376\nIter 59 objective=160.80  rel=0.0081"
       ]
      },
      {
       "output_type": "stream",
       "stream": "stdout",
       "text": [
        "\nIter 60 objective=177.69  rel=0.0951"
       ]
      },
      {
       "output_type": "stream",
       "stream": "stdout",
       "text": [
        "\nIter 61 objective=160.38  rel=0.1080"
       ]
      },
      {
       "output_type": "stream",
       "stream": "stdout",
       "text": [
        "\nIter 62 objective=158.33  rel=0.0129"
       ]
      },
      {
       "output_type": "stream",
       "stream": "stdout",
       "text": [
        "\nIter 63 objective=178.29  rel=0.1120"
       ]
      },
      {
       "output_type": "stream",
       "stream": "stdout",
       "text": [
        "\nIter 64 objective=160.84  rel=0.1085\nIter 65 objective=159.37  rel=0.0092"
       ]
      },
      {
       "output_type": "stream",
       "stream": "stdout",
       "text": [
        "\nIter 66 objective=167.55  rel=0.0488"
       ]
      },
      {
       "output_type": "stream",
       "stream": "stdout",
       "text": [
        "\nIter 67 objective=166.22  rel=0.0080\nIter 68 objective=159.54  rel=0.0419"
       ]
      },
      {
       "output_type": "stream",
       "stream": "stdout",
       "text": [
        "\nIter 69 objective=178.35  rel=0.1054\nIter 70 objective=159.83  rel=0.1159"
       ]
      },
      {
       "output_type": "stream",
       "stream": "stdout",
       "text": [
        "\nIter 71 objective=159.99  rel=0.0010\nIter 72 objective=180.57  rel=0.1140"
       ]
      },
      {
       "output_type": "stream",
       "stream": "stdout",
       "text": [
        "\nIter 73 objective=158.99  rel=0.1357\nIter 74 objective=159.75  rel=0.0047"
       ]
      },
      {
       "output_type": "stream",
       "stream": "stdout",
       "text": [
        "\nIter 75 objective=180.57  rel=0.1153\nIter 76 objective=158.58  rel=0.1387"
       ]
      },
      {
       "output_type": "stream",
       "stream": "stdout",
       "text": [
        "\nIter 77 objective=158.81  rel=0.0015\nIter 78 objective=180.42  rel=0.1198"
       ]
      },
      {
       "output_type": "stream",
       "stream": "stdout",
       "text": [
        "\nIter 79 objective=158.68  rel=0.1370\nIter 80 objective=169.95  rel=0.0663"
       ]
      },
      {
       "output_type": "stream",
       "stream": "stdout",
       "text": [
        "\nIter 81 objective=179.81  rel=0.0549\nIter 82 objective=162.33  rel=0.1077"
       ]
      },
      {
       "output_type": "stream",
       "stream": "stdout",
       "text": [
        "\nIter 83 objective=159.60  rel=0.0171\nIter 84 objective=175.92  rel=0.0927"
       ]
      },
      {
       "output_type": "stream",
       "stream": "stdout",
       "text": [
        "\nIter 85 objective=161.65  rel=0.0883\nIter 86 objective=158.09  rel=0.0225"
       ]
      },
      {
       "output_type": "stream",
       "stream": "stdout",
       "text": [
        "\nIter 87 objective=178.30  rel=0.1133\nIter 88 objective=160.92  rel=0.1080"
       ]
      },
      {
       "output_type": "stream",
       "stream": "stdout",
       "text": [
        "\nIter 89 objective=158.53  rel=0.0151\nIter 90 objective=173.23  rel=0.0848"
       ]
      },
      {
       "output_type": "stream",
       "stream": "stdout",
       "text": [
        "\nIter 91 objective=161.16  rel=0.0749\nIter 92 objective=159.57  rel=0.0100"
       ]
      },
      {
       "output_type": "stream",
       "stream": "stdout",
       "text": [
        "\nIter 93 objective=180.91  rel=0.1180\nIter 94 objective=162.83  rel=0.1111"
       ]
      },
      {
       "output_type": "stream",
       "stream": "stdout",
       "text": [
        "\nIter 95 objective=159.31  rel=0.0221"
       ]
      },
      {
       "output_type": "stream",
       "stream": "stdout",
       "text": [
        "\nIter 96 objective=177.60  rel=0.1030\nIter 97 objective=161.62  rel=0.0989"
       ]
      },
      {
       "output_type": "stream",
       "stream": "stdout",
       "text": [
        "\nIter 98 objective=159.87  rel=0.0109\nIter 99 objective=165.21  rel=0.0323"
       ]
      },
      {
       "output_type": "stream",
       "stream": "stdout",
       "text": [
        "\n[0 1 2]\nGenerate a random solution vector for hot start.\nIter 0 objective=172.99  rel=5780717.2918\nIter 1 objective=168.83  rel=0.0246"
       ]
      },
      {
       "output_type": "stream",
       "stream": "stdout",
       "text": [
        "\nIter 2 objective=171.82  rel=0.0174\nIter 3 objective=169.57  rel=0.0133"
       ]
      },
      {
       "output_type": "stream",
       "stream": "stdout",
       "text": [
        "\nIter 4 objective=171.22  rel=0.0096\nIter 5 objective=169.60  rel=0.0095"
       ]
      },
      {
       "output_type": "stream",
       "stream": "stdout",
       "text": [
        "\nIter 6 objective=171.00  rel=0.0081\nIter 7 objective=169.60  rel=0.0082"
       ]
      },
      {
       "output_type": "stream",
       "stream": "stdout",
       "text": [
        "\nIter 8 objective=171.00  rel=0.0081\nIter 9 objective=169.60  rel=0.0082"
       ]
      },
      {
       "output_type": "stream",
       "stream": "stdout",
       "text": [
        "\nIter 10 objective=171.00  rel=0.0081\nIter 11 objective=169.60  rel=0.0082"
       ]
      },
      {
       "output_type": "stream",
       "stream": "stdout",
       "text": [
        "\nIter 12 objective=171.00  rel=0.0081\nIter 13 objective=169.60  rel=0.0082"
       ]
      },
      {
       "output_type": "stream",
       "stream": "stdout",
       "text": [
        "\nIter 14 objective=171.00  rel=0.0081\nIter 15 objective=169.60  rel=0.0082"
       ]
      },
      {
       "output_type": "stream",
       "stream": "stdout",
       "text": [
        "\nIter 16 objective=171.00  rel=0.0081\nIter 17 objective=169.60  rel=0.0082"
       ]
      },
      {
       "output_type": "stream",
       "stream": "stdout",
       "text": [
        "\nIter 18 objective=171.00  rel=0.0081\nIter 19 objective=169.60  rel=0.0082"
       ]
      },
      {
       "output_type": "stream",
       "stream": "stdout",
       "text": [
        "\nIter 20 objective=171.00  rel=0.0081\nIter 21 objective=169.60  rel=0.0082"
       ]
      },
      {
       "output_type": "stream",
       "stream": "stdout",
       "text": [
        "\nIter 22 objective=171.00  rel=0.0081\nIter 23 objective=169.60  rel=0.0082"
       ]
      },
      {
       "output_type": "stream",
       "stream": "stdout",
       "text": [
        "\nIter 24 objective=171.00  rel=0.0081\nIter 25 objective=169.60  rel=0.0082"
       ]
      },
      {
       "output_type": "stream",
       "stream": "stdout",
       "text": [
        "\nIter 26 objective=171.00  rel=0.0081\nIter 27 objective=169.60  rel=0.0082"
       ]
      },
      {
       "output_type": "stream",
       "stream": "stdout",
       "text": [
        "\nIter 28 objective=171.00  rel=0.0081\nIter 29 objective=169.60  rel=0.0082"
       ]
      },
      {
       "output_type": "stream",
       "stream": "stdout",
       "text": [
        "\nIter 30 objective=171.00  rel=0.0081\nIter 31 objective=169.60  rel=0.0082"
       ]
      },
      {
       "output_type": "stream",
       "stream": "stdout",
       "text": [
        "\nIter 32 objective=171.00  rel=0.0081\nIter 33 objective=169.60  rel=0.0082"
       ]
      },
      {
       "output_type": "stream",
       "stream": "stdout",
       "text": [
        "\nIter 34 objective=171.00  rel=0.0081\nIter 35 objective=169.60  rel=0.0082"
       ]
      },
      {
       "output_type": "stream",
       "stream": "stdout",
       "text": [
        "\nIter 36 objective=171.00  rel=0.0081\nIter 37 objective=169.60  rel=0.0082"
       ]
      },
      {
       "output_type": "stream",
       "stream": "stdout",
       "text": [
        "\nIter 38 objective=171.00  rel=0.0081\nIter 39 objective=169.60  rel=0.0082"
       ]
      },
      {
       "output_type": "stream",
       "stream": "stdout",
       "text": [
        "\nIter 40 objective=171.00  rel=0.0081\nIter 41 objective=169.60  rel=0.0082"
       ]
      },
      {
       "output_type": "stream",
       "stream": "stdout",
       "text": [
        "\nIter 42 objective=171.00  rel=0.0081\nIter 43 objective=169.60  rel=0.0082"
       ]
      },
      {
       "output_type": "stream",
       "stream": "stdout",
       "text": [
        "\nIter 44 objective=171.00  rel=0.0081\nIter 45 objective=169.60  rel=0.0082"
       ]
      },
      {
       "output_type": "stream",
       "stream": "stdout",
       "text": [
        "\nIter 46 objective=171.00  rel=0.0081\nIter 47 objective=169.60  rel=0.0082"
       ]
      },
      {
       "output_type": "stream",
       "stream": "stdout",
       "text": [
        "\nIter 48 objective=171.00  rel=0.0081\nIter 49 objective=169.60  rel=0.0082"
       ]
      },
      {
       "output_type": "stream",
       "stream": "stdout",
       "text": [
        "\nIter 50 objective=171.00  rel=0.0081\nIter 51 objective=169.60  rel=0.0082"
       ]
      },
      {
       "output_type": "stream",
       "stream": "stdout",
       "text": [
        "\nIter 52 objective=171.00  rel=0.0081\nIter 53 objective=169.60  rel=0.0082"
       ]
      },
      {
       "output_type": "stream",
       "stream": "stdout",
       "text": [
        "\nIter 54 objective=171.00  rel=0.0081\nIter 55 objective=169.60  rel=0.0082"
       ]
      },
      {
       "output_type": "stream",
       "stream": "stdout",
       "text": [
        "\nIter 56 objective=171.00  rel=0.0081\nIter 57 objective=169.60  rel=0.0082"
       ]
      },
      {
       "output_type": "stream",
       "stream": "stdout",
       "text": [
        "\nIter 58 objective=171.00  rel=0.0081\nIter 59 objective=169.60  rel=0.0082"
       ]
      },
      {
       "output_type": "stream",
       "stream": "stdout",
       "text": [
        "\nIter 60 objective=171.00  rel=0.0081\nIter 61 objective=169.60  rel=0.0082"
       ]
      },
      {
       "output_type": "stream",
       "stream": "stdout",
       "text": [
        "\nIter 62 objective=171.00  rel=0.0081\nIter 63 objective=169.60  rel=0.0082"
       ]
      },
      {
       "output_type": "stream",
       "stream": "stdout",
       "text": [
        "\nIter 64 objective=171.00  rel=0.0081\nIter 65 objective=169.60  rel=0.0082"
       ]
      },
      {
       "output_type": "stream",
       "stream": "stdout",
       "text": [
        "\nIter 66 objective=171.00  rel=0.0081\nIter 67 objective=169.60  rel=0.0082"
       ]
      },
      {
       "output_type": "stream",
       "stream": "stdout",
       "text": [
        "\nIter 68 objective=171.00  rel=0.0081\nIter 69 objective=169.60  rel=0.0082"
       ]
      },
      {
       "output_type": "stream",
       "stream": "stdout",
       "text": [
        "\nIter 70 objective=171.00  rel=0.0081\nIter 71 objective=169.60  rel=0.0082"
       ]
      },
      {
       "output_type": "stream",
       "stream": "stdout",
       "text": [
        "\nIter 72 objective=171.00  rel=0.0081\nIter 73 objective=169.60  rel=0.0082"
       ]
      },
      {
       "output_type": "stream",
       "stream": "stdout",
       "text": [
        "\nIter 74 objective=171.00  rel=0.0081\nIter 75 objective=169.60  rel=0.0082"
       ]
      },
      {
       "output_type": "stream",
       "stream": "stdout",
       "text": [
        "\nIter 76 objective=171.00  rel=0.0081\nIter 77 objective=169.60  rel=0.0082"
       ]
      },
      {
       "output_type": "stream",
       "stream": "stdout",
       "text": [
        "\nIter 78 objective=171.00  rel=0.0081\nIter 79 objective=169.60  rel=0.0082"
       ]
      },
      {
       "output_type": "stream",
       "stream": "stdout",
       "text": [
        "\nIter 80 objective=171.00  rel=0.0081\nIter 81 objective=169.60  rel=0.0082"
       ]
      },
      {
       "output_type": "stream",
       "stream": "stdout",
       "text": [
        "\nIter 82 objective=171.00  rel=0.0081\nIter 83 objective=169.60  rel=0.0082"
       ]
      },
      {
       "output_type": "stream",
       "stream": "stdout",
       "text": [
        "\nIter 84 objective=171.00  rel=0.0081\nIter 85 objective=169.60  rel=0.0082"
       ]
      },
      {
       "output_type": "stream",
       "stream": "stdout",
       "text": [
        "\nIter 86 objective=171.00  rel=0.0081\nIter 87 objective=169.60  rel=0.0082"
       ]
      },
      {
       "output_type": "stream",
       "stream": "stdout",
       "text": [
        "\nIter 88 objective=171.00  rel=0.0081\nIter 89 objective=169.60  rel=0.0082"
       ]
      },
      {
       "output_type": "stream",
       "stream": "stdout",
       "text": [
        "\nIter 90 objective=171.00  rel=0.0081\nIter 91 objective=169.60  rel=0.0082"
       ]
      },
      {
       "output_type": "stream",
       "stream": "stdout",
       "text": [
        "\nIter 92 objective=171.00  rel=0.0081\nIter 93 objective=169.60  rel=0.0082"
       ]
      },
      {
       "output_type": "stream",
       "stream": "stdout",
       "text": [
        "\nIter 94 objective=171.00  rel=0.0081\nIter 95 objective=169.60  rel=0.0082"
       ]
      },
      {
       "output_type": "stream",
       "stream": "stdout",
       "text": [
        "\nIter 96 objective=171.00  rel=0.0081\nIter 97 objective=169.60  rel=0.0082"
       ]
      },
      {
       "output_type": "stream",
       "stream": "stdout",
       "text": [
        "\nIter 98 objective=171.00  rel=0.0081\nIter 99 objective=169.60  rel=0.0082"
       ]
      },
      {
       "output_type": "stream",
       "stream": "stdout",
       "text": [
        "\n[0 1]\nGenerate a random solution vector for hot start.\nIter 0 objective=157.49  rel=6349614.1707\nIter 1 objective=174.60  rel=0.0980"
       ]
      },
      {
       "output_type": "stream",
       "stream": "stdout",
       "text": [
        "\nIter 2 objective=177.74  rel=0.0177\nIter 3 objective=158.25  rel=0.1232"
       ]
      },
      {
       "output_type": "stream",
       "stream": "stdout",
       "text": [
        "\nIter 4 objective=159.13  rel=0.0055\nIter 5 objective=177.94  rel=0.1057"
       ]
      },
      {
       "output_type": "stream",
       "stream": "stdout",
       "text": [
        "\nIter 6 objective=157.96  rel=0.1265\nIter 7 objective=171.71  rel=0.0801"
       ]
      },
      {
       "output_type": "stream",
       "stream": "stdout",
       "text": [
        "\nIter 8 objective=176.96  rel=0.0296\nIter 9 objective=163.09  rel=0.0850"
       ]
      },
      {
       "output_type": "stream",
       "stream": "stdout",
       "text": [
        "\nIter 10 objective=159.47  rel=0.0227\nIter 11 objective=177.60  rel=0.1021"
       ]
      },
      {
       "output_type": "stream",
       "stream": "stdout",
       "text": [
        "\nIter 12 objective=161.62  rel=0.0989"
       ]
      },
      {
       "output_type": "stream",
       "stream": "stdout",
       "text": [
        "\nIter 13 objective=159.87  rel=0.0109"
       ]
      },
      {
       "output_type": "stream",
       "stream": "stdout",
       "text": [
        "\nIter 14 objective=165.21  rel=0.0323"
       ]
      },
      {
       "output_type": "stream",
       "stream": "stdout",
       "text": [
        "\nIter 15 objective=177.08  rel=0.0670\nIter 16 objective=158.85  rel=0.1148"
       ]
      },
      {
       "output_type": "stream",
       "stream": "stdout",
       "text": [
        "\nIter 17 objective=167.17  rel=0.0498\nIter 18 objective=174.87  rel=0.0440"
       ]
      },
      {
       "output_type": "stream",
       "stream": "stdout",
       "text": [
        "\nIter 19 objective=158.91  rel=0.1004\nIter 20 objective=170.72  rel=0.0692"
       ]
      },
      {
       "output_type": "stream",
       "stream": "stdout",
       "text": [
        "\nIter 21 objective=178.11  rel=0.0415\nIter 22 objective=166.56  rel=0.0693"
       ]
      },
      {
       "output_type": "stream",
       "stream": "stdout",
       "text": [
        "\nIter 23 objective=159.80  rel=0.0423\nIter 24 objective=174.57  rel=0.0846"
       ]
      },
      {
       "output_type": "stream",
       "stream": "stdout",
       "text": [
        "\nIter 25 objective=169.72  rel=0.0286\nIter 26 objective=158.69  rel=0.0695"
       ]
      },
      {
       "output_type": "stream",
       "stream": "stdout",
       "text": [
        "\nIter 27 objective=178.69  rel=0.1119\nIter 28 objective=168.21  rel=0.0623"
       ]
      },
      {
       "output_type": "stream",
       "stream": "stdout",
       "text": [
        "\nIter 29 objective=162.11  rel=0.0376\nIter 30 objective=160.80  rel=0.0081"
       ]
      },
      {
       "output_type": "stream",
       "stream": "stdout",
       "text": [
        "\nIter 31 objective=177.69  rel=0.0951\nIter 32 objective=160.38  rel=0.1080"
       ]
      },
      {
       "output_type": "stream",
       "stream": "stdout",
       "text": [
        "\nIter 33 objective=158.33  rel=0.0129"
       ]
      },
      {
       "output_type": "stream",
       "stream": "stdout",
       "text": [
        "\nIter 34 objective=178.29  rel=0.1120\nIter 35 objective=160.84  rel=0.1085"
       ]
      },
      {
       "output_type": "stream",
       "stream": "stdout",
       "text": [
        "\nIter 36 objective=159.37  rel=0.0092\nIter 37 objective=167.55  rel=0.0488"
       ]
      },
      {
       "output_type": "stream",
       "stream": "stdout",
       "text": [
        "\nIter 38 objective=166.22  rel=0.0080\nIter 39 objective=159.54  rel=0.0419"
       ]
      },
      {
       "output_type": "stream",
       "stream": "stdout",
       "text": [
        "\nIter 40 objective=178.35  rel=0.1054\nIter 41 objective=159.83  rel=0.1159"
       ]
      },
      {
       "output_type": "stream",
       "stream": "stdout",
       "text": [
        "\nIter 42 objective=159.99  rel=0.0010\nIter 43 objective=180.57  rel=0.1140"
       ]
      },
      {
       "output_type": "stream",
       "stream": "stdout",
       "text": [
        "\nIter 44 objective=158.99  rel=0.1357"
       ]
      },
      {
       "output_type": "stream",
       "stream": "stdout",
       "text": [
        "\nIter 45 objective=159.75  rel=0.0047"
       ]
      },
      {
       "output_type": "stream",
       "stream": "stdout",
       "text": [
        "\nIter 46 objective=180.57  rel=0.1153"
       ]
      },
      {
       "output_type": "stream",
       "stream": "stdout",
       "text": [
        "\nIter 47 objective=158.58  rel=0.1387"
       ]
      },
      {
       "output_type": "stream",
       "stream": "stdout",
       "text": [
        "\nIter 48 objective=158.81  rel=0.0015"
       ]
      },
      {
       "output_type": "stream",
       "stream": "stdout",
       "text": [
        "\nIter 49 objective=180.42  rel=0.1198\nIter 50 objective=158.68  rel=0.1370"
       ]
      },
      {
       "output_type": "stream",
       "stream": "stdout",
       "text": [
        "\nIter 51 objective=169.95  rel=0.0663"
       ]
      },
      {
       "output_type": "stream",
       "stream": "stdout",
       "text": [
        "\nIter 52 objective=179.81  rel=0.0549\nIter 53 objective=162.33  rel=0.1077"
       ]
      },
      {
       "output_type": "stream",
       "stream": "stdout",
       "text": [
        "\nIter 54 objective=159.60  rel=0.0171\nIter 55 objective=175.92  rel=0.0927"
       ]
      },
      {
       "output_type": "stream",
       "stream": "stdout",
       "text": [
        "\nIter 56 objective=161.65  rel=0.0883\nIter 57 objective=158.09  rel=0.0225"
       ]
      },
      {
       "output_type": "stream",
       "stream": "stdout",
       "text": [
        "\nIter 58 objective=178.30  rel=0.1133"
       ]
      },
      {
       "output_type": "stream",
       "stream": "stdout",
       "text": [
        "\nIter 59 objective=160.92  rel=0.1080"
       ]
      },
      {
       "output_type": "stream",
       "stream": "stdout",
       "text": [
        "\nIter 60 objective=158.53  rel=0.0151"
       ]
      },
      {
       "output_type": "stream",
       "stream": "stdout",
       "text": [
        "\nIter 61 objective=173.23  rel=0.0848\nIter 62 objective=161.16  rel=0.0749"
       ]
      },
      {
       "output_type": "stream",
       "stream": "stdout",
       "text": [
        "\nIter 63 objective=159.57  rel=0.0100\nIter 64 objective=180.91  rel=0.1180"
       ]
      },
      {
       "output_type": "stream",
       "stream": "stdout",
       "text": [
        "\nIter 65 objective=162.83  rel=0.1111"
       ]
      },
      {
       "output_type": "stream",
       "stream": "stdout",
       "text": [
        "\nIter 66 objective=159.31  rel=0.0221"
       ]
      },
      {
       "output_type": "stream",
       "stream": "stdout",
       "text": [
        "\nIter 67 objective=177.60  rel=0.1030"
       ]
      },
      {
       "output_type": "stream",
       "stream": "stdout",
       "text": [
        "\nIter 68 objective=161.62  rel=0.0989\nIter 69 objective=159.87  rel=0.0109"
       ]
      },
      {
       "output_type": "stream",
       "stream": "stdout",
       "text": [
        "\nIter 70 objective=165.21  rel=0.0323"
       ]
      },
      {
       "output_type": "stream",
       "stream": "stdout",
       "text": [
        "\nIter 71 objective=177.08  rel=0.0670"
       ]
      },
      {
       "output_type": "stream",
       "stream": "stdout",
       "text": [
        "\nIter 72 objective=158.85  rel=0.1148"
       ]
      },
      {
       "output_type": "stream",
       "stream": "stdout",
       "text": [
        "\nIter 73 objective=167.17  rel=0.0498"
       ]
      },
      {
       "output_type": "stream",
       "stream": "stdout",
       "text": [
        "\nIter 74 objective=174.87  rel=0.0440"
       ]
      },
      {
       "output_type": "stream",
       "stream": "stdout",
       "text": [
        "\nIter 75 objective=158.91  rel=0.1004"
       ]
      },
      {
       "output_type": "stream",
       "stream": "stdout",
       "text": [
        "\nIter 76 objective=170.72  rel=0.0692"
       ]
      },
      {
       "output_type": "stream",
       "stream": "stdout",
       "text": [
        "\nIter 77 objective=178.11  rel=0.0415"
       ]
      },
      {
       "output_type": "stream",
       "stream": "stdout",
       "text": [
        "\nIter 78 objective=166.56  rel=0.0693"
       ]
      },
      {
       "output_type": "stream",
       "stream": "stdout",
       "text": [
        "\nIter 79 objective=159.80  rel=0.0423"
       ]
      },
      {
       "output_type": "stream",
       "stream": "stdout",
       "text": [
        "\nIter 80 objective=174.57  rel=0.0846"
       ]
      },
      {
       "output_type": "stream",
       "stream": "stdout",
       "text": [
        "\nIter 81 objective=169.72  rel=0.0286"
       ]
      },
      {
       "output_type": "stream",
       "stream": "stdout",
       "text": [
        "\nIter 82 objective=158.69  rel=0.0695"
       ]
      },
      {
       "output_type": "stream",
       "stream": "stdout",
       "text": [
        "\nIter 83 objective=178.69  rel=0.1119"
       ]
      },
      {
       "output_type": "stream",
       "stream": "stdout",
       "text": [
        "\nIter 84 objective=168.21  rel=0.0623"
       ]
      },
      {
       "output_type": "stream",
       "stream": "stdout",
       "text": [
        "\nIter 85 objective=162.11  rel=0.0376"
       ]
      },
      {
       "output_type": "stream",
       "stream": "stdout",
       "text": [
        "\nIter 86 objective=160.80  rel=0.0081"
       ]
      },
      {
       "output_type": "stream",
       "stream": "stdout",
       "text": [
        "\nIter 87 objective=177.69  rel=0.0951"
       ]
      },
      {
       "output_type": "stream",
       "stream": "stdout",
       "text": [
        "\nIter 88 objective=160.38  rel=0.1080\nIter 89 objective=158.33  rel=0.0129"
       ]
      },
      {
       "output_type": "stream",
       "stream": "stdout",
       "text": [
        "\nIter 90 objective=178.29  rel=0.1120\nIter 91 objective=160.84  rel=0.1085"
       ]
      },
      {
       "output_type": "stream",
       "stream": "stdout",
       "text": [
        "\nIter 92 objective=159.37  rel=0.0092\nIter 93 objective=167.55  rel=0.0488"
       ]
      },
      {
       "output_type": "stream",
       "stream": "stdout",
       "text": [
        "\nIter 94 objective=166.22  rel=0.0080\nIter 95 objective=159.54  rel=0.0419"
       ]
      },
      {
       "output_type": "stream",
       "stream": "stdout",
       "text": [
        "\nIter 96 objective=178.35  rel=0.1054\nIter 97 objective=159.83  rel=0.1159"
       ]
      },
      {
       "output_type": "stream",
       "stream": "stdout",
       "text": [
        "\nIter 98 objective=159.99  rel=0.0010\nIter 99 objective=180.57  rel=0.1140"
       ]
      },
      {
       "output_type": "stream",
       "stream": "stdout",
       "text": [
        "\n[1 2 3]\nGenerate a random solution vector for hot start.\nIter 0 objective=184.32  rel=5425267.7569"
       ]
      },
      {
       "output_type": "stream",
       "stream": "stdout",
       "text": [
        "\nIter 1 objective=169.43  rel=0.0879"
       ]
      },
      {
       "output_type": "stream",
       "stream": "stdout",
       "text": [
        "\nIter 2 objective=170.95  rel=0.0089"
       ]
      },
      {
       "output_type": "stream",
       "stream": "stdout",
       "text": [
        "\nIter 3 objective=172.26  rel=0.0076"
       ]
      },
      {
       "output_type": "stream",
       "stream": "stdout",
       "text": [
        "\nIter 4 objective=169.57  rel=0.0158"
       ]
      },
      {
       "output_type": "stream",
       "stream": "stdout",
       "text": [
        "\nIter 5 objective=171.22  rel=0.0096"
       ]
      },
      {
       "output_type": "stream",
       "stream": "stdout",
       "text": [
        "\nIter 6 objective=169.60  rel=0.0095"
       ]
      },
      {
       "output_type": "stream",
       "stream": "stdout",
       "text": [
        "\nIter 7 objective=171.00  rel=0.0081"
       ]
      },
      {
       "output_type": "stream",
       "stream": "stdout",
       "text": [
        "\nIter 8 objective=169.60  rel=0.0082"
       ]
      },
      {
       "output_type": "stream",
       "stream": "stdout",
       "text": [
        "\nIter 9 objective=171.00  rel=0.0081"
       ]
      },
      {
       "output_type": "stream",
       "stream": "stdout",
       "text": [
        "\nIter 10 objective=169.60  rel=0.0082"
       ]
      },
      {
       "output_type": "stream",
       "stream": "stdout",
       "text": [
        "\nIter 11 objective=171.00  rel=0.0081"
       ]
      },
      {
       "output_type": "stream",
       "stream": "stdout",
       "text": [
        "\nIter 12 objective=169.60  rel=0.0082"
       ]
      },
      {
       "output_type": "stream",
       "stream": "stdout",
       "text": [
        "\nIter 13 objective=171.00  rel=0.0081"
       ]
      },
      {
       "output_type": "stream",
       "stream": "stdout",
       "text": [
        "\nIter 14 objective=169.60  rel=0.0082"
       ]
      },
      {
       "output_type": "stream",
       "stream": "stdout",
       "text": [
        "\nIter 15 objective=171.00  rel=0.0081"
       ]
      },
      {
       "output_type": "stream",
       "stream": "stdout",
       "text": [
        "\nIter 16 objective=169.60  rel=0.0082"
       ]
      },
      {
       "output_type": "stream",
       "stream": "stdout",
       "text": [
        "\nIter 17 objective=171.00  rel=0.0081\nIter 18 objective=169.60  rel=0.0082"
       ]
      },
      {
       "output_type": "stream",
       "stream": "stdout",
       "text": [
        "\nIter 19 objective=171.00  rel=0.0081\nIter 20 objective=169.60  rel=0.0082"
       ]
      },
      {
       "output_type": "stream",
       "stream": "stdout",
       "text": [
        "\nIter 21 objective=171.00  rel=0.0081\nIter 22 objective=169.60  rel=0.0082"
       ]
      },
      {
       "output_type": "stream",
       "stream": "stdout",
       "text": [
        "\nIter 23 objective=171.00  rel=0.0081\nIter 24 objective=169.60  rel=0.0082"
       ]
      },
      {
       "output_type": "stream",
       "stream": "stdout",
       "text": [
        "\nIter 25 objective=171.00  rel=0.0081"
       ]
      },
      {
       "output_type": "stream",
       "stream": "stdout",
       "text": [
        "\nIter 26 objective=169.60  rel=0.0082"
       ]
      },
      {
       "output_type": "stream",
       "stream": "stdout",
       "text": [
        "\nIter 27 objective=171.00  rel=0.0081"
       ]
      },
      {
       "output_type": "stream",
       "stream": "stdout",
       "text": [
        "\nIter 28 objective=169.60  rel=0.0082"
       ]
      },
      {
       "output_type": "stream",
       "stream": "stdout",
       "text": [
        "\nIter 29 objective=171.00  rel=0.0081\nIter 30 objective=169.60  rel=0.0082"
       ]
      },
      {
       "output_type": "stream",
       "stream": "stdout",
       "text": [
        "\nIter 31 objective=171.00  rel=0.0081\nIter 32 objective=169.60  rel=0.0082"
       ]
      },
      {
       "output_type": "stream",
       "stream": "stdout",
       "text": [
        "\nIter 33 objective=171.00  rel=0.0081\nIter 34 objective=169.60  rel=0.0082"
       ]
      },
      {
       "output_type": "stream",
       "stream": "stdout",
       "text": [
        "\nIter 35 objective=171.00  rel=0.0081\nIter 36 objective=169.60  rel=0.0082"
       ]
      },
      {
       "output_type": "stream",
       "stream": "stdout",
       "text": [
        "\nIter 37 objective=171.00  rel=0.0081"
       ]
      },
      {
       "output_type": "stream",
       "stream": "stdout",
       "text": [
        "\nIter 38 objective=169.60  rel=0.0082\nIter 39 objective=171.00  rel=0.0081"
       ]
      },
      {
       "output_type": "stream",
       "stream": "stdout",
       "text": [
        "\nIter 40 objective=169.60  rel=0.0082\nIter 41 objective=171.00  rel=0.0081"
       ]
      },
      {
       "output_type": "stream",
       "stream": "stdout",
       "text": [
        "\nIter 42 objective=169.60  rel=0.0082"
       ]
      },
      {
       "output_type": "stream",
       "stream": "stdout",
       "text": [
        "\nIter 43 objective=171.00  rel=0.0081\nIter 44 objective=169.60  rel=0.0082"
       ]
      },
      {
       "output_type": "stream",
       "stream": "stdout",
       "text": [
        "\nIter 45 objective=171.00  rel=0.0081\nIter 46 objective=169.60  rel=0.0082"
       ]
      },
      {
       "output_type": "stream",
       "stream": "stdout",
       "text": [
        "\nIter 47 objective=171.00  rel=0.0081\nIter 48 objective=169.60  rel=0.0082"
       ]
      },
      {
       "output_type": "stream",
       "stream": "stdout",
       "text": [
        "\nIter 49 objective=171.00  rel=0.0081\nIter 50 objective=169.60  rel=0.0082"
       ]
      },
      {
       "output_type": "stream",
       "stream": "stdout",
       "text": [
        "\nIter 51 objective=171.00  rel=0.0081\nIter 52 objective=169.60  rel=0.0082"
       ]
      },
      {
       "output_type": "stream",
       "stream": "stdout",
       "text": [
        "\nIter 53 objective=171.00  rel=0.0081\nIter 54 objective=169.60  rel=0.0082"
       ]
      },
      {
       "output_type": "stream",
       "stream": "stdout",
       "text": [
        "\nIter 55 objective=171.00  rel=0.0081\nIter 56 objective=169.60  rel=0.0082"
       ]
      },
      {
       "output_type": "stream",
       "stream": "stdout",
       "text": [
        "\nIter 57 objective=171.00  rel=0.0081\nIter 58 objective=169.60  rel=0.0082"
       ]
      },
      {
       "output_type": "stream",
       "stream": "stdout",
       "text": [
        "\nIter 59 objective=171.00  rel=0.0081\nIter 60 objective=169.60  rel=0.0082"
       ]
      },
      {
       "output_type": "stream",
       "stream": "stdout",
       "text": [
        "\nIter 61 objective=171.00  rel=0.0081"
       ]
      },
      {
       "output_type": "stream",
       "stream": "stdout",
       "text": [
        "\nIter 62 objective=169.60  rel=0.0082\nIter 63 objective=171.00  rel=0.0081"
       ]
      },
      {
       "output_type": "stream",
       "stream": "stdout",
       "text": [
        "\nIter 64 objective=169.60  rel=0.0082\nIter 65 objective=171.00  rel=0.0081"
       ]
      },
      {
       "output_type": "stream",
       "stream": "stdout",
       "text": [
        "\nIter 66 objective=169.60  rel=0.0082\nIter 67 objective=171.00  rel=0.0081"
       ]
      },
      {
       "output_type": "stream",
       "stream": "stdout",
       "text": [
        "\nIter 68 objective=169.60  rel=0.0082"
       ]
      },
      {
       "output_type": "stream",
       "stream": "stdout",
       "text": [
        "\nIter 69 objective=171.00  rel=0.0081\nIter 70 objective=169.60  rel=0.0082"
       ]
      },
      {
       "output_type": "stream",
       "stream": "stdout",
       "text": [
        "\nIter 71 objective=171.00  rel=0.0081\nIter 72 objective=169.60  rel=0.0082"
       ]
      },
      {
       "output_type": "stream",
       "stream": "stdout",
       "text": [
        "\nIter 73 objective=171.00  rel=0.0081\nIter 74 objective=169.60  rel=0.0082"
       ]
      },
      {
       "output_type": "stream",
       "stream": "stdout",
       "text": [
        "\nIter 75 objective=171.00  rel=0.0081"
       ]
      },
      {
       "output_type": "stream",
       "stream": "stdout",
       "text": [
        "\nIter 76 objective=169.60  rel=0.0082\nIter 77 objective=171.00  rel=0.0081"
       ]
      },
      {
       "output_type": "stream",
       "stream": "stdout",
       "text": [
        "\nIter 78 objective=169.60  rel=0.0082\nIter 79 objective=171.00  rel=0.0081"
       ]
      },
      {
       "output_type": "stream",
       "stream": "stdout",
       "text": [
        "\nIter 80 objective=169.60  rel=0.0082\nIter 81 objective=171.00  rel=0.0081"
       ]
      },
      {
       "output_type": "stream",
       "stream": "stdout",
       "text": [
        "\nIter 82 objective=169.60  rel=0.0082"
       ]
      },
      {
       "output_type": "stream",
       "stream": "stdout",
       "text": [
        "\nIter 83 objective=171.00  rel=0.0081\nIter 84 objective=169.60  rel=0.0082"
       ]
      },
      {
       "output_type": "stream",
       "stream": "stdout",
       "text": [
        "\nIter 85 objective=171.00  rel=0.0081"
       ]
      },
      {
       "output_type": "stream",
       "stream": "stdout",
       "text": [
        "\nIter 86 objective=169.60  rel=0.0082\nIter 87 objective=171.00  rel=0.0081"
       ]
      },
      {
       "output_type": "stream",
       "stream": "stdout",
       "text": [
        "\nIter 88 objective=169.60  rel=0.0082\nIter 89 objective=171.00  rel=0.0081"
       ]
      },
      {
       "output_type": "stream",
       "stream": "stdout",
       "text": [
        "\nIter 90 objective=169.60  rel=0.0082\nIter 91 objective=171.00  rel=0.0081"
       ]
      },
      {
       "output_type": "stream",
       "stream": "stdout",
       "text": [
        "\nIter 92 objective=169.60  rel=0.0082\nIter 93 objective=171.00  rel=0.0081"
       ]
      },
      {
       "output_type": "stream",
       "stream": "stdout",
       "text": [
        "\nIter 94 objective=169.60  rel=0.0082\nIter 95 objective=171.00  rel=0.0081"
       ]
      },
      {
       "output_type": "stream",
       "stream": "stdout",
       "text": [
        "\nIter 96 objective=169.60  rel=0.0082\nIter 97 objective=171.00  rel=0.0081"
       ]
      },
      {
       "output_type": "stream",
       "stream": "stdout",
       "text": [
        "\nIter 98 objective=169.60  rel=0.0082"
       ]
      },
      {
       "output_type": "stream",
       "stream": "stdout",
       "text": [
        "\nIter 99 objective=171.00  rel=0.0081\n[1 2]\nGenerate a random solution vector for hot start.\nIter 0 objective=171.40  rel=5834382.3225"
       ]
      },
      {
       "output_type": "stream",
       "stream": "stdout",
       "text": [
        "\nIter 1 objective=170.95  rel=0.0026"
       ]
      },
      {
       "output_type": "stream",
       "stream": "stdout",
       "text": [
        "\nIter 2 objective=172.26  rel=0.0076\nIter 3 objective=169.57  rel=0.0158"
       ]
      },
      {
       "output_type": "stream",
       "stream": "stdout",
       "text": [
        "\nIter 4 objective=171.22  rel=0.0096\nIter 5 objective=169.60  rel=0.0095"
       ]
      },
      {
       "output_type": "stream",
       "stream": "stdout",
       "text": [
        "\nIter 6 objective=171.00  rel=0.0081\nIter 7 objective=169.60  rel=0.0082"
       ]
      },
      {
       "output_type": "stream",
       "stream": "stdout",
       "text": [
        "\nIter 8 objective=171.00  rel=0.0081\nIter 9 objective=169.60  rel=0.0082"
       ]
      },
      {
       "output_type": "stream",
       "stream": "stdout",
       "text": [
        "\nIter 10 objective=171.00  rel=0.0081"
       ]
      },
      {
       "output_type": "stream",
       "stream": "stdout",
       "text": [
        "\nIter 11 objective=169.60  rel=0.0082\nIter 12 objective=171.00  rel=0.0081"
       ]
      },
      {
       "output_type": "stream",
       "stream": "stdout",
       "text": [
        "\nIter 13 objective=169.60  rel=0.0082\nIter 14 objective=171.00  rel=0.0081"
       ]
      },
      {
       "output_type": "stream",
       "stream": "stdout",
       "text": [
        "\nIter 15 objective=169.60  rel=0.0082\nIter 16 objective=171.00  rel=0.0081"
       ]
      },
      {
       "output_type": "stream",
       "stream": "stdout",
       "text": [
        "\nIter 17 objective=169.60  rel=0.0082"
       ]
      },
      {
       "output_type": "stream",
       "stream": "stdout",
       "text": [
        "\nIter 18 objective=171.00  rel=0.0081"
       ]
      },
      {
       "output_type": "stream",
       "stream": "stdout",
       "text": [
        "\nIter 19 objective=169.60  rel=0.0082"
       ]
      },
      {
       "output_type": "stream",
       "stream": "stdout",
       "text": [
        "\nIter 20 objective=171.00  rel=0.0081"
       ]
      },
      {
       "output_type": "stream",
       "stream": "stdout",
       "text": [
        "\nIter 21 objective=169.60  rel=0.0082\nIter 22 objective=171.00  rel=0.0081"
       ]
      },
      {
       "output_type": "stream",
       "stream": "stdout",
       "text": [
        "\nIter 23 objective=169.60  rel=0.0082"
       ]
      },
      {
       "output_type": "stream",
       "stream": "stdout",
       "text": [
        "\nIter 24 objective=171.00  rel=0.0081\nIter 25 objective=169.60  rel=0.0082"
       ]
      },
      {
       "output_type": "stream",
       "stream": "stdout",
       "text": [
        "\nIter 26 objective=171.00  rel=0.0081\nIter 27 objective=169.60  rel=0.0082"
       ]
      },
      {
       "output_type": "stream",
       "stream": "stdout",
       "text": [
        "\nIter 28 objective=171.00  rel=0.0081\nIter 29 objective=169.60  rel=0.0082"
       ]
      },
      {
       "output_type": "stream",
       "stream": "stdout",
       "text": [
        "\nIter 30 objective=171.00  rel=0.0081\nIter 31 objective=169.60  rel=0.0082"
       ]
      },
      {
       "output_type": "stream",
       "stream": "stdout",
       "text": [
        "\nIter 32 objective=171.00  rel=0.0081\nIter 33 objective=169.60  rel=0.0082"
       ]
      },
      {
       "output_type": "stream",
       "stream": "stdout",
       "text": [
        "\nIter 34 objective=171.00  rel=0.0081\nIter 35 objective=169.60  rel=0.0082"
       ]
      },
      {
       "output_type": "stream",
       "stream": "stdout",
       "text": [
        "\nIter 36 objective=171.00  rel=0.0081\nIter 37 objective=169.60  rel=0.0082"
       ]
      },
      {
       "output_type": "stream",
       "stream": "stdout",
       "text": [
        "\nIter 38 objective=171.00  rel=0.0081"
       ]
      },
      {
       "output_type": "stream",
       "stream": "stdout",
       "text": [
        "\nIter 39 objective=169.60  rel=0.0082"
       ]
      },
      {
       "output_type": "stream",
       "stream": "stdout",
       "text": [
        "\nIter 40 objective=171.00  rel=0.0081"
       ]
      },
      {
       "output_type": "stream",
       "stream": "stdout",
       "text": [
        "\nIter 41 objective=169.60  rel=0.0082"
       ]
      },
      {
       "output_type": "stream",
       "stream": "stdout",
       "text": [
        "\nIter 42 objective=171.00  rel=0.0081"
       ]
      },
      {
       "output_type": "stream",
       "stream": "stdout",
       "text": [
        "\nIter 43 objective=169.60  rel=0.0082"
       ]
      },
      {
       "output_type": "stream",
       "stream": "stdout",
       "text": [
        "\nIter 44 objective=171.00  rel=0.0081\nIter 45 objective=169.60  rel=0.0082"
       ]
      },
      {
       "output_type": "stream",
       "stream": "stdout",
       "text": [
        "\nIter 46 objective=171.00  rel=0.0081\nIter 47 objective=169.60  rel=0.0082"
       ]
      },
      {
       "output_type": "stream",
       "stream": "stdout",
       "text": [
        "\nIter 48 objective=171.00  rel=0.0081\nIter 49 objective=169.60  rel=0.0082"
       ]
      },
      {
       "output_type": "stream",
       "stream": "stdout",
       "text": [
        "\nIter 50 objective=171.00  rel=0.0081\nIter 51 objective=169.60  rel=0.0082"
       ]
      },
      {
       "output_type": "stream",
       "stream": "stdout",
       "text": [
        "\nIter 52 objective=171.00  rel=0.0081\nIter 53 objective=169.60  rel=0.0082"
       ]
      },
      {
       "output_type": "stream",
       "stream": "stdout",
       "text": [
        "\nIter 54 objective=171.00  rel=0.0081\nIter 55 objective=169.60  rel=0.0082"
       ]
      },
      {
       "output_type": "stream",
       "stream": "stdout",
       "text": [
        "\nIter 56 objective=171.00  rel=0.0081\nIter 57 objective=169.60  rel=0.0082"
       ]
      },
      {
       "output_type": "stream",
       "stream": "stdout",
       "text": [
        "\nIter 58 objective=171.00  rel=0.0081\nIter 59 objective=169.60  rel=0.0082"
       ]
      },
      {
       "output_type": "stream",
       "stream": "stdout",
       "text": [
        "\nIter 60 objective=171.00  rel=0.0081\nIter 61 objective=169.60  rel=0.0082"
       ]
      },
      {
       "output_type": "stream",
       "stream": "stdout",
       "text": [
        "\nIter 62 objective=171.00  rel=0.0081\nIter 63 objective=169.60  rel=0.0082"
       ]
      },
      {
       "output_type": "stream",
       "stream": "stdout",
       "text": [
        "\nIter 64 objective=171.00  rel=0.0081\nIter 65 objective=169.60  rel=0.0082"
       ]
      },
      {
       "output_type": "stream",
       "stream": "stdout",
       "text": [
        "\nIter 66 objective=171.00  rel=0.0081\nIter 67 objective=169.60  rel=0.0082"
       ]
      },
      {
       "output_type": "stream",
       "stream": "stdout",
       "text": [
        "\nIter 68 objective=171.00  rel=0.0081\nIter 69 objective=169.60  rel=0.0082"
       ]
      },
      {
       "output_type": "stream",
       "stream": "stdout",
       "text": [
        "\nIter 70 objective=171.00  rel=0.0081\nIter 71 objective=169.60  rel=0.0082"
       ]
      },
      {
       "output_type": "stream",
       "stream": "stdout",
       "text": [
        "\nIter 72 objective=171.00  rel=0.0081\nIter 73 objective=169.60  rel=0.0082"
       ]
      },
      {
       "output_type": "stream",
       "stream": "stdout",
       "text": [
        "\nIter 74 objective=171.00  rel=0.0081"
       ]
      },
      {
       "output_type": "stream",
       "stream": "stdout",
       "text": [
        "\nIter 75 objective=169.60  rel=0.0082\nIter 76 objective=171.00  rel=0.0081"
       ]
      },
      {
       "output_type": "stream",
       "stream": "stdout",
       "text": [
        "\nIter 77 objective=169.60  rel=0.0082\nIter 78 objective=171.00  rel=0.0081"
       ]
      },
      {
       "output_type": "stream",
       "stream": "stdout",
       "text": [
        "\nIter 79 objective=169.60  rel=0.0082\nIter 80 objective=171.00  rel=0.0081"
       ]
      },
      {
       "output_type": "stream",
       "stream": "stdout",
       "text": [
        "\nIter 81 objective=169.60  rel=0.0082\nIter 82 objective=171.00  rel=0.0081"
       ]
      },
      {
       "output_type": "stream",
       "stream": "stdout",
       "text": [
        "\nIter 83 objective=169.60  rel=0.0082\nIter 84 objective=171.00  rel=0.0081"
       ]
      },
      {
       "output_type": "stream",
       "stream": "stdout",
       "text": [
        "\nIter 85 objective=169.60  rel=0.0082\nIter 86 objective=171.00  rel=0.0081"
       ]
      },
      {
       "output_type": "stream",
       "stream": "stdout",
       "text": [
        "\nIter 87 objective=169.60  rel=0.0082\nIter 88 objective=171.00  rel=0.0081"
       ]
      },
      {
       "output_type": "stream",
       "stream": "stdout",
       "text": [
        "\nIter 89 objective=169.60  rel=0.0082"
       ]
      },
      {
       "output_type": "stream",
       "stream": "stdout",
       "text": [
        "\nIter 90 objective=171.00  rel=0.0081"
       ]
      },
      {
       "output_type": "stream",
       "stream": "stdout",
       "text": [
        "\nIter 91 objective=169.60  rel=0.0082\nIter 92 objective=171.00  rel=0.0081"
       ]
      },
      {
       "output_type": "stream",
       "stream": "stdout",
       "text": [
        "\nIter 93 objective=169.60  rel=0.0082\nIter 94 objective=171.00  rel=0.0081"
       ]
      },
      {
       "output_type": "stream",
       "stream": "stdout",
       "text": [
        "\nIter 95 objective=169.60  rel=0.0082\nIter 96 objective=171.00  rel=0.0081"
       ]
      },
      {
       "output_type": "stream",
       "stream": "stdout",
       "text": [
        "\nIter 97 objective=169.60  rel=0.0082\nIter 98 objective=171.00  rel=0.0081"
       ]
      },
      {
       "output_type": "stream",
       "stream": "stdout",
       "text": [
        "\nIter 99 objective=169.60  rel=0.0082\n[0 2]\nGenerate a random solution vector for hot start.\nIter 0 objective=172.03  rel=5812986.0753"
       ]
      },
      {
       "output_type": "stream",
       "stream": "stdout",
       "text": [
        "\nIter 1 objective=170.95  rel=0.0063\nIter 2 objective=172.26  rel=0.0076"
       ]
      },
      {
       "output_type": "stream",
       "stream": "stdout",
       "text": [
        "\nIter 3 objective=169.57  rel=0.0158\nIter 4 objective=171.22  rel=0.0096"
       ]
      },
      {
       "output_type": "stream",
       "stream": "stdout",
       "text": [
        "\nIter 5 objective=169.60  rel=0.0095\nIter 6 objective=171.00  rel=0.0081"
       ]
      },
      {
       "output_type": "stream",
       "stream": "stdout",
       "text": [
        "\nIter 7 objective=169.60  rel=0.0082\nIter 8 objective=171.00  rel=0.0081"
       ]
      },
      {
       "output_type": "stream",
       "stream": "stdout",
       "text": [
        "\nIter 9 objective=169.60  rel=0.0082\nIter 10 objective=171.00  rel=0.0081"
       ]
      },
      {
       "output_type": "stream",
       "stream": "stdout",
       "text": [
        "\nIter 11 objective=169.60  rel=0.0082\nIter 12 objective=171.00  rel=0.0081"
       ]
      },
      {
       "output_type": "stream",
       "stream": "stdout",
       "text": [
        "\nIter 13 objective=169.60  rel=0.0082\nIter 14 objective=171.00  rel=0.0081"
       ]
      },
      {
       "output_type": "stream",
       "stream": "stdout",
       "text": [
        "\nIter 15 objective=169.60  rel=0.0082\nIter 16 objective=171.00  rel=0.0081"
       ]
      },
      {
       "output_type": "stream",
       "stream": "stdout",
       "text": [
        "\nIter 17 objective=169.60  rel=0.0082\nIter 18 objective=171.00  rel=0.0081"
       ]
      },
      {
       "output_type": "stream",
       "stream": "stdout",
       "text": [
        "\nIter 19 objective=169.60  rel=0.0082\nIter 20 objective=171.00  rel=0.0081"
       ]
      },
      {
       "output_type": "stream",
       "stream": "stdout",
       "text": [
        "\nIter 21 objective=169.60  rel=0.0082\nIter 22 objective=171.00  rel=0.0081"
       ]
      },
      {
       "output_type": "stream",
       "stream": "stdout",
       "text": [
        "\nIter 23 objective=169.60  rel=0.0082\nIter 24 objective=171.00  rel=0.0081"
       ]
      },
      {
       "output_type": "stream",
       "stream": "stdout",
       "text": [
        "\nIter 25 objective=169.60  rel=0.0082\nIter 26 objective=171.00  rel=0.0081"
       ]
      },
      {
       "output_type": "stream",
       "stream": "stdout",
       "text": [
        "\nIter 27 objective=169.60  rel=0.0082\nIter 28 objective=171.00  rel=0.0081"
       ]
      },
      {
       "output_type": "stream",
       "stream": "stdout",
       "text": [
        "\nIter 29 objective=169.60  rel=0.0082\nIter 30 objective=171.00  rel=0.0081"
       ]
      },
      {
       "output_type": "stream",
       "stream": "stdout",
       "text": [
        "\nIter 31 objective=169.60  rel=0.0082\nIter 32 objective=171.00  rel=0.0081"
       ]
      },
      {
       "output_type": "stream",
       "stream": "stdout",
       "text": [
        "\nIter 33 objective=169.60  rel=0.0082\nIter 34 objective=171.00  rel=0.0081"
       ]
      },
      {
       "output_type": "stream",
       "stream": "stdout",
       "text": [
        "\nIter 35 objective=169.60  rel=0.0082\nIter 36 objective=171.00  rel=0.0081"
       ]
      },
      {
       "output_type": "stream",
       "stream": "stdout",
       "text": [
        "\nIter 37 objective=169.60  rel=0.0082\nIter 38 objective=171.00  rel=0.0081"
       ]
      },
      {
       "output_type": "stream",
       "stream": "stdout",
       "text": [
        "\nIter 39 objective=169.60  rel=0.0082\nIter 40 objective=171.00  rel=0.0081"
       ]
      },
      {
       "output_type": "stream",
       "stream": "stdout",
       "text": [
        "\nIter 41 objective=169.60  rel=0.0082\nIter 42 objective=171.00  rel=0.0081"
       ]
      },
      {
       "output_type": "stream",
       "stream": "stdout",
       "text": [
        "\nIter 43 objective=169.60  rel=0.0082\nIter 44 objective=171.00  rel=0.0081"
       ]
      },
      {
       "output_type": "stream",
       "stream": "stdout",
       "text": [
        "\nIter 45 objective=169.60  rel=0.0082\nIter 46 objective=171.00  rel=0.0081"
       ]
      },
      {
       "output_type": "stream",
       "stream": "stdout",
       "text": [
        "\nIter 47 objective=169.60  rel=0.0082\nIter 48 objective=171.00  rel=0.0081"
       ]
      },
      {
       "output_type": "stream",
       "stream": "stdout",
       "text": [
        "\nIter 49 objective=169.60  rel=0.0082\nIter 50 objective=171.00  rel=0.0081"
       ]
      },
      {
       "output_type": "stream",
       "stream": "stdout",
       "text": [
        "\nIter 51 objective=169.60  rel=0.0082\nIter 52 objective=171.00  rel=0.0081"
       ]
      },
      {
       "output_type": "stream",
       "stream": "stdout",
       "text": [
        "\nIter 53 objective=169.60  rel=0.0082\nIter 54 objective=171.00  rel=0.0081"
       ]
      },
      {
       "output_type": "stream",
       "stream": "stdout",
       "text": [
        "\nIter 55 objective=169.60  rel=0.0082\nIter 56 objective=171.00  rel=0.0081"
       ]
      },
      {
       "output_type": "stream",
       "stream": "stdout",
       "text": [
        "\nIter 57 objective=169.60  rel=0.0082\nIter 58 objective=171.00  rel=0.0081"
       ]
      },
      {
       "output_type": "stream",
       "stream": "stdout",
       "text": [
        "\nIter 59 objective=169.60  rel=0.0082\nIter 60 objective=171.00  rel=0.0081"
       ]
      },
      {
       "output_type": "stream",
       "stream": "stdout",
       "text": [
        "\nIter 61 objective=169.60  rel=0.0082\nIter 62 objective=171.00  rel=0.0081"
       ]
      },
      {
       "output_type": "stream",
       "stream": "stdout",
       "text": [
        "\nIter 63 objective=169.60  rel=0.0082\nIter 64 objective=171.00  rel=0.0081"
       ]
      },
      {
       "output_type": "stream",
       "stream": "stdout",
       "text": [
        "\nIter 65 objective=169.60  rel=0.0082\nIter 66 objective=171.00  rel=0.0081"
       ]
      },
      {
       "output_type": "stream",
       "stream": "stdout",
       "text": [
        "\nIter 67 objective=169.60  rel=0.0082"
       ]
      },
      {
       "output_type": "stream",
       "stream": "stdout",
       "text": [
        "\nIter 68 objective=171.00  rel=0.0081\nIter 69 objective=169.60  rel=0.0082"
       ]
      },
      {
       "output_type": "stream",
       "stream": "stdout",
       "text": [
        "\nIter 70 objective=171.00  rel=0.0081\nIter 71 objective=169.60  rel=0.0082"
       ]
      },
      {
       "output_type": "stream",
       "stream": "stdout",
       "text": [
        "\nIter 72 objective=171.00  rel=0.0081\nIter 73 objective=169.60  rel=0.0082"
       ]
      },
      {
       "output_type": "stream",
       "stream": "stdout",
       "text": [
        "\nIter 74 objective=171.00  rel=0.0081\nIter 75 objective=169.60  rel=0.0082"
       ]
      },
      {
       "output_type": "stream",
       "stream": "stdout",
       "text": [
        "\nIter 76 objective=171.00  rel=0.0081\nIter 77 objective=169.60  rel=0.0082"
       ]
      },
      {
       "output_type": "stream",
       "stream": "stdout",
       "text": [
        "\nIter 78 objective=171.00  rel=0.0081\nIter 79 objective=169.60  rel=0.0082"
       ]
      },
      {
       "output_type": "stream",
       "stream": "stdout",
       "text": [
        "\nIter 80 objective=171.00  rel=0.0081\nIter 81 objective=169.60  rel=0.0082"
       ]
      },
      {
       "output_type": "stream",
       "stream": "stdout",
       "text": [
        "\nIter 82 objective=171.00  rel=0.0081\nIter 83 objective=169.60  rel=0.0082"
       ]
      },
      {
       "output_type": "stream",
       "stream": "stdout",
       "text": [
        "\nIter 84 objective=171.00  rel=0.0081\nIter 85 objective=169.60  rel=0.0082"
       ]
      },
      {
       "output_type": "stream",
       "stream": "stdout",
       "text": [
        "\nIter 86 objective=171.00  rel=0.0081\nIter 87 objective=169.60  rel=0.0082"
       ]
      },
      {
       "output_type": "stream",
       "stream": "stdout",
       "text": [
        "\nIter 88 objective=171.00  rel=0.0081\nIter 89 objective=169.60  rel=0.0082"
       ]
      },
      {
       "output_type": "stream",
       "stream": "stdout",
       "text": [
        "\nIter 90 objective=171.00  rel=0.0081\nIter 91 objective=169.60  rel=0.0082"
       ]
      },
      {
       "output_type": "stream",
       "stream": "stdout",
       "text": [
        "\nIter 92 objective=171.00  rel=0.0081\nIter 93 objective=169.60  rel=0.0082"
       ]
      },
      {
       "output_type": "stream",
       "stream": "stdout",
       "text": [
        "\nIter 94 objective=171.00  rel=0.0081\nIter 95 objective=169.60  rel=0.0082"
       ]
      },
      {
       "output_type": "stream",
       "stream": "stdout",
       "text": [
        "\nIter 96 objective=171.00  rel=0.0081\nIter 97 objective=169.60  rel=0.0082"
       ]
      },
      {
       "output_type": "stream",
       "stream": "stdout",
       "text": [
        "\nIter 98 objective=171.00  rel=0.0081\nIter 99 objective=169.60  rel=0.0082"
       ]
      },
      {
       "output_type": "stream",
       "stream": "stdout",
       "text": [
        "\n[1 3]\n"
       ]
      }
     ],
     "input": [
      "(foo, lats) = lsvr.train_dc(max_iter=100)"
     ],
     "language": "python",
     "prompt_number": 27
    },
    {
     "cell_type": "code",
     "metadata": {},
     "outputs": [],
     "input": [
      "(y_pred2, lats) = lsvr.apply(testMC)\n",
      "y_pred2 = np.array(y_pred2)\n",
      "lats = np.array(lats)"
     ],
     "language": "python",
     "prompt_number": 28
    },
    {
     "cell_type": "code",
     "metadata": {},
     "outputs": [],
     "input": [
      "# Train with plain SVR\n",
      "clf = SVR(kernel='linear', C=1e1)\n",
      "clf.fit(X_train, y_train.reshape(-1,))\n",
      "y_pred = clf.predict(X_test)"
     ],
     "language": "python",
     "prompt_number": 29
    },
    {
     "cell_type": "code",
     "metadata": {},
     "outputs": [
      {
       "output_type": "stream",
       "stream": "stdout",
       "text": [
        "------------------------------------------\nSVR mse:        0.205037631841\nLatentRR mse:  0.465356338121\n------------------------------------------\n"
       ]
      }
     ],
     "input": [
      "print('------------------------------------------')\n",
      "print 'SVR mse:       ',mean_squared_error(y_test, y_pred)\n",
      "print 'LatentRR mse: ',mean_squared_error(y_test, y_pred2)\n",
      "print('------------------------------------------')"
     ],
     "language": "python"
    },
    {
     "cell_type": "code",
     "metadata": {},
     "outputs": [],
     "input": [
      ""
     ],
     "language": "python"
    }
   ]
  }
 ],
 "cells": [],
 "metadata": {
  "name": "",
  "signature": "sha256:86563369b3d2a6ca34a6a4fd1169ad2c2337f6a55fa8597be389c9418a1c6923"
 },
 "nbformat": 3,
 "nbformat_minor": 0
}